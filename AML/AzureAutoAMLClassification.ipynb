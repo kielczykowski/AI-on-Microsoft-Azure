{
 "cells": [
  {
   "cell_type": "markdown",
   "id": "competitive-anthropology",
   "metadata": {},
   "source": [
    "# Classyfing semester grades regarding alcohol consumption and family situation between youg people"
   ]
  },
  {
   "cell_type": "markdown",
   "id": "brief-director",
   "metadata": {},
   "source": [
    "As a problem for this notebook I found dataset that is output of some kind of survey. Main purpose of this study was to find linkage between alcohol consumption, situation in household, student's ambition and final grade from school subject. This [dataset](https://www.kaggle.com/uciml/student-alcohol-consumption) contains mostly binary or discrete values and so is the final grade (number 0-20)\n",
    "\n",
    "In this notebook an effort was put to create and learn classification model. The following notebook shows how we can create, manipulate and upload data and training processess to Azure AutoML service.\n",
    "\n",
    "The following notebook consists of the following parts:\n",
    "1. [Dataset manipulation and cloud upload](#dataset)\n",
    "2. [Upload dataset to cloud](#dataset_upload)\n",
    "3. [Create and run AutoML Experiment](#experiment)\n",
    "4. [Retreive Training process logs and model](#training)\n",
    "\n",
    "#### IMPORTANT\n",
    "\n",
    "This notebook is not oriented on training or developing the best model. It's purpose is to show how easily experiments can be executed with automated cloud machine learning services and how flexible it can be to use cloud solution as opposed to configuring everything manually."
   ]
  },
  {
   "cell_type": "markdown",
   "id": "strange-navigator",
   "metadata": {},
   "source": [
    "### Requirements\n",
    "\n",
    "To run this notebook every package from the following section must be downloaded to machine. If anything is not installed please install this using pip into your environment."
   ]
  },
  {
   "cell_type": "markdown",
   "id": "caring-potato",
   "metadata": {},
   "source": [
    "### Necessary imports"
   ]
  },
  {
   "cell_type": "code",
   "execution_count": 52,
   "id": "stupid-crack",
   "metadata": {},
   "outputs": [],
   "source": [
    "from msrest.exceptions import HttpOperationError\n",
    "from azureml.core import Workspace, Datastore, Dataset\n",
    "from azureml.data.dataset_type_definitions import PromoteHeadersBehavior\n",
    "from azureml.train.automl import AutoMLConfig\n",
    "from azureml.core import Experiment\n",
    "\n",
    "\n",
    "\n",
    "import time\n",
    "from datetime import datetime\n",
    "from sklearn.metrics import accuracy_score\n",
    "import pandas as pd\n",
    "import os\n",
    "import logging"
   ]
  },
  {
   "cell_type": "markdown",
   "id": "little-filing",
   "metadata": {},
   "source": [
    "<a id=\"dataset\"></a>\n",
    "# 1.Dataset manipulation and cloud upload"
   ]
  },
  {
   "cell_type": "markdown",
   "id": "south-manual",
   "metadata": {},
   "source": [
    "# Clean dataset locally\n",
    "\n",
    "At first we need to make some changes to input data to make dataset computable. It is not possible to easily apply changes and load them straight online. More convenient way is to apply operations locally and then upload data to cloud.\n",
    "\n",
    "So lets load the dataset"
   ]
  },
  {
   "cell_type": "code",
   "execution_count": 53,
   "id": "biological-helmet",
   "metadata": {},
   "outputs": [],
   "source": [
    "school_dataset = pd.read_csv('original_data/mat.csv')"
   ]
  },
  {
   "cell_type": "markdown",
   "id": "roman-pioneer",
   "metadata": {},
   "source": [
    "First we list all variables and decide which are relevant and which are not"
   ]
  },
  {
   "cell_type": "code",
   "execution_count": 54,
   "id": "essential-genre",
   "metadata": {
    "scrolled": true
   },
   "outputs": [
    {
     "data": {
      "text/plain": [
       "Index(['school', 'sex', 'age', 'address', 'famsize', 'Pstatus', 'Medu', 'Fedu',\n",
       "       'Mjob', 'Fjob', 'reason', 'guardian', 'traveltime', 'studytime',\n",
       "       'failures', 'schoolsup', 'famsup', 'paid', 'activities', 'nursery',\n",
       "       'higher', 'internet', 'romantic', 'famrel', 'freetime', 'goout', 'Dalc',\n",
       "       'Walc', 'health', 'absences', 'G1', 'G2', 'G3'],\n",
       "      dtype='object')"
      ]
     },
     "execution_count": 54,
     "metadata": {},
     "output_type": "execute_result"
    }
   ],
   "source": [
    "# print all available collumns from dataset\n",
    "school_dataset.columns"
   ]
  },
  {
   "cell_type": "markdown",
   "id": "portuguese-authorization",
   "metadata": {},
   "source": [
    "Let's mark the data that we don't want to analyze during classification\n",
    "* drop mothers and fathers job, beacause it is not properly identifiable and cannot be easily distinguished and classified\n",
    "* reason - why they picked this school -  irrelevant too\n",
    "* nursery - attended nursery school - i dont want to take that into consideration\n",
    "\n",
    "NOTE: This operationd doesn't need to happen here. Azure API enables dropping columns before training process so we will upload them online just in case.\n",
    "\n"
   ]
  },
  {
   "cell_type": "code",
   "execution_count": 55,
   "id": "devoted-utility",
   "metadata": {},
   "outputs": [],
   "source": [
    "# school_dataset.drop(['Mjob', 'Fjob', 'reason', 'nursery'], axis=1)"
   ]
  },
  {
   "cell_type": "markdown",
   "id": "editorial-illness",
   "metadata": {},
   "source": [
    "Let's convert other values to numeric representations"
   ]
  },
  {
   "cell_type": "code",
   "execution_count": 34,
   "id": "interesting-virgin",
   "metadata": {},
   "outputs": [
    {
     "data": {
      "text/plain": [
       "array([1, 0])"
      ]
     },
     "execution_count": 34,
     "metadata": {},
     "output_type": "execute_result"
    }
   ],
   "source": [
    "# school - is binary because only two schools participated in study\n",
    "# GP - 1, MS - 0\n",
    "school_dataset['school'].replace({\"GP\": 1, \"MS\": 0}, inplace=True)\n",
    "school_dataset['school'].unique()"
   ]
  },
  {
   "cell_type": "code",
   "execution_count": 35,
   "id": "greek-royal",
   "metadata": {},
   "outputs": [
    {
     "data": {
      "text/plain": [
       "array([1, 0])"
      ]
     },
     "execution_count": 35,
     "metadata": {},
     "output_type": "execute_result"
    }
   ],
   "source": [
    "# sex, Female - 1, M - 0\n",
    "school_dataset['sex'].replace({\"F\": 1, \"M\": 0}, inplace=True)\n",
    "school_dataset['sex'].unique()"
   ]
  },
  {
   "cell_type": "code",
   "execution_count": 36,
   "id": "olive-boundary",
   "metadata": {},
   "outputs": [
    {
     "data": {
      "text/plain": [
       "array([1, 0])"
      ]
     },
     "execution_count": 36,
     "metadata": {},
     "output_type": "execute_result"
    }
   ],
   "source": [
    "# adress - U = urban places = 1, R = rural = 0\n",
    "school_dataset['address'].replace({\"U\": 1, \"R\": 0}, inplace=True)\n",
    "school_dataset['address'].unique()"
   ]
  },
  {
   "cell_type": "code",
   "execution_count": 37,
   "id": "limited-looking",
   "metadata": {},
   "outputs": [
    {
     "data": {
      "text/plain": [
       "array([1, 0])"
      ]
     },
     "execution_count": 37,
     "metadata": {},
     "output_type": "execute_result"
    }
   ],
   "source": [
    "# famsize - family size indicatin LE3 - 0 (less or equal to 3), GT3 - 1 (greater than 3)\n",
    "school_dataset['famsize'].replace({\"GT3\": 1, \"LE3\": 0}, inplace=True)\n",
    "school_dataset['famsize'].unique()"
   ]
  },
  {
   "cell_type": "code",
   "execution_count": 38,
   "id": "heavy-somerset",
   "metadata": {},
   "outputs": [
    {
     "data": {
      "text/plain": [
       "array([0, 1])"
      ]
     },
     "execution_count": 38,
     "metadata": {},
     "output_type": "execute_result"
    }
   ],
   "source": [
    "# Pstatus T - 1(Parents living together), A - 0 (Parents living apart)\n",
    "school_dataset['Pstatus'].replace({\"T\": 1, \"A\": 0}, inplace=True)\n",
    "school_dataset['Pstatus'].unique()"
   ]
  },
  {
   "cell_type": "code",
   "execution_count": 39,
   "id": "southern-scroll",
   "metadata": {},
   "outputs": [
    {
     "data": {
      "text/plain": [
       "array([2, 1, 0])"
      ]
     },
     "execution_count": 39,
     "metadata": {},
     "output_type": "execute_result"
    }
   ],
   "source": [
    "# guardian: indicating influence of father(1)/mother(2)/other(0)\n",
    "school_dataset['guardian'].replace({\"father\": 1, \"mother\": 2, \"other\": 0}, inplace=True)\n",
    "school_dataset['guardian'].unique()"
   ]
  },
  {
   "cell_type": "markdown",
   "id": "quantitative-floating",
   "metadata": {},
   "source": [
    "### Convert yes/no information to 1/0 adequatly\n",
    "\n",
    "* schoolsup - extra educational support yes - 1, no - 0\n",
    "* famsup - family educational support yes - 1, no - 0\n",
    "* paid - extra paid classes in matter of subject yes - 1, no - 0\n",
    "* activities - extra paid acivities yes - 1, no - 0\n",
    "* higher - want to take higher education yes - 1, no - 0\n",
    "* internet - has internet access at home\n",
    "* romantic - with a romantic relationship"
   ]
  },
  {
   "cell_type": "code",
   "execution_count": 40,
   "id": "double-fairy",
   "metadata": {},
   "outputs": [
    {
     "name": "stdout",
     "output_type": "stream",
     "text": [
      "[1 0]\n",
      "[0 1]\n",
      "[0 1]\n",
      "[0 1]\n",
      "[1 0]\n",
      "[0 1]\n",
      "[0 1]\n",
      "[1 0]\n"
     ]
    }
   ],
   "source": [
    "yes_no_to_numeric = [\n",
    "    'schoolsup', 'famsup', 'paid', 'activities',\n",
    "    'higher', 'internet', 'romantic', 'nursery'\n",
    "]\n",
    "\n",
    "for col in yes_no_to_numeric:\n",
    "    school_dataset[col].replace({\"yes\": 1, \"no\": 0}, inplace=True)\n",
    "    print(school_dataset[col].unique())"
   ]
  },
  {
   "cell_type": "markdown",
   "id": "isolated-vacuum",
   "metadata": {},
   "source": [
    "## other dataset columns description\n",
    "\n",
    "* Medu -  Mother's education (numeric: 0 - none, 1 - primary education (4th grade), 2 - 5th to 9th grade, 3 - secondary\n",
    "* Fedu - Father's education (numeric: 0 - none, 1 - primary education (4th grade), 2 - 5th to 9th grade, 3 - secondary\n",
    "* traveltime - Home to school travel time (numeric: 1 - &lt;15 min., 2 - 15 to 30 min., 3 - 30 min. to 1 hour, or 4 - &gt;1 hour)\n",
    "* studytime - Weekly study time (numeric: 1 - &lt;2 hours, 2 - 2 to 5 hours, 3 - 5 to 10 hours, or 4 - &gt;10 hours)\n",
    "* failures - Number of past class failures (numeric: n if 1&lt;=n&lt;3, else 4)\n",
    "* famrel - Quality of family relationships (numeric: from 1 - very bad to 5 - excellent)\n",
    "* freetime - Free time after school (numeric: from 1 - very low to 5 - very high)\n",
    "* goout - Going out with friends (numeric: from 1 - very low to 5 - very high)\n",
    "* Dalc - Workday alcohol consumption (numeric: from 1 - very low to 5 - very high)\n",
    "* Walc - Weekend alcohol consumption (numeric: from 1 - very low to 5 - very high)\n",
    "* health - Current health status (numeric: from 1 - very bad to 5 - very good)\n",
    "* absences - Number of school absences (numeric: from 0 to 93)\n",
    "* G1 - First period grade (numeric: from 0 to 20)\n",
    "* G2 - Second period grade (numeric: from 0 to 20)\n",
    "\n",
    "## OUTPUT VARIABLE\n",
    "\n",
    "* G3 - Final grade (numeric: from 0 to 20, output target)"
   ]
  },
  {
   "cell_type": "code",
   "execution_count": 41,
   "id": "missing-atmosphere",
   "metadata": {},
   "outputs": [],
   "source": [
    "# save data locally on disk\n",
    "school_dataset.to_csv('dataset/mat.csv')"
   ]
  },
  {
   "cell_type": "markdown",
   "id": "noble-client",
   "metadata": {},
   "source": [
    "<a id=\"dataset_upload\"></a>\n",
    "## 2. Upload dataset to cloud"
   ]
  },
  {
   "cell_type": "markdown",
   "id": "incomplete-exemption",
   "metadata": {},
   "source": [
    "# Configuration\n",
    "\n",
    "In this section we can specify which actions will be conducted on dataset"
   ]
  },
  {
   "cell_type": "code",
   "execution_count": 42,
   "id": "adapted-mounting",
   "metadata": {},
   "outputs": [],
   "source": [
    "# this variable indicates if we want to upload new dataset\n",
    "send_dataset_to_cloud = False\n",
    "#specify folder in which we have data for presentation\n",
    "local_dataset_source ='dataset'\n",
    "# indicate where do we upload our dataset in cloud and where do we get data from our cloud data blob\n",
    "upstream_dataset_path = 'datasets/tabular/'\n",
    "# specify where project effects will be stored\n",
    "project_folder = './AMLclassification'"
   ]
  },
  {
   "cell_type": "code",
   "execution_count": 43,
   "id": "valid-contamination",
   "metadata": {},
   "outputs": [],
   "source": [
    "#login to Microsoft account and connect with configured Azure workspace\n",
    "workspace = Workspace.from_config()"
   ]
  },
  {
   "cell_type": "markdown",
   "id": "cosmetic-generic",
   "metadata": {},
   "source": [
    "Function `from_config` loads `config.json` file from directory where the notebook is run from.\n",
    "\n",
    "File looks like the following example\n",
    "\n",
    "```\n",
    "{\n",
    "    \"subscription_id\": \"<your azure subscription id>\",\n",
    "    \"resource_group\": \"<resource group name where your AML resource is placed>\",\n",
    "    \"workspace_name\": \"<AML workspace name>\"\n",
    "}\n",
    "```"
   ]
  },
  {
   "cell_type": "markdown",
   "id": "focal-installation",
   "metadata": {},
   "source": [
    "## Upload dataset and retrieve it's cloud representation "
   ]
  },
  {
   "cell_type": "code",
   "execution_count": 44,
   "id": "junior-description",
   "metadata": {},
   "outputs": [],
   "source": [
    "# get default AML workspace datastore to get datasets or upload new ones\n",
    "datastore = workspace.get_default_datastore()"
   ]
  },
  {
   "cell_type": "code",
   "execution_count": 45,
   "id": "interim-shame",
   "metadata": {},
   "outputs": [],
   "source": [
    "# decide if we want to upload data to cloud\n",
    "if send_dataset_to_cloud:\n",
    "    datastore.upload(\n",
    "        src_dir = local_dataset_source,\n",
    "        target_path = upstream_dataset_path,\n",
    "        overwrite = True,\n",
    "        show_progress = True)\n",
    "\n",
    "# specify dataset path and datastore which stores it\n",
    "datastore_paths = [\n",
    "    (datastore, upstream_dataset_path + 'mat.csv')\n",
    "#     (datastore, upstream_dataset_path + 'por.csv')\n",
    "]\n",
    "\n",
    "# read data from cloud blob as tabular data read from csv files\n",
    "school_dataset = Dataset.Tabular.from_delimited_files(\n",
    "    path=datastore_paths, separator=',',\n",
    "    header=PromoteHeadersBehavior.ALL_FILES_HAVE_SAME_HEADERS\n",
    ")"
   ]
  },
  {
   "cell_type": "markdown",
   "id": "ethical-tracker",
   "metadata": {},
   "source": [
    "### Drop irrelevant columns from online dataset"
   ]
  },
  {
   "cell_type": "code",
   "execution_count": 46,
   "id": "alpha-inspector",
   "metadata": {},
   "outputs": [],
   "source": [
    "school_dataset = school_dataset.drop_columns(['Mjob', 'Fjob', 'reason', 'nursery'])"
   ]
  },
  {
   "cell_type": "markdown",
   "id": "atlantic-shame",
   "metadata": {},
   "source": [
    "## Split dataset into train and test subsets"
   ]
  },
  {
   "cell_type": "code",
   "execution_count": 18,
   "id": "adequate-wichita",
   "metadata": {},
   "outputs": [],
   "source": [
    "train_dataset, test_dataset = school_dataset.random_split(0.9, seed=1)"
   ]
  },
  {
   "cell_type": "markdown",
   "id": "alone-blair",
   "metadata": {},
   "source": [
    "Please note that all this operations are made on Azure object. They look similar to scikit and pandas methods but they are just implemented in Azure in the following manner. It makes the process of adaptation to cloud solutions for Datascientists easier. \n",
    "\n",
    "To materialize the dataset as pandas dataframe in ipython we need to call `to_pandas_dataframe()` on Azure object."
   ]
  },
  {
   "cell_type": "markdown",
   "id": "premium-criticism",
   "metadata": {},
   "source": [
    "<a id=\"experiment\"></a>\n",
    "## 3. Create and run AutoML Experiment"
   ]
  },
  {
   "cell_type": "markdown",
   "id": "interior-floating",
   "metadata": {},
   "source": [
    "### Check if there are any created AML compute instances in current workspace"
   ]
  },
  {
   "cell_type": "code",
   "execution_count": 47,
   "id": "satisfied-think",
   "metadata": {},
   "outputs": [
    {
     "data": {
      "text/plain": [
       "[AmlCompute(workspace=Workspace.create(name='AMLAlcohol', subscription_id='2e2771d1-53f9-4787-9bc8-31f23d10d063', resource_group='AMLAlcohol'), name=alcohol-cluster, id=/subscriptions/2e2771d1-53f9-4787-9bc8-31f23d10d063/resourceGroups/AMLAlcohol/providers/Microsoft.MachineLearningServices/workspaces/AMLAlcohol/computes/alcohol-cluster, type=AmlCompute, provisioning_state=Succeeded, location=northeurope, tags=None)]"
      ]
     },
     "execution_count": 47,
     "metadata": {},
     "output_type": "execute_result"
    }
   ],
   "source": [
    "from azureml.core.compute import AmlCompute\n",
    "from azureml.core.compute import ComputeTarget\n",
    "\n",
    "ComputeTarget.list(workspace)"
   ]
  },
  {
   "cell_type": "markdown",
   "id": "printable-sydney",
   "metadata": {},
   "source": [
    "#### Connect or create AML computing instance"
   ]
  },
  {
   "cell_type": "code",
   "execution_count": 48,
   "id": "younger-standing",
   "metadata": {},
   "outputs": [
    {
     "name": "stdout",
     "output_type": "stream",
     "text": [
      "Found existing training cluster.\n",
      "Checking cluster status...\n",
      "Succeeded\n",
      "AmlCompute wait for completion finished\n",
      "\n",
      "Minimum number of nodes requested have been provisioned\n"
     ]
    }
   ],
   "source": [
    "# Choose a name for your cluster.\n",
    "amlcompute_cluster_name = \"alcohol-cluster\"\n",
    "# lets assume that computing instance is not found\n",
    "is_cluster_found = False\n",
    "# get computation targets from given workspace\n",
    "compute_targets = workspace.compute_targets\n",
    "\n",
    "if amlcompute_cluster_name in compute_targets and compute_targets[amlcompute_cluster_name].type == 'AmlCompute':\n",
    "     is_cluster_found = True\n",
    "     print('Found existing training cluster.')\n",
    "     # Get existing cluster\n",
    "     aml_remote_compute = compute_targets[amlcompute_cluster_name]\n",
    "         \n",
    "# create new instance\n",
    "if not is_cluster_found:\n",
    "    print('Creating a new training cluster...')\n",
    "    provisioning_config = AmlCompute.provisioning_configuration(vm_size = \"STANDARD_DS2_V2\", # for GPU, use \"STANDARD_NC12\"\n",
    "                                                                 max_nodes = 20)\n",
    "    # Create the cluster.\n",
    "    aml_remote_compute = ComputeTarget.create(workspace, amlcompute_cluster_name, provisioning_config)\n",
    "\n",
    "\n",
    "print('Checking cluster status...')\n",
    "aml_remote_compute.wait_for_completion(show_output = True, min_node_count = 0, timeout_in_minutes = 20)"
   ]
  },
  {
   "cell_type": "markdown",
   "id": "center-spoke",
   "metadata": {},
   "source": [
    "#### Let's check which metrics can we use to evaluate classification model"
   ]
  },
  {
   "cell_type": "code",
   "execution_count": 21,
   "id": "revised-harvest",
   "metadata": {},
   "outputs": [
    {
     "data": {
      "text/plain": [
       "['precision_score_weighted',\n",
       " 'average_precision_score_weighted',\n",
       " 'norm_macro_recall',\n",
       " 'AUC_weighted',\n",
       " 'accuracy']"
      ]
     },
     "execution_count": 21,
     "metadata": {},
     "output_type": "execute_result"
    }
   ],
   "source": [
    "from azureml.train import automl\n",
    "\n",
    "automl.utilities.get_primary_metrics('classification')"
   ]
  },
  {
   "cell_type": "markdown",
   "id": "quarterly-roulette",
   "metadata": {},
   "source": [
    "### Let's define experiment configuration\n",
    "\n",
    "In this step we specify how the experiment would look like - decide if it's regression, classification or time series prediction task and many many more. All options and configurations can be found in [docs](https://docs.microsoft.com/pl-pl/python/api/azureml-train-automl-client/azureml.train.automl.automlconfig.automlconfig?view=azure-ml-py)"
   ]
  },
  {
   "cell_type": "code",
   "execution_count": 22,
   "id": "dedicated-prison",
   "metadata": {},
   "outputs": [],
   "source": [
    "# create local directory if not existent\n",
    "os.makedirs(project_folder, exist_ok=True)\n",
    "# let's create AML experiment settings\n",
    "automl_config = AutoMLConfig(\n",
    "    compute_target=aml_remote_compute,  # getting remote compute target on which we will run experiment\n",
    "     task='classification',  # multi class classification to predict final grade\n",
    "     primary_metric='accuracy',  # evaluate classifier performance by predictions accuracy -> anything from cell above can be used\n",
    "     experiment_timeout_minutes=15,  # stop evaluation after given number of minutes                     \n",
    "     training_data=train_dataset, # data for training\n",
    "     label_column_name=\"G3\",  # choose output variable as pandas column\n",
    "     n_cross_validations=5,  # number of crossvalidations to run on given dataset,                                                    \n",
    "     enable_early_stopping=True,  # enable earlier learn process termination\n",
    "     featurization='auto',  # let's enable cloud model to detect datatypes for each column\n",
    "     debug_log='alcohol_model_errors.log',  # set name for log file\n",
    "     verbosity=logging.INFO,  # set which logs should be visible \n",
    "     path=project_folder  # where to store AML project\n",
    ")\n"
   ]
  },
  {
   "cell_type": "markdown",
   "id": "intermediate-mediterranean",
   "metadata": {},
   "source": [
    "### Create and run AML Experiment on remote instance\n",
    "\n",
    "This part is the most crucial for training. In this step we send configured experiment to run on Azure. It is the core functionality of this notebook"
   ]
  },
  {
   "cell_type": "code",
   "execution_count": 23,
   "id": "running-afghanistan",
   "metadata": {},
   "outputs": [
    {
     "name": "stdout",
     "output_type": "stream",
     "text": [
      "school-alcohol-remote-experiment-01-26-2021-17\n",
      "Running on remote.\n",
      "No run_configuration provided, running on alcohol-cluster with default configuration\n",
      "Running on remote compute: alcohol-cluster\n",
      "Parent Run ID: AutoML_dfa3d70c-d04d-4e10-a6d2-22d449c6ea6c\n",
      "\n",
      "Current status: FeaturesGeneration. Generating features for the dataset.\n",
      "Current status: DatasetBalancing. Performing class balancing sweeping\n",
      "Current status: DatasetCrossValidationSplit. Generating individually featurized CV splits.\n",
      "Current status: ModelSelection. Beginning model selection.\n",
      "\n",
      "****************************************************************************************************\n",
      "DATA GUARDRAILS: \n",
      "\n",
      "TYPE:         Class balancing detection\n",
      "STATUS:       ALERTED\n",
      "DESCRIPTION:  To decrease model bias, please cancel the current run and fix balancing problem.\n",
      "              Learn more about imbalanced data: https://aka.ms/AutomatedMLImbalancedData\n",
      "DETAILS:      Imbalanced data can lead to a falsely perceived positive effect of a model's accuracy because the input data has bias towards one class.\n",
      "+---------------------------------+---------------------------------+--------------------------------------+\n",
      "|Size of the smallest class       |Name/Label of the smallest class |Number of samples in the training data|\n",
      "+=================================+=================================+======================================+\n",
      "|1                                |20                               |354                                   |\n",
      "+---------------------------------+---------------------------------+--------------------------------------+\n",
      "\n",
      "****************************************************************************************************\n",
      "\n",
      "TYPE:         Missing feature values imputation\n",
      "STATUS:       PASSED\n",
      "DESCRIPTION:  No feature missing values were detected in the training data.\n",
      "              Learn more about missing value imputation: https://aka.ms/AutomatedMLFeaturization\n",
      "\n",
      "****************************************************************************************************\n",
      "\n",
      "TYPE:         High cardinality feature detection\n",
      "STATUS:       PASSED\n",
      "DESCRIPTION:  Your inputs were analyzed, and no high cardinality features were detected.\n",
      "              Learn more about high cardinality feature handling: https://aka.ms/AutomatedMLFeaturization\n",
      "\n",
      "****************************************************************************************************\n",
      "\n",
      "****************************************************************************************************\n",
      "ITERATION: The iteration being evaluated.\n",
      "PIPELINE: A summary description of the pipeline being evaluated.\n",
      "DURATION: Time taken for the current iteration.\n",
      "METRIC: The result of computing score on the fitted pipeline.\n",
      "BEST: The best observed score thus far.\n",
      "****************************************************************************************************\n",
      "\n",
      " ITERATION   PIPELINE                                       DURATION      METRIC      BEST\n",
      "         0   MaxAbsScaler LightGBM                          0:00:48       0.3840    0.3840\n",
      "         1   MaxAbsScaler XGBoostClassifier                 0:00:48       0.4378    0.4378\n",
      "         2   MaxAbsScaler RandomForest                      0:00:45       0.4630    0.4630\n",
      "         3   MaxAbsScaler RandomForest                      0:00:42       0.3501    0.4630\n",
      "         4   MaxAbsScaler RandomForest                      0:00:45       0.3586    0.4630\n",
      "         5   MaxAbsScaler RandomForest                      0:00:42       0.1893    0.4630\n",
      "         6   SparseNormalizer XGBoostClassifier             0:00:51       0.4179    0.4630\n",
      "         7   MaxAbsScaler GradientBoosting                  0:00:54       0.3530    0.4630\n",
      "         8   MaxAbsScaler ExtremeRandomTrees                0:00:51       0.4377    0.4630\n",
      "         9   MaxAbsScaler LogisticRegression                0:00:49       0.3303    0.4630\n",
      "        10   StandardScalerWrapper RandomForest             0:00:45       0.5054    0.5054\n",
      "        11   SparseNormalizer XGBoostClassifier             0:00:49       0.4602    0.5054\n",
      "        12   MaxAbsScaler LightGBM                          0:00:40       0.2769    0.5054\n",
      "        13   StandardScalerWrapper LightGBM                 0:00:43       0.3559    0.5054\n",
      "        14   SparseNormalizer XGBoostClassifier             0:01:00       0.4376    0.5054\n",
      "        15    VotingEnsemble                                0:01:03       0.5111    0.5111\n",
      "        16    StackEnsemble                                 0:01:06       0.3672    0.5111\n",
      "Manual run timing: --- 1756.5636310577393 seconds needed for running the whole Remote AutoML Experiment ---\n"
     ]
    }
   ],
   "source": [
    "now = datetime.now()\n",
    "time_string = now.strftime(\"%m-%d-%Y-%H\")\n",
    "experiment_name = \"school-alcohol-remote-experiment-{0}\".format(time_string)\n",
    "print(experiment_name)\n",
    "\n",
    "experiment = Experiment(workspace=workspace, name=experiment_name)\n",
    "start_time = time.time()\n",
    "\n",
    "run = experiment.submit(automl_config, show_output=True)\n",
    "\n",
    "print('Manual run timing: --- %s seconds needed for running the whole Remote AutoML Experiment ---' % (time.time() - start_time))"
   ]
  },
  {
   "cell_type": "markdown",
   "id": "blank-briefs",
   "metadata": {},
   "source": [
    "<a id=\"training\"></a>\n",
    "## 4. Retreive Training process logs and model"
   ]
  },
  {
   "cell_type": "markdown",
   "id": "minute-module",
   "metadata": {},
   "source": [
    "### Let's look into results using Widget"
   ]
  },
  {
   "cell_type": "code",
   "execution_count": 49,
   "id": "multiple-scott",
   "metadata": {},
   "outputs": [
    {
     "data": {
      "application/vnd.jupyter.widget-view+json": {
       "model_id": "9088e51496294ef6aa79eb4d6abcb97e",
       "version_major": 2,
       "version_minor": 0
      },
      "text/plain": [
       "_AutoMLWidget(widget_settings={'childWidgetDisplay': 'popup', 'send_telemetry': False, 'log_level': 'INFO', 's…"
      ]
     },
     "metadata": {},
     "output_type": "display_data"
    },
    {
     "data": {
      "application/aml.mini.widget.v1": "{\"status\": \"Completed\", \"workbench_run_details_uri\": \"https://ml.azure.com/experiments/school-alcohol-remote-experiment-01-26-2021-17/runs/AutoML_dfa3d70c-d04d-4e10-a6d2-22d449c6ea6c?wsid=/subscriptions/2e2771d1-53f9-4787-9bc8-31f23d10d063/resourcegroups/AMLAlcohol/workspaces/AMLAlcohol\", \"run_id\": \"AutoML_dfa3d70c-d04d-4e10-a6d2-22d449c6ea6c\", \"run_properties\": {\"run_id\": \"AutoML_dfa3d70c-d04d-4e10-a6d2-22d449c6ea6c\", \"created_utc\": \"2021-01-26T16:09:07.282751Z\", \"properties\": {\"num_iterations\": \"1000\", \"training_type\": \"TrainFull\", \"acquisition_function\": \"EI\", \"primary_metric\": \"accuracy\", \"train_split\": \"0\", \"acquisition_parameter\": \"0\", \"num_cross_validation\": \"5\", \"target\": \"alcohol-cluster\", \"AMLSettingsJsonString\": \"{\\\"path\\\":null,\\\"name\\\":\\\"school-alcohol-remote-experiment-01-26-2021-17\\\",\\\"subscription_id\\\":\\\"2e2771d1-53f9-4787-9bc8-31f23d10d063\\\",\\\"resource_group\\\":\\\"AMLAlcohol\\\",\\\"workspace_name\\\":\\\"AMLAlcohol\\\",\\\"region\\\":\\\"northeurope\\\",\\\"compute_target\\\":\\\"alcohol-cluster\\\",\\\"spark_service\\\":null,\\\"azure_service\\\":\\\"remote\\\",\\\"many_models\\\":false,\\\"pipeline_fetch_max_batch_size\\\":1,\\\"iterations\\\":1000,\\\"primary_metric\\\":\\\"accuracy\\\",\\\"task_type\\\":\\\"classification\\\",\\\"data_script\\\":null,\\\"validation_size\\\":0.0,\\\"n_cross_validations\\\":5,\\\"y_min\\\":null,\\\"y_max\\\":null,\\\"num_classes\\\":null,\\\"featurization\\\":\\\"auto\\\",\\\"_ignore_package_version_incompatibilities\\\":false,\\\"is_timeseries\\\":false,\\\"max_cores_per_iteration\\\":1,\\\"max_concurrent_iterations\\\":1,\\\"iteration_timeout_minutes\\\":null,\\\"mem_in_mb\\\":null,\\\"enforce_time_on_windows\\\":false,\\\"experiment_timeout_minutes\\\":15,\\\"experiment_exit_score\\\":null,\\\"whitelist_models\\\":null,\\\"blacklist_algos\\\":[\\\"TensorFlowLinearClassifier\\\",\\\"TensorFlowDNN\\\"],\\\"supported_models\\\":[\\\"MultinomialNaiveBayes\\\",\\\"AveragedPerceptronClassifier\\\",\\\"LightGBM\\\",\\\"DecisionTree\\\",\\\"SVM\\\",\\\"ExtremeRandomTrees\\\",\\\"GradientBoosting\\\",\\\"RandomForest\\\",\\\"TensorFlowLinearClassifier\\\",\\\"LogisticRegression\\\",\\\"SGD\\\",\\\"BernoulliNaiveBayes\\\",\\\"LinearSVM\\\",\\\"TensorFlowDNN\\\",\\\"KNN\\\",\\\"XGBoostClassifier\\\"],\\\"auto_blacklist\\\":true,\\\"blacklist_samples_reached\\\":false,\\\"exclude_nan_labels\\\":true,\\\"verbosity\\\":20,\\\"_debug_log\\\":\\\"azureml_automl.log\\\",\\\"show_warnings\\\":false,\\\"model_explainability\\\":true,\\\"service_url\\\":null,\\\"sdk_url\\\":null,\\\"sdk_packages\\\":null,\\\"enable_onnx_compatible_models\\\":false,\\\"enable_split_onnx_featurizer_estimator_models\\\":false,\\\"vm_type\\\":\\\"STANDARD_DS2_V2\\\",\\\"telemetry_verbosity\\\":20,\\\"send_telemetry\\\":true,\\\"enable_dnn\\\":false,\\\"scenario\\\":\\\"SDK-1.13.0\\\",\\\"environment_label\\\":null,\\\"force_text_dnn\\\":false,\\\"enable_feature_sweeping\\\":true,\\\"enable_early_stopping\\\":true,\\\"early_stopping_n_iters\\\":10,\\\"metrics\\\":null,\\\"enable_ensembling\\\":true,\\\"enable_stack_ensembling\\\":true,\\\"ensemble_iterations\\\":15,\\\"enable_tf\\\":false,\\\"enable_subsampling\\\":null,\\\"subsample_seed\\\":null,\\\"enable_nimbusml\\\":false,\\\"enable_streaming\\\":false,\\\"force_streaming\\\":false,\\\"track_child_runs\\\":true,\\\"allowed_private_models\\\":[],\\\"label_column_name\\\":\\\"G3\\\",\\\"weight_column_name\\\":null,\\\"cv_split_column_names\\\":null,\\\"enable_local_managed\\\":false,\\\"_local_managed_run_id\\\":null,\\\"cost_mode\\\":1,\\\"lag_length\\\":0,\\\"metric_operation\\\":\\\"maximize\\\",\\\"preprocess\\\":true}\", \"DataPrepJsonString\": \"{\\\\\\\"training_data\\\\\\\": \\\\\\\"{\\\\\\\\\\\\\\\"blocks\\\\\\\\\\\\\\\": [{\\\\\\\\\\\\\\\"id\\\\\\\\\\\\\\\": \\\\\\\\\\\\\\\"7c74ec01-b703-404d-91d1-d1a2b8002421\\\\\\\\\\\\\\\", \\\\\\\\\\\\\\\"type\\\\\\\\\\\\\\\": \\\\\\\\\\\\\\\"Microsoft.DPrep.GetDatastoreFilesBlock\\\\\\\\\\\\\\\", \\\\\\\\\\\\\\\"arguments\\\\\\\\\\\\\\\": {\\\\\\\\\\\\\\\"datastores\\\\\\\\\\\\\\\": [{\\\\\\\\\\\\\\\"datastoreName\\\\\\\\\\\\\\\": \\\\\\\\\\\\\\\"workspaceblobstore\\\\\\\\\\\\\\\", \\\\\\\\\\\\\\\"path\\\\\\\\\\\\\\\": \\\\\\\\\\\\\\\"datasets/tabular/mat.csv\\\\\\\\\\\\\\\", \\\\\\\\\\\\\\\"resourceGroup\\\\\\\\\\\\\\\": \\\\\\\\\\\\\\\"AMLAlcohol\\\\\\\\\\\\\\\", \\\\\\\\\\\\\\\"subscription\\\\\\\\\\\\\\\": \\\\\\\\\\\\\\\"2e2771d1-53f9-4787-9bc8-31f23d10d063\\\\\\\\\\\\\\\", \\\\\\\\\\\\\\\"workspaceName\\\\\\\\\\\\\\\": \\\\\\\\\\\\\\\"AMLAlcohol\\\\\\\\\\\\\\\"}]}, \\\\\\\\\\\\\\\"localData\\\\\\\\\\\\\\\": {}, \\\\\\\\\\\\\\\"isEnabled\\\\\\\\\\\\\\\": true, \\\\\\\\\\\\\\\"name\\\\\\\\\\\\\\\": null, \\\\\\\\\\\\\\\"annotation\\\\\\\\\\\\\\\": null}, {\\\\\\\\\\\\\\\"id\\\\\\\\\\\\\\\": \\\\\\\\\\\\\\\"d5e25283-c863-4849-b99a-3d1b646acbc5\\\\\\\\\\\\\\\", \\\\\\\\\\\\\\\"type\\\\\\\\\\\\\\\": \\\\\\\\\\\\\\\"Microsoft.DPrep.ParseDelimitedBlock\\\\\\\\\\\\\\\", \\\\\\\\\\\\\\\"arguments\\\\\\\\\\\\\\\": {\\\\\\\\\\\\\\\"columnHeadersMode\\\\\\\\\\\\\\\": 3, \\\\\\\\\\\\\\\"fileEncoding\\\\\\\\\\\\\\\": 0, \\\\\\\\\\\\\\\"handleQuotedLineBreaks\\\\\\\\\\\\\\\": false, \\\\\\\\\\\\\\\"preview\\\\\\\\\\\\\\\": false, \\\\\\\\\\\\\\\"separator\\\\\\\\\\\\\\\": \\\\\\\\\\\\\\\",\\\\\\\\\\\\\\\", \\\\\\\\\\\\\\\"skipRows\\\\\\\\\\\\\\\": 0, \\\\\\\\\\\\\\\"skipRowsMode\\\\\\\\\\\\\\\": 0}, \\\\\\\\\\\\\\\"localData\\\\\\\\\\\\\\\": {}, \\\\\\\\\\\\\\\"isEnabled\\\\\\\\\\\\\\\": true, \\\\\\\\\\\\\\\"name\\\\\\\\\\\\\\\": null, \\\\\\\\\\\\\\\"annotation\\\\\\\\\\\\\\\": null}, {\\\\\\\\\\\\\\\"id\\\\\\\\\\\\\\\": \\\\\\\\\\\\\\\"e08e2bc2-6baa-428e-aa15-421d87dcda9d\\\\\\\\\\\\\\\", \\\\\\\\\\\\\\\"type\\\\\\\\\\\\\\\": \\\\\\\\\\\\\\\"Microsoft.DPrep.DropColumnsBlock\\\\\\\\\\\\\\\", \\\\\\\\\\\\\\\"arguments\\\\\\\\\\\\\\\": {\\\\\\\\\\\\\\\"columns\\\\\\\\\\\\\\\": {\\\\\\\\\\\\\\\"type\\\\\\\\\\\\\\\": 0, \\\\\\\\\\\\\\\"details\\\\\\\\\\\\\\\": {\\\\\\\\\\\\\\\"selectedColumns\\\\\\\\\\\\\\\": [\\\\\\\\\\\\\\\"Path\\\\\\\\\\\\\\\"]}}}, \\\\\\\\\\\\\\\"localData\\\\\\\\\\\\\\\": {}, \\\\\\\\\\\\\\\"isEnabled\\\\\\\\\\\\\\\": true, \\\\\\\\\\\\\\\"name\\\\\\\\\\\\\\\": null, \\\\\\\\\\\\\\\"annotation\\\\\\\\\\\\\\\": null}, {\\\\\\\\\\\\\\\"id\\\\\\\\\\\\\\\": \\\\\\\\\\\\\\\"941d1f56-3307-4eb2-b4c2-f5b977ba7d2f\\\\\\\\\\\\\\\", \\\\\\\\\\\\\\\"type\\\\\\\\\\\\\\\": \\\\\\\\\\\\\\\"Microsoft.DPrep.SetColumnTypesBlock\\\\\\\\\\\\\\\", \\\\\\\\\\\\\\\"arguments\\\\\\\\\\\\\\\": {\\\\\\\\\\\\\\\"columnConversion\\\\\\\\\\\\\\\": [{\\\\\\\\\\\\\\\"column\\\\\\\\\\\\\\\": {\\\\\\\\\\\\\\\"type\\\\\\\\\\\\\\\": 2, \\\\\\\\\\\\\\\"details\\\\\\\\\\\\\\\": {\\\\\\\\\\\\\\\"selectedColumn\\\\\\\\\\\\\\\": \\\\\\\\\\\\\\\"Column1\\\\\\\\\\\\\\\"}}, \\\\\\\\\\\\\\\"typeProperty\\\\\\\\\\\\\\\": 2}, {\\\\\\\\\\\\\\\"column\\\\\\\\\\\\\\\": {\\\\\\\\\\\\\\\"type\\\\\\\\\\\\\\\": 2, \\\\\\\\\\\\\\\"details\\\\\\\\\\\\\\\": {\\\\\\\\\\\\\\\"selectedColumn\\\\\\\\\\\\\\\": \\\\\\\\\\\\\\\"school\\\\\\\\\\\\\\\"}}, \\\\\\\\\\\\\\\"typeProperty\\\\\\\\\\\\\\\": 2}, {\\\\\\\\\\\\\\\"column\\\\\\\\\\\\\\\": {\\\\\\\\\\\\\\\"type\\\\\\\\\\\\\\\": 2, \\\\\\\\\\\\\\\"details\\\\\\\\\\\\\\\": {\\\\\\\\\\\\\\\"selectedColumn\\\\\\\\\\\\\\\": \\\\\\\\\\\\\\\"sex\\\\\\\\\\\\\\\"}}, \\\\\\\\\\\\\\\"typeProperty\\\\\\\\\\\\\\\": 2}, {\\\\\\\\\\\\\\\"column\\\\\\\\\\\\\\\": {\\\\\\\\\\\\\\\"type\\\\\\\\\\\\\\\": 2, \\\\\\\\\\\\\\\"details\\\\\\\\\\\\\\\": {\\\\\\\\\\\\\\\"selectedColumn\\\\\\\\\\\\\\\": \\\\\\\\\\\\\\\"age\\\\\\\\\\\\\\\"}}, \\\\\\\\\\\\\\\"typeProperty\\\\\\\\\\\\\\\": 2}, {\\\\\\\\\\\\\\\"column\\\\\\\\\\\\\\\": {\\\\\\\\\\\\\\\"type\\\\\\\\\\\\\\\": 2, \\\\\\\\\\\\\\\"details\\\\\\\\\\\\\\\": {\\\\\\\\\\\\\\\"selectedColumn\\\\\\\\\\\\\\\": \\\\\\\\\\\\\\\"address\\\\\\\\\\\\\\\"}}, \\\\\\\\\\\\\\\"typeProperty\\\\\\\\\\\\\\\": 2}, {\\\\\\\\\\\\\\\"column\\\\\\\\\\\\\\\": {\\\\\\\\\\\\\\\"type\\\\\\\\\\\\\\\": 2, \\\\\\\\\\\\\\\"details\\\\\\\\\\\\\\\": {\\\\\\\\\\\\\\\"selectedColumn\\\\\\\\\\\\\\\": \\\\\\\\\\\\\\\"famsize\\\\\\\\\\\\\\\"}}, \\\\\\\\\\\\\\\"typeProperty\\\\\\\\\\\\\\\": 2}, {\\\\\\\\\\\\\\\"column\\\\\\\\\\\\\\\": {\\\\\\\\\\\\\\\"type\\\\\\\\\\\\\\\": 2, \\\\\\\\\\\\\\\"details\\\\\\\\\\\\\\\": {\\\\\\\\\\\\\\\"selectedColumn\\\\\\\\\\\\\\\": \\\\\\\\\\\\\\\"Pstatus\\\\\\\\\\\\\\\"}}, \\\\\\\\\\\\\\\"typeProperty\\\\\\\\\\\\\\\": 2}, {\\\\\\\\\\\\\\\"column\\\\\\\\\\\\\\\": {\\\\\\\\\\\\\\\"type\\\\\\\\\\\\\\\": 2, \\\\\\\\\\\\\\\"details\\\\\\\\\\\\\\\": {\\\\\\\\\\\\\\\"selectedColumn\\\\\\\\\\\\\\\": \\\\\\\\\\\\\\\"Medu\\\\\\\\\\\\\\\"}}, \\\\\\\\\\\\\\\"typeProperty\\\\\\\\\\\\\\\": 2}, {\\\\\\\\\\\\\\\"column\\\\\\\\\\\\\\\": {\\\\\\\\\\\\\\\"type\\\\\\\\\\\\\\\": 2, \\\\\\\\\\\\\\\"details\\\\\\\\\\\\\\\": {\\\\\\\\\\\\\\\"selectedColumn\\\\\\\\\\\\\\\": \\\\\\\\\\\\\\\"Fedu\\\\\\\\\\\\\\\"}}, \\\\\\\\\\\\\\\"typeProperty\\\\\\\\\\\\\\\": 2}, {\\\\\\\\\\\\\\\"column\\\\\\\\\\\\\\\": {\\\\\\\\\\\\\\\"type\\\\\\\\\\\\\\\": 2, \\\\\\\\\\\\\\\"details\\\\\\\\\\\\\\\": {\\\\\\\\\\\\\\\"selectedColumn\\\\\\\\\\\\\\\": \\\\\\\\\\\\\\\"Mjob\\\\\\\\\\\\\\\"}}, \\\\\\\\\\\\\\\"typeProperty\\\\\\\\\\\\\\\": 0}, {\\\\\\\\\\\\\\\"column\\\\\\\\\\\\\\\": {\\\\\\\\\\\\\\\"type\\\\\\\\\\\\\\\": 2, \\\\\\\\\\\\\\\"details\\\\\\\\\\\\\\\": {\\\\\\\\\\\\\\\"selectedColumn\\\\\\\\\\\\\\\": \\\\\\\\\\\\\\\"Fjob\\\\\\\\\\\\\\\"}}, \\\\\\\\\\\\\\\"typeProperty\\\\\\\\\\\\\\\": 0}, {\\\\\\\\\\\\\\\"column\\\\\\\\\\\\\\\": {\\\\\\\\\\\\\\\"type\\\\\\\\\\\\\\\": 2, \\\\\\\\\\\\\\\"details\\\\\\\\\\\\\\\": {\\\\\\\\\\\\\\\"selectedColumn\\\\\\\\\\\\\\\": \\\\\\\\\\\\\\\"reason\\\\\\\\\\\\\\\"}}, \\\\\\\\\\\\\\\"typeProperty\\\\\\\\\\\\\\\": 0}, {\\\\\\\\\\\\\\\"column\\\\\\\\\\\\\\\": {\\\\\\\\\\\\\\\"type\\\\\\\\\\\\\\\": 2, \\\\\\\\\\\\\\\"details\\\\\\\\\\\\\\\": {\\\\\\\\\\\\\\\"selectedColumn\\\\\\\\\\\\\\\": \\\\\\\\\\\\\\\"guardian\\\\\\\\\\\\\\\"}}, \\\\\\\\\\\\\\\"typeProperty\\\\\\\\\\\\\\\": 2}, {\\\\\\\\\\\\\\\"column\\\\\\\\\\\\\\\": {\\\\\\\\\\\\\\\"type\\\\\\\\\\\\\\\": 2, \\\\\\\\\\\\\\\"details\\\\\\\\\\\\\\\": {\\\\\\\\\\\\\\\"selectedColumn\\\\\\\\\\\\\\\": \\\\\\\\\\\\\\\"traveltime\\\\\\\\\\\\\\\"}}, \\\\\\\\\\\\\\\"typeProperty\\\\\\\\\\\\\\\": 2}, {\\\\\\\\\\\\\\\"column\\\\\\\\\\\\\\\": {\\\\\\\\\\\\\\\"type\\\\\\\\\\\\\\\": 2, \\\\\\\\\\\\\\\"details\\\\\\\\\\\\\\\": {\\\\\\\\\\\\\\\"selectedColumn\\\\\\\\\\\\\\\": \\\\\\\\\\\\\\\"studytime\\\\\\\\\\\\\\\"}}, \\\\\\\\\\\\\\\"typeProperty\\\\\\\\\\\\\\\": 2}, {\\\\\\\\\\\\\\\"column\\\\\\\\\\\\\\\": {\\\\\\\\\\\\\\\"type\\\\\\\\\\\\\\\": 2, \\\\\\\\\\\\\\\"details\\\\\\\\\\\\\\\": {\\\\\\\\\\\\\\\"selectedColumn\\\\\\\\\\\\\\\": \\\\\\\\\\\\\\\"failures\\\\\\\\\\\\\\\"}}, \\\\\\\\\\\\\\\"typeProperty\\\\\\\\\\\\\\\": 2}, {\\\\\\\\\\\\\\\"column\\\\\\\\\\\\\\\": {\\\\\\\\\\\\\\\"type\\\\\\\\\\\\\\\": 2, \\\\\\\\\\\\\\\"details\\\\\\\\\\\\\\\": {\\\\\\\\\\\\\\\"selectedColumn\\\\\\\\\\\\\\\": \\\\\\\\\\\\\\\"schoolsup\\\\\\\\\\\\\\\"}}, \\\\\\\\\\\\\\\"typeProperty\\\\\\\\\\\\\\\": 2}, {\\\\\\\\\\\\\\\"column\\\\\\\\\\\\\\\": {\\\\\\\\\\\\\\\"type\\\\\\\\\\\\\\\": 2, \\\\\\\\\\\\\\\"details\\\\\\\\\\\\\\\": {\\\\\\\\\\\\\\\"selectedColumn\\\\\\\\\\\\\\\": \\\\\\\\\\\\\\\"famsup\\\\\\\\\\\\\\\"}}, \\\\\\\\\\\\\\\"typeProperty\\\\\\\\\\\\\\\": 2}, {\\\\\\\\\\\\\\\"column\\\\\\\\\\\\\\\": {\\\\\\\\\\\\\\\"type\\\\\\\\\\\\\\\": 2, \\\\\\\\\\\\\\\"details\\\\\\\\\\\\\\\": {\\\\\\\\\\\\\\\"selectedColumn\\\\\\\\\\\\\\\": \\\\\\\\\\\\\\\"paid\\\\\\\\\\\\\\\"}}, \\\\\\\\\\\\\\\"typeProperty\\\\\\\\\\\\\\\": 2}, {\\\\\\\\\\\\\\\"column\\\\\\\\\\\\\\\": {\\\\\\\\\\\\\\\"type\\\\\\\\\\\\\\\": 2, \\\\\\\\\\\\\\\"details\\\\\\\\\\\\\\\": {\\\\\\\\\\\\\\\"selectedColumn\\\\\\\\\\\\\\\": \\\\\\\\\\\\\\\"activities\\\\\\\\\\\\\\\"}}, \\\\\\\\\\\\\\\"typeProperty\\\\\\\\\\\\\\\": 2}, {\\\\\\\\\\\\\\\"column\\\\\\\\\\\\\\\": {\\\\\\\\\\\\\\\"type\\\\\\\\\\\\\\\": 2, \\\\\\\\\\\\\\\"details\\\\\\\\\\\\\\\": {\\\\\\\\\\\\\\\"selectedColumn\\\\\\\\\\\\\\\": \\\\\\\\\\\\\\\"nursery\\\\\\\\\\\\\\\"}}, \\\\\\\\\\\\\\\"typeProperty\\\\\\\\\\\\\\\": 2}, {\\\\\\\\\\\\\\\"column\\\\\\\\\\\\\\\": {\\\\\\\\\\\\\\\"type\\\\\\\\\\\\\\\": 2, \\\\\\\\\\\\\\\"details\\\\\\\\\\\\\\\": {\\\\\\\\\\\\\\\"selectedColumn\\\\\\\\\\\\\\\": \\\\\\\\\\\\\\\"higher\\\\\\\\\\\\\\\"}}, \\\\\\\\\\\\\\\"typeProperty\\\\\\\\\\\\\\\": 2}, {\\\\\\\\\\\\\\\"column\\\\\\\\\\\\\\\": {\\\\\\\\\\\\\\\"type\\\\\\\\\\\\\\\": 2, \\\\\\\\\\\\\\\"details\\\\\\\\\\\\\\\": {\\\\\\\\\\\\\\\"selectedColumn\\\\\\\\\\\\\\\": \\\\\\\\\\\\\\\"internet\\\\\\\\\\\\\\\"}}, \\\\\\\\\\\\\\\"typeProperty\\\\\\\\\\\\\\\": 2}, {\\\\\\\\\\\\\\\"column\\\\\\\\\\\\\\\": {\\\\\\\\\\\\\\\"type\\\\\\\\\\\\\\\": 2, \\\\\\\\\\\\\\\"details\\\\\\\\\\\\\\\": {\\\\\\\\\\\\\\\"selectedColumn\\\\\\\\\\\\\\\": \\\\\\\\\\\\\\\"romantic\\\\\\\\\\\\\\\"}}, \\\\\\\\\\\\\\\"typeProperty\\\\\\\\\\\\\\\": 2}, {\\\\\\\\\\\\\\\"column\\\\\\\\\\\\\\\": {\\\\\\\\\\\\\\\"type\\\\\\\\\\\\\\\": 2, \\\\\\\\\\\\\\\"details\\\\\\\\\\\\\\\": {\\\\\\\\\\\\\\\"selectedColumn\\\\\\\\\\\\\\\": \\\\\\\\\\\\\\\"famrel\\\\\\\\\\\\\\\"}}, \\\\\\\\\\\\\\\"typeProperty\\\\\\\\\\\\\\\": 2}, {\\\\\\\\\\\\\\\"column\\\\\\\\\\\\\\\": {\\\\\\\\\\\\\\\"type\\\\\\\\\\\\\\\": 2, \\\\\\\\\\\\\\\"details\\\\\\\\\\\\\\\": {\\\\\\\\\\\\\\\"selectedColumn\\\\\\\\\\\\\\\": \\\\\\\\\\\\\\\"freetime\\\\\\\\\\\\\\\"}}, \\\\\\\\\\\\\\\"typeProperty\\\\\\\\\\\\\\\": 2}, {\\\\\\\\\\\\\\\"column\\\\\\\\\\\\\\\": {\\\\\\\\\\\\\\\"type\\\\\\\\\\\\\\\": 2, \\\\\\\\\\\\\\\"details\\\\\\\\\\\\\\\": {\\\\\\\\\\\\\\\"selectedColumn\\\\\\\\\\\\\\\": \\\\\\\\\\\\\\\"goout\\\\\\\\\\\\\\\"}}, \\\\\\\\\\\\\\\"typeProperty\\\\\\\\\\\\\\\": 2}, {\\\\\\\\\\\\\\\"column\\\\\\\\\\\\\\\": {\\\\\\\\\\\\\\\"type\\\\\\\\\\\\\\\": 2, \\\\\\\\\\\\\\\"details\\\\\\\\\\\\\\\": {\\\\\\\\\\\\\\\"selectedColumn\\\\\\\\\\\\\\\": \\\\\\\\\\\\\\\"Dalc\\\\\\\\\\\\\\\"}}, \\\\\\\\\\\\\\\"typeProperty\\\\\\\\\\\\\\\": 2}, {\\\\\\\\\\\\\\\"column\\\\\\\\\\\\\\\": {\\\\\\\\\\\\\\\"type\\\\\\\\\\\\\\\": 2, \\\\\\\\\\\\\\\"details\\\\\\\\\\\\\\\": {\\\\\\\\\\\\\\\"selectedColumn\\\\\\\\\\\\\\\": \\\\\\\\\\\\\\\"Walc\\\\\\\\\\\\\\\"}}, \\\\\\\\\\\\\\\"typeProperty\\\\\\\\\\\\\\\": 2}, {\\\\\\\\\\\\\\\"column\\\\\\\\\\\\\\\": {\\\\\\\\\\\\\\\"type\\\\\\\\\\\\\\\": 2, \\\\\\\\\\\\\\\"details\\\\\\\\\\\\\\\": {\\\\\\\\\\\\\\\"selectedColumn\\\\\\\\\\\\\\\": \\\\\\\\\\\\\\\"health\\\\\\\\\\\\\\\"}}, \\\\\\\\\\\\\\\"typeProperty\\\\\\\\\\\\\\\": 2}, {\\\\\\\\\\\\\\\"column\\\\\\\\\\\\\\\": {\\\\\\\\\\\\\\\"type\\\\\\\\\\\\\\\": 2, \\\\\\\\\\\\\\\"details\\\\\\\\\\\\\\\": {\\\\\\\\\\\\\\\"selectedColumn\\\\\\\\\\\\\\\": \\\\\\\\\\\\\\\"absences\\\\\\\\\\\\\\\"}}, \\\\\\\\\\\\\\\"typeProperty\\\\\\\\\\\\\\\": 2}, {\\\\\\\\\\\\\\\"column\\\\\\\\\\\\\\\": {\\\\\\\\\\\\\\\"type\\\\\\\\\\\\\\\": 2, \\\\\\\\\\\\\\\"details\\\\\\\\\\\\\\\": {\\\\\\\\\\\\\\\"selectedColumn\\\\\\\\\\\\\\\": \\\\\\\\\\\\\\\"G1\\\\\\\\\\\\\\\"}}, \\\\\\\\\\\\\\\"typeProperty\\\\\\\\\\\\\\\": 2}, {\\\\\\\\\\\\\\\"column\\\\\\\\\\\\\\\": {\\\\\\\\\\\\\\\"type\\\\\\\\\\\\\\\": 2, \\\\\\\\\\\\\\\"details\\\\\\\\\\\\\\\": {\\\\\\\\\\\\\\\"selectedColumn\\\\\\\\\\\\\\\": \\\\\\\\\\\\\\\"G2\\\\\\\\\\\\\\\"}}, \\\\\\\\\\\\\\\"typeProperty\\\\\\\\\\\\\\\": 2}, {\\\\\\\\\\\\\\\"column\\\\\\\\\\\\\\\": {\\\\\\\\\\\\\\\"type\\\\\\\\\\\\\\\": 2, \\\\\\\\\\\\\\\"details\\\\\\\\\\\\\\\": {\\\\\\\\\\\\\\\"selectedColumn\\\\\\\\\\\\\\\": \\\\\\\\\\\\\\\"G3\\\\\\\\\\\\\\\"}}, \\\\\\\\\\\\\\\"typeProperty\\\\\\\\\\\\\\\": 2}]}, \\\\\\\\\\\\\\\"localData\\\\\\\\\\\\\\\": {}, \\\\\\\\\\\\\\\"isEnabled\\\\\\\\\\\\\\\": true, \\\\\\\\\\\\\\\"name\\\\\\\\\\\\\\\": null, \\\\\\\\\\\\\\\"annotation\\\\\\\\\\\\\\\": null}, {\\\\\\\\\\\\\\\"id\\\\\\\\\\\\\\\": \\\\\\\\\\\\\\\"2b059083-5f82-4eec-bc58-246c644d658f\\\\\\\\\\\\\\\", \\\\\\\\\\\\\\\"type\\\\\\\\\\\\\\\": \\\\\\\\\\\\\\\"Microsoft.DPrep.DropColumnsBlock\\\\\\\\\\\\\\\", \\\\\\\\\\\\\\\"arguments\\\\\\\\\\\\\\\": {\\\\\\\\\\\\\\\"columns\\\\\\\\\\\\\\\": {\\\\\\\\\\\\\\\"type\\\\\\\\\\\\\\\": 0, \\\\\\\\\\\\\\\"details\\\\\\\\\\\\\\\": {\\\\\\\\\\\\\\\"selectedColumns\\\\\\\\\\\\\\\": [\\\\\\\\\\\\\\\"Mjob\\\\\\\\\\\\\\\", \\\\\\\\\\\\\\\"Fjob\\\\\\\\\\\\\\\", \\\\\\\\\\\\\\\"reason\\\\\\\\\\\\\\\", \\\\\\\\\\\\\\\"nursery\\\\\\\\\\\\\\\"]}}}, \\\\\\\\\\\\\\\"localData\\\\\\\\\\\\\\\": {}, \\\\\\\\\\\\\\\"isEnabled\\\\\\\\\\\\\\\": true, \\\\\\\\\\\\\\\"name\\\\\\\\\\\\\\\": null, \\\\\\\\\\\\\\\"annotation\\\\\\\\\\\\\\\": null}, {\\\\\\\\\\\\\\\"id\\\\\\\\\\\\\\\": \\\\\\\\\\\\\\\"165ea1c1-cb68-46f7-8a40-dea6920bd0ff\\\\\\\\\\\\\\\", \\\\\\\\\\\\\\\"type\\\\\\\\\\\\\\\": \\\\\\\\\\\\\\\"Microsoft.DPrep.TakeSampleBlock\\\\\\\\\\\\\\\", \\\\\\\\\\\\\\\"arguments\\\\\\\\\\\\\\\": {\\\\\\\\\\\\\\\"probability\\\\\\\\\\\\\\\": 0.9, \\\\\\\\\\\\\\\"probabilityLowerBound\\\\\\\\\\\\\\\": 0.0, \\\\\\\\\\\\\\\"seed\\\\\\\\\\\\\\\": 1}, \\\\\\\\\\\\\\\"localData\\\\\\\\\\\\\\\": {}, \\\\\\\\\\\\\\\"isEnabled\\\\\\\\\\\\\\\": true, \\\\\\\\\\\\\\\"name\\\\\\\\\\\\\\\": null, \\\\\\\\\\\\\\\"annotation\\\\\\\\\\\\\\\": null}], \\\\\\\\\\\\\\\"inspectors\\\\\\\\\\\\\\\": [], \\\\\\\\\\\\\\\"meta\\\\\\\\\\\\\\\": {\\\\\\\\\\\\\\\"savedDatasetId\\\\\\\\\\\\\\\": \\\\\\\\\\\\\\\"956d5098-bc41-4bf8-bcd4-efda9197b765\\\\\\\\\\\\\\\", \\\\\\\\\\\\\\\"datasetType\\\\\\\\\\\\\\\": \\\\\\\\\\\\\\\"tabular\\\\\\\\\\\\\\\", \\\\\\\\\\\\\\\"subscriptionId\\\\\\\\\\\\\\\": \\\\\\\\\\\\\\\"2e2771d1-53f9-4787-9bc8-31f23d10d063\\\\\\\\\\\\\\\", \\\\\\\\\\\\\\\"workspaceId\\\\\\\\\\\\\\\": \\\\\\\\\\\\\\\"488c597f-8150-40be-8ffe-40418d86a77e\\\\\\\\\\\\\\\", \\\\\\\\\\\\\\\"workspaceLocation\\\\\\\\\\\\\\\": \\\\\\\\\\\\\\\"northeurope\\\\\\\\\\\\\\\"}}\\\\\\\", \\\\\\\"activities\\\\\\\": 0}\", \"EnableSubsampling\": null, \"runTemplate\": \"AutoML\", \"azureml.runsource\": \"automl\", \"display_task_type\": \"classification\", \"dependencies_versions\": \"{\\\"azureml-train\\\": \\\"1.21.0\\\", \\\"azureml-train-restclients-hyperdrive\\\": \\\"1.21.0\\\", \\\"azureml-train-core\\\": \\\"1.21.0\\\", \\\"azureml-train-automl\\\": \\\"1.18.0\\\", \\\"azureml-train-automl-runtime\\\": \\\"1.18.0.post1\\\", \\\"azureml-train-automl-client\\\": \\\"1.21.0\\\", \\\"azureml-telemetry\\\": \\\"1.21.0\\\", \\\"azureml-sdk\\\": \\\"1.21.0\\\", \\\"azureml-pipeline\\\": \\\"1.21.0\\\", \\\"azureml-pipeline-steps\\\": \\\"1.21.0\\\", \\\"azureml-pipeline-core\\\": \\\"1.21.0\\\", \\\"azureml-model-management-sdk\\\": \\\"1.0.1b6.post1\\\", \\\"azureml-interpret\\\": \\\"1.18.0\\\", \\\"azureml-defaults\\\": \\\"1.18.0\\\", \\\"azureml-dataset-runtime\\\": \\\"1.21.0\\\", \\\"azureml-dataprep\\\": \\\"2.8.2\\\", \\\"azureml-dataprep-rslex\\\": \\\"1.6.0\\\", \\\"azureml-dataprep-native\\\": \\\"28.0.0\\\", \\\"azureml-core\\\": \\\"1.21.0.post1\\\", \\\"azureml-automl-runtime\\\": \\\"1.18.0.post2\\\", \\\"azureml-automl-core\\\": \\\"1.21.0\\\"}\", \"_aml_system_scenario_identification\": \"Remote.Parent\", \"ClientType\": \"SDK\", \"environment_cpu_name\": \"AzureML-AutoML\", \"environment_cpu_label\": \"prod\", \"environment_gpu_name\": \"AzureML-AutoML-GPU\", \"environment_gpu_label\": \"prod\", \"root_attribution\": \"automl\", \"attribution\": \"AutoML\", \"Orchestrator\": \"AutoML\", \"CancelUri\": \"https://northeurope.experiments.azureml.net/jasmine/v1.0/subscriptions/2e2771d1-53f9-4787-9bc8-31f23d10d063/resourceGroups/AMLAlcohol/providers/Microsoft.MachineLearningServices/workspaces/AMLAlcohol/experimentids/a09fe29b-11ca-4f64-aa61-beeb3917d967/cancel/AutoML_dfa3d70c-d04d-4e10-a6d2-22d449c6ea6c\", \"ClientSdkVersion\": \"1.20.0.post1\", \"snapshotId\": \"00000000-0000-0000-0000-000000000000\", \"SetupRunId\": \"AutoML_dfa3d70c-d04d-4e10-a6d2-22d449c6ea6c_setup\", \"SetupRunContainerId\": \"dcid.AutoML_dfa3d70c-d04d-4e10-a6d2-22d449c6ea6c_setup\", \"FeaturizationRunJsonPath\": \"featurizer_container.json\", \"FeaturizationRunId\": \"AutoML_dfa3d70c-d04d-4e10-a6d2-22d449c6ea6c_featurize\", \"ProblemInfoJsonString\": \"{\\\"dataset_num_categorical\\\": 0, \\\"is_sparse\\\": true, \\\"subsampling\\\": false, \\\"dataset_classes\\\": 17, \\\"dataset_features\\\": 110, \\\"dataset_samples\\\": 354, \\\"single_frequency_class_detected\\\": true}\", \"ModelExplainRunId\": \"AutoML_dfa3d70c-d04d-4e10-a6d2-22d449c6ea6c_ModelExplain\", \"azureml.git.repository_uri\": \"git@github.com:kielczykowski/AI-on-Microsoft-Azure.git\", \"mlflow.source.git.repoURL\": \"git@github.com:kielczykowski/AI-on-Microsoft-Azure.git\", \"azureml.git.branch\": \"master\", \"mlflow.source.git.branch\": \"master\", \"azureml.git.commit\": \"7315c69213569a9d995a2db0cddc92e2bdb67340\", \"mlflow.source.git.commit\": \"7315c69213569a9d995a2db0cddc92e2bdb67340\", \"azureml.git.dirty\": \"False\"}, \"tags\": {\"model_explain_run\": \"best_run\", \"_aml_system_azureml.automlComponent\": \"AutoML\", \"pipeline_id\": \"\", \"score\": \"\", \"predicted_cost\": \"\", \"fit_time\": \"\", \"training_percent\": \"\", \"iteration\": \"\", \"run_preprocessor\": \"\", \"run_algorithm\": \"\", \"automl_best_child_run_id\": \"AutoML_dfa3d70c-d04d-4e10-a6d2-22d449c6ea6c_15\", \"model_explain_best_run_child_id\": \"AutoML_dfa3d70c-d04d-4e10-a6d2-22d449c6ea6c_15\"}, \"end_time_utc\": \"2021-01-26T16:37:56.441846Z\", \"status\": \"Completed\", \"log_files\": {}, \"log_groups\": [], \"run_duration\": \"0:28:49\", \"run_number\": \"1\", \"run_queued_details\": {\"status\": \"Completed\", \"details\": null}}, \"child_runs\": [{\"run_id\": \"AutoML_dfa3d70c-d04d-4e10-a6d2-22d449c6ea6c_0\", \"run_number\": 5, \"metric\": null, \"status\": \"Completed\", \"run_type\": \"azureml.scriptrun\", \"training_percent\": \"100\", \"start_time\": \"2021-01-26T16:20:16.691783Z\", \"end_time\": \"2021-01-26T16:21:04.235925Z\", \"created_time\": \"2021-01-26T16:20:06.014589Z\", \"created_time_dt\": \"2021-01-26T16:20:06.014589Z\", \"duration\": \"0:00:58\", \"iteration\": \"0\", \"goal\": \"accuracy_max\", \"run_name\": \"MaxAbsScaler, LightGBM\", \"run_properties\": \"copy=True\", \"primary_metric\": 0.38402414, \"best_metric\": 0.38402414}, {\"run_id\": \"AutoML_dfa3d70c-d04d-4e10-a6d2-22d449c6ea6c_1\", \"run_number\": 6, \"metric\": null, \"status\": \"Completed\", \"run_type\": \"azureml.scriptrun\", \"training_percent\": \"100\", \"start_time\": \"2021-01-26T16:21:16.352341Z\", \"end_time\": \"2021-01-26T16:22:04.849696Z\", \"created_time\": \"2021-01-26T16:21:05.024163Z\", \"created_time_dt\": \"2021-01-26T16:21:05.024163Z\", \"duration\": \"0:00:59\", \"iteration\": \"1\", \"goal\": \"accuracy_max\", \"run_name\": \"MaxAbsScaler, XGBoostClassifier\", \"run_properties\": \"copy=True\", \"primary_metric\": 0.43782696, \"best_metric\": 0.43782696}, {\"run_id\": \"AutoML_dfa3d70c-d04d-4e10-a6d2-22d449c6ea6c_2\", \"run_number\": 7, \"metric\": null, \"status\": \"Completed\", \"run_type\": \"azureml.scriptrun\", \"training_percent\": \"100\", \"start_time\": \"2021-01-26T16:22:17.441205Z\", \"end_time\": \"2021-01-26T16:23:02.608498Z\", \"created_time\": \"2021-01-26T16:22:06.325778Z\", \"created_time_dt\": \"2021-01-26T16:22:06.325778Z\", \"duration\": \"0:00:56\", \"iteration\": \"2\", \"goal\": \"accuracy_max\", \"run_name\": \"MaxAbsScaler, RandomForest\", \"run_properties\": \"copy=True\", \"primary_metric\": 0.46301811, \"best_metric\": 0.46301811}, {\"run_id\": \"AutoML_dfa3d70c-d04d-4e10-a6d2-22d449c6ea6c_3\", \"run_number\": 8, \"metric\": null, \"status\": \"Completed\", \"run_type\": \"azureml.scriptrun\", \"training_percent\": \"100\", \"start_time\": \"2021-01-26T16:23:14.13494Z\", \"end_time\": \"2021-01-26T16:23:55.824192Z\", \"created_time\": \"2021-01-26T16:23:04.426454Z\", \"created_time_dt\": \"2021-01-26T16:23:04.426454Z\", \"duration\": \"0:00:51\", \"iteration\": \"3\", \"goal\": \"accuracy_max\", \"run_name\": \"MaxAbsScaler, RandomForest\", \"run_properties\": \"copy=True\", \"primary_metric\": 0.35014085, \"best_metric\": 0.46301811}, {\"run_id\": \"AutoML_dfa3d70c-d04d-4e10-a6d2-22d449c6ea6c_4\", \"run_number\": 9, \"metric\": null, \"status\": \"Completed\", \"run_type\": \"azureml.scriptrun\", \"training_percent\": \"100\", \"start_time\": \"2021-01-26T16:24:07.838943Z\", \"end_time\": \"2021-01-26T16:24:52.398825Z\", \"created_time\": \"2021-01-26T16:23:58.127978Z\", \"created_time_dt\": \"2021-01-26T16:23:58.127978Z\", \"duration\": \"0:00:54\", \"iteration\": \"4\", \"goal\": \"accuracy_max\", \"run_name\": \"MaxAbsScaler, RandomForest\", \"run_properties\": \"copy=True\", \"primary_metric\": 0.35855131, \"best_metric\": 0.46301811}, {\"run_id\": \"AutoML_dfa3d70c-d04d-4e10-a6d2-22d449c6ea6c_5\", \"run_number\": 10, \"metric\": null, \"status\": \"Completed\", \"run_type\": \"azureml.scriptrun\", \"training_percent\": \"100\", \"start_time\": \"2021-01-26T16:25:06.165349Z\", \"end_time\": \"2021-01-26T16:25:48.642742Z\", \"created_time\": \"2021-01-26T16:24:55.007643Z\", \"created_time_dt\": \"2021-01-26T16:24:55.007643Z\", \"duration\": \"0:00:53\", \"iteration\": \"5\", \"goal\": \"accuracy_max\", \"run_name\": \"MaxAbsScaler, RandomForest\", \"run_properties\": \"copy=True\", \"primary_metric\": 0.18933602, \"best_metric\": 0.46301811}, {\"run_id\": \"AutoML_dfa3d70c-d04d-4e10-a6d2-22d449c6ea6c_6\", \"run_number\": 11, \"metric\": null, \"status\": \"Completed\", \"run_type\": \"azureml.scriptrun\", \"training_percent\": \"100\", \"start_time\": \"2021-01-26T16:26:02.292644Z\", \"end_time\": \"2021-01-26T16:26:53.493812Z\", \"created_time\": \"2021-01-26T16:25:50.207423Z\", \"created_time_dt\": \"2021-01-26T16:25:50.207423Z\", \"duration\": \"0:01:03\", \"iteration\": \"6\", \"goal\": \"accuracy_max\", \"run_name\": \"SparseNormalizer, XGBoostClassifier\", \"run_properties\": \"<azureml.automl.runtime.shared.model_wrappers.SparseNormalizer object at 0x7f4e56762c18\", \"primary_metric\": 0.41790744, \"best_metric\": 0.46301811}, {\"run_id\": \"AutoML_dfa3d70c-d04d-4e10-a6d2-22d449c6ea6c_7\", \"run_number\": 12, \"metric\": null, \"status\": \"Completed\", \"run_type\": \"azureml.scriptrun\", \"training_percent\": \"100\", \"start_time\": \"2021-01-26T16:27:07.931389Z\", \"end_time\": \"2021-01-26T16:28:02.056321Z\", \"created_time\": \"2021-01-26T16:26:56.022499Z\", \"created_time_dt\": \"2021-01-26T16:26:56.022499Z\", \"duration\": \"0:01:06\", \"iteration\": \"7\", \"goal\": \"accuracy_max\", \"run_name\": \"MaxAbsScaler, GradientBoosting\", \"run_properties\": \"copy=True\", \"primary_metric\": 0.35299799, \"best_metric\": 0.46301811}, {\"run_id\": \"AutoML_dfa3d70c-d04d-4e10-a6d2-22d449c6ea6c_8\", \"run_number\": 13, \"metric\": null, \"status\": \"Completed\", \"run_type\": \"azureml.scriptrun\", \"training_percent\": \"100\", \"start_time\": \"2021-01-26T16:28:14.860251Z\", \"end_time\": \"2021-01-26T16:29:05.710238Z\", \"created_time\": \"2021-01-26T16:28:03.836457Z\", \"created_time_dt\": \"2021-01-26T16:28:03.836457Z\", \"duration\": \"0:01:01\", \"iteration\": \"8\", \"goal\": \"accuracy_max\", \"run_name\": \"MaxAbsScaler, ExtremeRandomTrees\", \"run_properties\": \"copy=True\", \"primary_metric\": 0.43770624, \"best_metric\": 0.46301811}, {\"run_id\": \"AutoML_dfa3d70c-d04d-4e10-a6d2-22d449c6ea6c_9\", \"run_number\": 14, \"metric\": null, \"status\": \"Completed\", \"run_type\": \"azureml.scriptrun\", \"training_percent\": \"100\", \"start_time\": \"2021-01-26T16:29:22.49022Z\", \"end_time\": \"2021-01-26T16:30:11.018441Z\", \"created_time\": \"2021-01-26T16:29:08.59005Z\", \"created_time_dt\": \"2021-01-26T16:29:08.59005Z\", \"duration\": \"0:01:02\", \"iteration\": \"9\", \"goal\": \"accuracy_max\", \"run_name\": \"MaxAbsScaler, LogisticRegression\", \"run_properties\": \"copy=True\", \"primary_metric\": 0.33034205, \"best_metric\": 0.46301811}, {\"run_id\": \"AutoML_dfa3d70c-d04d-4e10-a6d2-22d449c6ea6c_10\", \"run_number\": 15, \"metric\": null, \"status\": \"Completed\", \"run_type\": \"azureml.scriptrun\", \"training_percent\": \"100\", \"start_time\": \"2021-01-26T16:30:24.238846Z\", \"end_time\": \"2021-01-26T16:31:08.826355Z\", \"created_time\": \"2021-01-26T16:30:13.697677Z\", \"created_time_dt\": \"2021-01-26T16:30:13.697677Z\", \"duration\": \"0:00:55\", \"iteration\": \"10\", \"goal\": \"accuracy_max\", \"run_name\": \"StandardScalerWrapper, RandomForest\", \"run_properties\": \"<azureml.automl.runtime.shared.model_wrappers.StandardScalerWrapper object at 0x7f3a04c0a400\", \"primary_metric\": 0.50535211, \"best_metric\": 0.50535211}, {\"run_id\": \"AutoML_dfa3d70c-d04d-4e10-a6d2-22d449c6ea6c_11\", \"run_number\": 16, \"metric\": null, \"status\": \"Completed\", \"run_type\": \"azureml.scriptrun\", \"training_percent\": \"100\", \"start_time\": \"2021-01-26T16:31:24.254872Z\", \"end_time\": \"2021-01-26T16:32:13.196188Z\", \"created_time\": \"2021-01-26T16:31:11.064765Z\", \"created_time_dt\": \"2021-01-26T16:31:11.064765Z\", \"duration\": \"0:01:02\", \"iteration\": \"11\", \"goal\": \"accuracy_max\", \"run_name\": \"SparseNormalizer, XGBoostClassifier\", \"run_properties\": \"<azureml.automl.runtime.shared.model_wrappers.SparseNormalizer object at 0x7fc464fca7b8\", \"primary_metric\": 0.46020121, \"best_metric\": 0.50535211}, {\"run_id\": \"AutoML_dfa3d70c-d04d-4e10-a6d2-22d449c6ea6c_12\", \"run_number\": 17, \"metric\": null, \"status\": \"Completed\", \"run_type\": \"azureml.scriptrun\", \"training_percent\": \"100\", \"start_time\": \"2021-01-26T16:32:31.202664Z\", \"end_time\": \"2021-01-26T16:33:11.289403Z\", \"created_time\": \"2021-01-26T16:32:15.712207Z\", \"created_time_dt\": \"2021-01-26T16:32:15.712207Z\", \"duration\": \"0:00:55\", \"iteration\": \"12\", \"goal\": \"accuracy_max\", \"run_name\": \"MaxAbsScaler, LightGBM\", \"run_properties\": \"copy=True\", \"primary_metric\": 0.27686117, \"best_metric\": 0.50535211}, {\"run_id\": \"AutoML_dfa3d70c-d04d-4e10-a6d2-22d449c6ea6c_13\", \"run_number\": 18, \"metric\": null, \"status\": \"Completed\", \"run_type\": \"azureml.scriptrun\", \"training_percent\": \"100\", \"start_time\": \"2021-01-26T16:33:25.542961Z\", \"end_time\": \"2021-01-26T16:34:08.461547Z\", \"created_time\": \"2021-01-26T16:33:13.652944Z\", \"created_time_dt\": \"2021-01-26T16:33:13.652944Z\", \"duration\": \"0:00:54\", \"iteration\": \"13\", \"goal\": \"accuracy_max\", \"run_name\": \"StandardScalerWrapper, LightGBM\", \"run_properties\": \"<azureml.automl.runtime.shared.model_wrappers.StandardScalerWrapper object at 0x7faa1334f550\", \"primary_metric\": 0.35585513, \"best_metric\": 0.50535211}, {\"run_id\": \"AutoML_dfa3d70c-d04d-4e10-a6d2-22d449c6ea6c_14\", \"run_number\": 19, \"metric\": null, \"status\": \"Completed\", \"run_type\": \"azureml.scriptrun\", \"training_percent\": \"100\", \"start_time\": \"2021-01-26T16:34:21.002137Z\", \"end_time\": \"2021-01-26T16:35:20.533697Z\", \"created_time\": \"2021-01-26T16:34:10.933737Z\", \"created_time_dt\": \"2021-01-26T16:34:10.933737Z\", \"duration\": \"0:01:09\", \"iteration\": \"14\", \"goal\": \"accuracy_max\", \"run_name\": \"SparseNormalizer, XGBoostClassifier\", \"run_properties\": \"<azureml.automl.runtime.shared.model_wrappers.SparseNormalizer object at 0x7ff50a987b00\", \"primary_metric\": 0.43758551, \"best_metric\": 0.50535211}, {\"run_id\": \"AutoML_dfa3d70c-d04d-4e10-a6d2-22d449c6ea6c_15\", \"run_number\": 20, \"metric\": null, \"status\": \"Completed\", \"run_type\": \"azureml.scriptrun\", \"training_percent\": \"100\", \"start_time\": \"2021-01-26T16:35:31.504304Z\", \"end_time\": \"2021-01-26T16:36:34.458492Z\", \"created_time\": \"2021-01-26T16:35:21.263796Z\", \"created_time_dt\": \"2021-01-26T16:35:21.263796Z\", \"duration\": \"0:01:13\", \"iteration\": \"15\", \"goal\": \"accuracy_max\", \"run_name\": \"VotingEnsemble\", \"run_properties\": \"classification_labels=None,\\n                              estimators=[('10',\\n                                           Pipeline(memory=None,\\n                                                    steps=[('standardscalerwrapper',\\n                                                            <azureml.automl.runtime.shared.model_wrappers.StandardScalerWrapper object at 0x7fbf5bf36080>\", \"primary_metric\": 0.5110664, \"best_metric\": 0.5110664}, {\"run_id\": \"AutoML_dfa3d70c-d04d-4e10-a6d2-22d449c6ea6c_16\", \"run_number\": 21, \"metric\": null, \"status\": \"Completed\", \"run_type\": \"azureml.scriptrun\", \"training_percent\": \"100\", \"start_time\": \"2021-01-26T16:36:45.823433Z\", \"end_time\": \"2021-01-26T16:37:51.843009Z\", \"created_time\": \"2021-01-26T16:36:35.764661Z\", \"created_time_dt\": \"2021-01-26T16:36:35.764661Z\", \"duration\": \"0:01:16\", \"iteration\": \"16\", \"goal\": \"accuracy_max\", \"run_name\": \"StackEnsemble\", \"run_properties\": \"base_learners=[('10',\\n                                        Pipeline(memory=None,\\n                                                 steps=[('standardscalerwrapper',\\n                                                         <azureml.automl.runtime.shared.model_wrappers.StandardScalerWrapper object at 0x7fd92d3afac8>\", \"primary_metric\": 0.36716298, \"best_metric\": 0.5110664}], \"children_metrics\": {\"categories\": [0], \"series\": {\"log_loss\": [{\"categories\": [\"0\", \"1\", \"2\", \"3\", \"4\", \"5\", \"6\", \"7\", \"8\", \"9\", \"10\", \"11\", \"12\", \"13\", \"14\", \"15\", \"16\"], \"mode\": \"markers\", \"name\": \"log_loss\", \"stepped\": false, \"type\": \"scatter\", \"data\": [2.4839758195635513, 1.8853198816750953, 1.7449000510704287, 2.337168046050373, 2.472307669150286, 2.7738702102096195, 1.983079943138937, 2.2322913826071975, 1.8657500631941517, 2.3067583199323325, 1.6716405803851095, 2.026005083604754, 2.5399477451853216, 2.3976723868367946, 1.910868307042696, 1.7842468707543517, 2.084229094514469]}, {\"categories\": [\"0\", \"1\", \"2\", \"3\", \"4\", \"5\", \"6\", \"7\", \"8\", \"9\", \"10\", \"11\", \"12\", \"13\", \"14\", \"15\", \"16\"], \"mode\": \"lines\", \"name\": \"log_loss_min\", \"stepped\": true, \"type\": \"scatter\", \"data\": [2.4839758195635513, 1.8853198816750953, 1.7449000510704287, 1.7449000510704287, 1.7449000510704287, 1.7449000510704287, 1.7449000510704287, 1.7449000510704287, 1.7449000510704287, 1.7449000510704287, 1.6716405803851095, 1.6716405803851095, 1.6716405803851095, 1.6716405803851095, 1.6716405803851095, 1.6716405803851095, 1.6716405803851095]}], \"weighted_accuracy\": [{\"categories\": [\"0\", \"1\", \"2\", \"3\", \"4\", \"5\", \"6\", \"7\", \"8\", \"9\", \"10\", \"11\", \"12\", \"13\", \"14\", \"15\", \"16\"], \"mode\": \"markers\", \"name\": \"weighted_accuracy\", \"stepped\": false, \"type\": \"scatter\", \"data\": [0.4240582134458865, 0.4598955177762763, 0.5028848059959257, 0.4089239699840081, 0.3707639125648906, 0.1889752651902887, 0.45088986606771353, 0.4116266904270918, 0.5110632287854953, 0.34913744058120744, 0.5581869637319972, 0.5043925903311125, 0.3720274039202406, 0.44030319389239897, 0.47654050451863766, 0.5680302135335668, 0.42360713181102705]}, {\"categories\": [\"0\", \"1\", \"2\", \"3\", \"4\", \"5\", \"6\", \"7\", \"8\", \"9\", \"10\", \"11\", \"12\", \"13\", \"14\", \"15\", \"16\"], \"mode\": \"lines\", \"name\": \"weighted_accuracy_max\", \"stepped\": true, \"type\": \"scatter\", \"data\": [0.4240582134458865, 0.4598955177762763, 0.5028848059959257, 0.5028848059959257, 0.5028848059959257, 0.5028848059959257, 0.5028848059959257, 0.5028848059959257, 0.5110632287854953, 0.5110632287854953, 0.5581869637319972, 0.5581869637319972, 0.5581869637319972, 0.5581869637319972, 0.5581869637319972, 0.5680302135335668, 0.5680302135335668]}], \"average_precision_score_micro\": [{\"categories\": [\"0\", \"1\", \"2\", \"3\", \"4\", \"5\", \"6\", \"7\", \"8\", \"9\", \"10\", \"11\", \"12\", \"13\", \"14\", \"15\", \"16\"], \"mode\": \"markers\", \"name\": \"average_precision_score_micro\", \"stepped\": false, \"type\": \"scatter\", \"data\": [0.32706160022141184, 0.418338090564531, 0.46173343800547856, 0.30935901445595165, 0.2733237000062897, 0.18518117869370934, 0.413434897339412, 0.3390746454685863, 0.39927117409347096, 0.2952937618764264, 0.4627422879972129, 0.4076516284559535, 0.23557947526535394, 0.3183195389580483, 0.42012978804511486, 0.4658190259177471, 0.3455708397983269]}, {\"categories\": [\"0\", \"1\", \"2\", \"3\", \"4\", \"5\", \"6\", \"7\", \"8\", \"9\", \"10\", \"11\", \"12\", \"13\", \"14\", \"15\", \"16\"], \"mode\": \"lines\", \"name\": \"average_precision_score_micro_max\", \"stepped\": true, \"type\": \"scatter\", \"data\": [0.32706160022141184, 0.418338090564531, 0.46173343800547856, 0.46173343800547856, 0.46173343800547856, 0.46173343800547856, 0.46173343800547856, 0.46173343800547856, 0.46173343800547856, 0.46173343800547856, 0.4627422879972129, 0.4627422879972129, 0.4627422879972129, 0.4627422879972129, 0.4627422879972129, 0.4658190259177471, 0.4658190259177471]}], \"AUC_macro\": [{\"categories\": [\"0\", \"1\", \"2\", \"3\", \"4\", \"5\", \"6\", \"7\", \"8\", \"9\", \"10\", \"11\", \"12\", \"13\", \"14\", \"15\", \"16\"], \"mode\": \"markers\", \"name\": \"AUC_macro\", \"stepped\": false, \"type\": \"scatter\", \"data\": [0.7659036747384282, 0.8435657751719547, 0.8903457809903126, 0.7808728698168602, 0.793740899125453, 0.7196150316284415, 0.8447252455157084, 0.7542553218670447, 0.8667792150721046, 0.8273072572737246, 0.897347877637481, 0.8422186888824909, 0.6955429117292308, 0.8112315311250885, 0.838392768783461, 0.90436343914667, 0.802779033346952]}, {\"categories\": [\"0\", \"1\", \"2\", \"3\", \"4\", \"5\", \"6\", \"7\", \"8\", \"9\", \"10\", \"11\", \"12\", \"13\", \"14\", \"15\", \"16\"], \"mode\": \"lines\", \"name\": \"AUC_macro_max\", \"stepped\": true, \"type\": \"scatter\", \"data\": [0.7659036747384282, 0.8435657751719547, 0.8903457809903126, 0.8903457809903126, 0.8903457809903126, 0.8903457809903126, 0.8903457809903126, 0.8903457809903126, 0.8903457809903126, 0.8903457809903126, 0.897347877637481, 0.897347877637481, 0.897347877637481, 0.897347877637481, 0.897347877637481, 0.90436343914667, 0.90436343914667]}], \"average_precision_score_weighted\": [{\"categories\": [\"0\", \"1\", \"2\", \"3\", \"4\", \"5\", \"6\", \"7\", \"8\", \"9\", \"10\", \"11\", \"12\", \"13\", \"14\", \"15\", \"16\"], \"mode\": \"markers\", \"name\": \"average_precision_score_weighted\", \"stepped\": false, \"type\": \"scatter\", \"data\": [0.4127632397553893, 0.5237499924690896, 0.5540913155987095, 0.4144634551165122, 0.4021791159400179, 0.3427165594845417, 0.5302398673162441, 0.41837768998239816, 0.5098940790205252, 0.4208472846687285, 0.5790962535839196, 0.5264243666616484, 0.32207057745401907, 0.452948252978557, 0.5229873564002896, 0.5911547204292196, 0.4694704678508589]}, {\"categories\": [\"0\", \"1\", \"2\", \"3\", \"4\", \"5\", \"6\", \"7\", \"8\", \"9\", \"10\", \"11\", \"12\", \"13\", \"14\", \"15\", \"16\"], \"mode\": \"lines\", \"name\": \"average_precision_score_weighted_max\", \"stepped\": true, \"type\": \"scatter\", \"data\": [0.4127632397553893, 0.5237499924690896, 0.5540913155987095, 0.5540913155987095, 0.5540913155987095, 0.5540913155987095, 0.5540913155987095, 0.5540913155987095, 0.5540913155987095, 0.5540913155987095, 0.5790962535839196, 0.5790962535839196, 0.5790962535839196, 0.5790962535839196, 0.5790962535839196, 0.5911547204292196, 0.5911547204292196]}], \"f1_score_weighted\": [{\"categories\": [\"0\", \"1\", \"2\", \"3\", \"4\", \"5\", \"6\", \"7\", \"8\", \"9\", \"10\", \"11\", \"12\", \"13\", \"14\", \"15\", \"16\"], \"mode\": \"markers\", \"name\": \"f1_score_weighted\", \"stepped\": false, \"type\": \"scatter\", \"data\": [0.36149334260801425, 0.4381020323069392, 0.4337883129209762, 0.2868153331121578, 0.358108770728489, 0.196881947461742, 0.4019241888893047, 0.32845891806922006, 0.39087203239741497, 0.31431587631125874, 0.4688352124874551, 0.4340518517037881, 0.1941575173010977, 0.28731391345192075, 0.41407898224499184, 0.4818747134630157, 0.3150031622866621]}, {\"categories\": [\"0\", \"1\", \"2\", \"3\", \"4\", \"5\", \"6\", \"7\", \"8\", \"9\", \"10\", \"11\", \"12\", \"13\", \"14\", \"15\", \"16\"], \"mode\": \"lines\", \"name\": \"f1_score_weighted_max\", \"stepped\": true, \"type\": \"scatter\", \"data\": [0.36149334260801425, 0.4381020323069392, 0.4381020323069392, 0.4381020323069392, 0.4381020323069392, 0.4381020323069392, 0.4381020323069392, 0.4381020323069392, 0.4381020323069392, 0.4381020323069392, 0.4688352124874551, 0.4688352124874551, 0.4688352124874551, 0.4688352124874551, 0.4688352124874551, 0.4818747134630157, 0.4818747134630157]}], \"recall_score_weighted\": [{\"categories\": [\"0\", \"1\", \"2\", \"3\", \"4\", \"5\", \"6\", \"7\", \"8\", \"9\", \"10\", \"11\", \"12\", \"13\", \"14\", \"15\", \"16\"], \"mode\": \"markers\", \"name\": \"recall_score_weighted\", \"stepped\": false, \"type\": \"scatter\", \"data\": [0.3840241448692153, 0.43782696177062375, 0.4630181086519114, 0.35014084507042254, 0.35855130784708245, 0.1893360160965795, 0.41790744466800805, 0.35299798792756537, 0.43770623742454734, 0.33034205231388325, 0.5053521126760564, 0.4602012072434608, 0.276861167002012, 0.3558551307847082, 0.4375855130784708, 0.5110663983903421, 0.3671629778672032]}, {\"categories\": [\"0\", \"1\", \"2\", \"3\", \"4\", \"5\", \"6\", \"7\", \"8\", \"9\", \"10\", \"11\", \"12\", \"13\", \"14\", \"15\", \"16\"], \"mode\": \"lines\", \"name\": \"recall_score_weighted_max\", \"stepped\": true, \"type\": \"scatter\", \"data\": [0.3840241448692153, 0.43782696177062375, 0.4630181086519114, 0.4630181086519114, 0.4630181086519114, 0.4630181086519114, 0.4630181086519114, 0.4630181086519114, 0.4630181086519114, 0.4630181086519114, 0.5053521126760564, 0.5053521126760564, 0.5053521126760564, 0.5053521126760564, 0.5053521126760564, 0.5110663983903421, 0.5110663983903421]}], \"f1_score_micro\": [{\"categories\": [\"0\", \"1\", \"2\", \"3\", \"4\", \"5\", \"6\", \"7\", \"8\", \"9\", \"10\", \"11\", \"12\", \"13\", \"14\", \"15\", \"16\"], \"mode\": \"markers\", \"name\": \"f1_score_micro\", \"stepped\": false, \"type\": \"scatter\", \"data\": [0.3840241448692153, 0.43782696177062375, 0.4630181086519114, 0.35014084507042254, 0.35855130784708245, 0.1893360160965795, 0.41790744466800805, 0.35299798792756537, 0.43770623742454734, 0.33034205231388325, 0.5053521126760564, 0.4602012072434608, 0.276861167002012, 0.35585513078470826, 0.4375855130784708, 0.5110663983903421, 0.3671629778672032]}, {\"categories\": [\"0\", \"1\", \"2\", \"3\", \"4\", \"5\", \"6\", \"7\", \"8\", \"9\", \"10\", \"11\", \"12\", \"13\", \"14\", \"15\", \"16\"], \"mode\": \"lines\", \"name\": \"f1_score_micro_max\", \"stepped\": true, \"type\": \"scatter\", \"data\": [0.3840241448692153, 0.43782696177062375, 0.4630181086519114, 0.4630181086519114, 0.4630181086519114, 0.4630181086519114, 0.4630181086519114, 0.4630181086519114, 0.4630181086519114, 0.4630181086519114, 0.5053521126760564, 0.5053521126760564, 0.5053521126760564, 0.5053521126760564, 0.5053521126760564, 0.5110663983903421, 0.5110663983903421]}], \"average_precision_score_macro\": [{\"categories\": [\"0\", \"1\", \"2\", \"3\", \"4\", \"5\", \"6\", \"7\", \"8\", \"9\", \"10\", \"11\", \"12\", \"13\", \"14\", \"15\", \"16\"], \"mode\": \"markers\", \"name\": \"average_precision_score_macro\", \"stepped\": false, \"type\": \"scatter\", \"data\": [0.3423491608594558, 0.4914419493066761, 0.5085902963381248, 0.3556406285946282, 0.36307061806493085, 0.30140344081105236, 0.47748908201471496, 0.3203910130294787, 0.44157078429757035, 0.39848631682320407, 0.5448038145017167, 0.4762517338952776, 0.25434567461350877, 0.3632289353451352, 0.45979223653436624, 0.5556915566326309, 0.4139125615633924]}, {\"categories\": [\"0\", \"1\", \"2\", \"3\", \"4\", \"5\", \"6\", \"7\", \"8\", \"9\", \"10\", \"11\", \"12\", \"13\", \"14\", \"15\", \"16\"], \"mode\": \"lines\", \"name\": \"average_precision_score_macro_max\", \"stepped\": true, \"type\": \"scatter\", \"data\": [0.3423491608594558, 0.4914419493066761, 0.5085902963381248, 0.5085902963381248, 0.5085902963381248, 0.5085902963381248, 0.5085902963381248, 0.5085902963381248, 0.5085902963381248, 0.5085902963381248, 0.5448038145017167, 0.5448038145017167, 0.5448038145017167, 0.5448038145017167, 0.5448038145017167, 0.5556915566326309, 0.5556915566326309]}], \"precision_score_macro\": [{\"categories\": [\"0\", \"1\", \"2\", \"3\", \"4\", \"5\", \"6\", \"7\", \"8\", \"9\", \"10\", \"11\", \"12\", \"13\", \"14\", \"15\", \"16\"], \"mode\": \"markers\", \"name\": \"precision_score_macro\", \"stepped\": false, \"type\": \"scatter\", \"data\": [0.28480197381983097, 0.43404097985347984, 0.361212970123947, 0.201588490374022, 0.2747120293921764, 0.16838142249906957, 0.32438702258292584, 0.23590882034632035, 0.28952227930799357, 0.27681095937792366, 0.39742174836441757, 0.33638321078237043, 0.12915734846910337, 0.19783006096289305, 0.33914785694979743, 0.41685431334538475, 0.24244175161964918]}, {\"categories\": [\"0\", \"1\", \"2\", \"3\", \"4\", \"5\", \"6\", \"7\", \"8\", \"9\", \"10\", \"11\", \"12\", \"13\", \"14\", \"15\", \"16\"], \"mode\": \"lines\", \"name\": \"precision_score_macro_max\", \"stepped\": true, \"type\": \"scatter\", \"data\": [0.28480197381983097, 0.43404097985347984, 0.43404097985347984, 0.43404097985347984, 0.43404097985347984, 0.43404097985347984, 0.43404097985347984, 0.43404097985347984, 0.43404097985347984, 0.43404097985347984, 0.43404097985347984, 0.43404097985347984, 0.43404097985347984, 0.43404097985347984, 0.43404097985347984, 0.43404097985347984, 0.43404097985347984]}], \"norm_macro_recall\": [{\"categories\": [\"0\", \"1\", \"2\", \"3\", \"4\", \"5\", \"6\", \"7\", \"8\", \"9\", \"10\", \"11\", \"12\", \"13\", \"14\", \"15\", \"16\"], \"mode\": \"markers\", \"name\": \"norm_macro_recall\", \"stepped\": false, \"type\": \"scatter\", \"data\": [0.2711234400520115, 0.37888801674515965, 0.3773033712319426, 0.21273900702472132, 0.2900352425352425, 0.16054881626310197, 0.3340515436944008, 0.20582477046762757, 0.2912079983508555, 0.2656641374498518, 0.39881241774098913, 0.35529121671978814, 0.10803993625422197, 0.18769674769674768, 0.3229196200624772, 0.4009125398411112, 0.2421128474699903]}, {\"categories\": [\"0\", \"1\", \"2\", \"3\", \"4\", \"5\", \"6\", \"7\", \"8\", \"9\", \"10\", \"11\", \"12\", \"13\", \"14\", \"15\", \"16\"], \"mode\": \"lines\", \"name\": \"norm_macro_recall_max\", \"stepped\": true, \"type\": \"scatter\", \"data\": [0.2711234400520115, 0.37888801674515965, 0.37888801674515965, 0.37888801674515965, 0.37888801674515965, 0.37888801674515965, 0.37888801674515965, 0.37888801674515965, 0.37888801674515965, 0.37888801674515965, 0.39881241774098913, 0.39881241774098913, 0.39881241774098913, 0.39881241774098913, 0.39881241774098913, 0.4009125398411112, 0.4009125398411112]}], \"matthews_correlation\": [{\"categories\": [\"0\", \"1\", \"2\", \"3\", \"4\", \"5\", \"6\", \"7\", \"8\", \"9\", \"10\", \"11\", \"12\", \"13\", \"14\", \"15\", \"16\"], \"mode\": \"markers\", \"name\": \"matthews_correlation\", \"stepped\": false, \"type\": \"scatter\", \"data\": [0.32636252984231584, 0.38724648448624494, 0.4156125685690103, 0.28521040973963163, 0.3080136168202407, 0.14803403054026137, 0.3634291922883234, 0.29168560906038465, 0.38395720575578973, 0.266991787951269, 0.45979205109071, 0.41097894102653926, 0.20108442965498136, 0.29572996811277363, 0.38358391061231184, 0.46592399574524335, 0.323009632629648]}, {\"categories\": [\"0\", \"1\", \"2\", \"3\", \"4\", \"5\", \"6\", \"7\", \"8\", \"9\", \"10\", \"11\", \"12\", \"13\", \"14\", \"15\", \"16\"], \"mode\": \"lines\", \"name\": \"matthews_correlation_max\", \"stepped\": true, \"type\": \"scatter\", \"data\": [0.32636252984231584, 0.38724648448624494, 0.4156125685690103, 0.4156125685690103, 0.4156125685690103, 0.4156125685690103, 0.4156125685690103, 0.4156125685690103, 0.4156125685690103, 0.4156125685690103, 0.45979205109071, 0.45979205109071, 0.45979205109071, 0.45979205109071, 0.45979205109071, 0.46592399574524335, 0.46592399574524335]}], \"recall_score_macro\": [{\"categories\": [\"0\", \"1\", \"2\", \"3\", \"4\", \"5\", \"6\", \"7\", \"8\", \"9\", \"10\", \"11\", \"12\", \"13\", \"14\", \"15\", \"16\"], \"mode\": \"markers\", \"name\": \"recall_score_macro\", \"stepped\": false, \"type\": \"scatter\", \"data\": [0.2965037512091083, 0.38171828039685185, 0.37542631145309713, 0.2611879734022591, 0.2940077963975023, 0.15407755643049761, 0.3329761855208283, 0.2422012544333973, 0.33075945747374325, 0.28902701729487446, 0.40679625235875233, 0.3533275434882578, 0.16210784982213555, 0.2372227983656555, 0.3446545207438064, 0.4146783385265528, 0.277971620971621]}, {\"categories\": [\"0\", \"1\", \"2\", \"3\", \"4\", \"5\", \"6\", \"7\", \"8\", \"9\", \"10\", \"11\", \"12\", \"13\", \"14\", \"15\", \"16\"], \"mode\": \"lines\", \"name\": \"recall_score_macro_max\", \"stepped\": true, \"type\": \"scatter\", \"data\": [0.2965037512091083, 0.38171828039685185, 0.38171828039685185, 0.38171828039685185, 0.38171828039685185, 0.38171828039685185, 0.38171828039685185, 0.38171828039685185, 0.38171828039685185, 0.38171828039685185, 0.40679625235875233, 0.40679625235875233, 0.40679625235875233, 0.40679625235875233, 0.40679625235875233, 0.4146783385265528, 0.4146783385265528]}], \"precision_score_micro\": [{\"categories\": [\"0\", \"1\", \"2\", \"3\", \"4\", \"5\", \"6\", \"7\", \"8\", \"9\", \"10\", \"11\", \"12\", \"13\", \"14\", \"15\", \"16\"], \"mode\": \"markers\", \"name\": \"precision_score_micro\", \"stepped\": false, \"type\": \"scatter\", \"data\": [0.3840241448692153, 0.43782696177062375, 0.4630181086519114, 0.35014084507042254, 0.35855130784708245, 0.1893360160965795, 0.41790744466800805, 0.35299798792756537, 0.43770623742454734, 0.33034205231388325, 0.5053521126760564, 0.4602012072434608, 0.276861167002012, 0.3558551307847082, 0.4375855130784708, 0.5110663983903421, 0.3671629778672032]}, {\"categories\": [\"0\", \"1\", \"2\", \"3\", \"4\", \"5\", \"6\", \"7\", \"8\", \"9\", \"10\", \"11\", \"12\", \"13\", \"14\", \"15\", \"16\"], \"mode\": \"lines\", \"name\": \"precision_score_micro_max\", \"stepped\": true, \"type\": \"scatter\", \"data\": [0.3840241448692153, 0.43782696177062375, 0.4630181086519114, 0.4630181086519114, 0.4630181086519114, 0.4630181086519114, 0.4630181086519114, 0.4630181086519114, 0.4630181086519114, 0.4630181086519114, 0.5053521126760564, 0.5053521126760564, 0.5053521126760564, 0.5053521126760564, 0.5053521126760564, 0.5110663983903421, 0.5110663983903421]}], \"accuracy\": [{\"categories\": [\"0\", \"1\", \"2\", \"3\", \"4\", \"5\", \"6\", \"7\", \"8\", \"9\", \"10\", \"11\", \"12\", \"13\", \"14\", \"15\", \"16\"], \"mode\": \"markers\", \"name\": \"accuracy\", \"stepped\": false, \"type\": \"scatter\", \"data\": [0.3840241448692153, 0.43782696177062375, 0.4630181086519114, 0.35014084507042254, 0.35855130784708245, 0.1893360160965795, 0.41790744466800805, 0.35299798792756537, 0.43770623742454734, 0.33034205231388325, 0.5053521126760564, 0.4602012072434608, 0.276861167002012, 0.3558551307847082, 0.4375855130784708, 0.5110663983903421, 0.3671629778672032]}, {\"categories\": [\"0\", \"1\", \"2\", \"3\", \"4\", \"5\", \"6\", \"7\", \"8\", \"9\", \"10\", \"11\", \"12\", \"13\", \"14\", \"15\", \"16\"], \"mode\": \"lines\", \"name\": \"accuracy_max\", \"stepped\": true, \"type\": \"scatter\", \"data\": [0.3840241448692153, 0.43782696177062375, 0.4630181086519114, 0.4630181086519114, 0.4630181086519114, 0.4630181086519114, 0.4630181086519114, 0.4630181086519114, 0.4630181086519114, 0.4630181086519114, 0.5053521126760564, 0.5053521126760564, 0.5053521126760564, 0.5053521126760564, 0.5053521126760564, 0.5110663983903421, 0.5110663983903421]}], \"f1_score_macro\": [{\"categories\": [\"0\", \"1\", \"2\", \"3\", \"4\", \"5\", \"6\", \"7\", \"8\", \"9\", \"10\", \"11\", \"12\", \"13\", \"14\", \"15\", \"16\"], \"mode\": \"markers\", \"name\": \"f1_score_macro\", \"stepped\": false, \"type\": \"scatter\", \"data\": [0.26404156510776716, 0.3708992161071897, 0.33926017811871034, 0.2104471511067573, 0.265094170535347, 0.13514111791201575, 0.30831678984929756, 0.22371730888437433, 0.2818798899218625, 0.25201895230594057, 0.37254228168826886, 0.3183750323349394, 0.11859589581037974, 0.19385515149163032, 0.3165098958990213, 0.3831590012638028, 0.23108274465472606]}, {\"categories\": [\"0\", \"1\", \"2\", \"3\", \"4\", \"5\", \"6\", \"7\", \"8\", \"9\", \"10\", \"11\", \"12\", \"13\", \"14\", \"15\", \"16\"], \"mode\": \"lines\", \"name\": \"f1_score_macro_max\", \"stepped\": true, \"type\": \"scatter\", \"data\": [0.26404156510776716, 0.3708992161071897, 0.3708992161071897, 0.3708992161071897, 0.3708992161071897, 0.3708992161071897, 0.3708992161071897, 0.3708992161071897, 0.3708992161071897, 0.3708992161071897, 0.37254228168826886, 0.37254228168826886, 0.37254228168826886, 0.37254228168826886, 0.37254228168826886, 0.3831590012638028, 0.3831590012638028]}], \"recall_score_micro\": [{\"categories\": [\"0\", \"1\", \"2\", \"3\", \"4\", \"5\", \"6\", \"7\", \"8\", \"9\", \"10\", \"11\", \"12\", \"13\", \"14\", \"15\", \"16\"], \"mode\": \"markers\", \"name\": \"recall_score_micro\", \"stepped\": false, \"type\": \"scatter\", \"data\": [0.3840241448692153, 0.43782696177062375, 0.4630181086519114, 0.35014084507042254, 0.35855130784708245, 0.1893360160965795, 0.41790744466800805, 0.35299798792756537, 0.43770623742454734, 0.33034205231388325, 0.5053521126760564, 0.4602012072434608, 0.276861167002012, 0.3558551307847082, 0.4375855130784708, 0.5110663983903421, 0.3671629778672032]}, {\"categories\": [\"0\", \"1\", \"2\", \"3\", \"4\", \"5\", \"6\", \"7\", \"8\", \"9\", \"10\", \"11\", \"12\", \"13\", \"14\", \"15\", \"16\"], \"mode\": \"lines\", \"name\": \"recall_score_micro_max\", \"stepped\": true, \"type\": \"scatter\", \"data\": [0.3840241448692153, 0.43782696177062375, 0.4630181086519114, 0.4630181086519114, 0.4630181086519114, 0.4630181086519114, 0.4630181086519114, 0.4630181086519114, 0.4630181086519114, 0.4630181086519114, 0.5053521126760564, 0.5053521126760564, 0.5053521126760564, 0.5053521126760564, 0.5053521126760564, 0.5110663983903421, 0.5110663983903421]}], \"AUC_micro\": [{\"categories\": [\"0\", \"1\", \"2\", \"3\", \"4\", \"5\", \"6\", \"7\", \"8\", \"9\", \"10\", \"11\", \"12\", \"13\", \"14\", \"15\", \"16\"], \"mode\": \"markers\", \"name\": \"AUC_micro\", \"stepped\": false, \"type\": \"scatter\", \"data\": [0.8302893345991442, 0.8910164508175816, 0.9172617278115374, 0.8308775565870071, 0.8346715833228749, 0.7566505177948981, 0.8786155231185908, 0.8269347564258792, 0.8914375918488802, 0.8483484397329653, 0.9208802245059896, 0.8752007219372573, 0.7472017927484425, 0.7962770005343935, 0.8799849271686456, 0.9227016647166701, 0.807672653121951]}, {\"categories\": [\"0\", \"1\", \"2\", \"3\", \"4\", \"5\", \"6\", \"7\", \"8\", \"9\", \"10\", \"11\", \"12\", \"13\", \"14\", \"15\", \"16\"], \"mode\": \"lines\", \"name\": \"AUC_micro_max\", \"stepped\": true, \"type\": \"scatter\", \"data\": [0.8302893345991442, 0.8910164508175816, 0.9172617278115374, 0.9172617278115374, 0.9172617278115374, 0.9172617278115374, 0.9172617278115374, 0.9172617278115374, 0.9172617278115374, 0.9172617278115374, 0.9208802245059896, 0.9208802245059896, 0.9208802245059896, 0.9208802245059896, 0.9208802245059896, 0.9227016647166701, 0.9227016647166701]}], \"AUC_weighted\": [{\"categories\": [\"0\", \"1\", \"2\", \"3\", \"4\", \"5\", \"6\", \"7\", \"8\", \"9\", \"10\", \"11\", \"12\", \"13\", \"14\", \"15\", \"16\"], \"mode\": \"markers\", \"name\": \"AUC_weighted\", \"stepped\": false, \"type\": \"scatter\", \"data\": [0.7978983539871531, 0.8524027384486509, 0.8981263542599842, 0.8051293470286239, 0.794769569889727, 0.7302646627962343, 0.8473516974897418, 0.7936193868443253, 0.8789412620070104, 0.8169714517380667, 0.9032866950846316, 0.842839330961139, 0.7076627277214651, 0.8257304848648206, 0.8453705603007455, 0.910265759004529, 0.7942038713642026]}, {\"categories\": [\"0\", \"1\", \"2\", \"3\", \"4\", \"5\", \"6\", \"7\", \"8\", \"9\", \"10\", \"11\", \"12\", \"13\", \"14\", \"15\", \"16\"], \"mode\": \"lines\", \"name\": \"AUC_weighted_max\", \"stepped\": true, \"type\": \"scatter\", \"data\": [0.7978983539871531, 0.8524027384486509, 0.8981263542599842, 0.8981263542599842, 0.8981263542599842, 0.8981263542599842, 0.8981263542599842, 0.8981263542599842, 0.8981263542599842, 0.8981263542599842, 0.9032866950846316, 0.9032866950846316, 0.9032866950846316, 0.9032866950846316, 0.9032866950846316, 0.910265759004529, 0.910265759004529]}], \"balanced_accuracy\": [{\"categories\": [\"0\", \"1\", \"2\", \"3\", \"4\", \"5\", \"6\", \"7\", \"8\", \"9\", \"10\", \"11\", \"12\", \"13\", \"14\", \"15\", \"16\"], \"mode\": \"markers\", \"name\": \"balanced_accuracy\", \"stepped\": false, \"type\": \"scatter\", \"data\": [0.2965037512091083, 0.38171828039685185, 0.37542631145309713, 0.2611879734022591, 0.2940077963975023, 0.15407755643049761, 0.3329761855208283, 0.2422012544333973, 0.33075945747374325, 0.28902701729487446, 0.40679625235875233, 0.3533275434882578, 0.16210784982213555, 0.2372227983656555, 0.3446545207438064, 0.4146783385265528, 0.277971620971621]}, {\"categories\": [\"0\", \"1\", \"2\", \"3\", \"4\", \"5\", \"6\", \"7\", \"8\", \"9\", \"10\", \"11\", \"12\", \"13\", \"14\", \"15\", \"16\"], \"mode\": \"lines\", \"name\": \"balanced_accuracy_max\", \"stepped\": true, \"type\": \"scatter\", \"data\": [0.2965037512091083, 0.38171828039685185, 0.38171828039685185, 0.38171828039685185, 0.38171828039685185, 0.38171828039685185, 0.38171828039685185, 0.38171828039685185, 0.38171828039685185, 0.38171828039685185, 0.40679625235875233, 0.40679625235875233, 0.40679625235875233, 0.40679625235875233, 0.40679625235875233, 0.4146783385265528, 0.4146783385265528]}], \"precision_score_weighted\": [{\"categories\": [\"0\", \"1\", \"2\", \"3\", \"4\", \"5\", \"6\", \"7\", \"8\", \"9\", \"10\", \"11\", \"12\", \"13\", \"14\", \"15\", \"16\"], \"mode\": \"markers\", \"name\": \"precision_score_weighted\", \"stepped\": false, \"type\": \"scatter\", \"data\": [0.3983590779888567, 0.5142160729947449, 0.4663571838269435, 0.2737053895837801, 0.3973300740171967, 0.2727942714562433, 0.4211878643311949, 0.3467191533036604, 0.396468855591089, 0.3416711216349043, 0.49257057343682364, 0.46141446251175217, 0.2003057743787547, 0.2914838238310652, 0.44100240768410154, 0.514356777807482, 0.3244913439086971]}, {\"categories\": [\"0\", \"1\", \"2\", \"3\", \"4\", \"5\", \"6\", \"7\", \"8\", \"9\", \"10\", \"11\", \"12\", \"13\", \"14\", \"15\", \"16\"], \"mode\": \"lines\", \"name\": \"precision_score_weighted_max\", \"stepped\": true, \"type\": \"scatter\", \"data\": [0.3983590779888567, 0.5142160729947449, 0.5142160729947449, 0.5142160729947449, 0.5142160729947449, 0.5142160729947449, 0.5142160729947449, 0.5142160729947449, 0.5142160729947449, 0.5142160729947449, 0.5142160729947449, 0.5142160729947449, 0.5142160729947449, 0.5142160729947449, 0.5142160729947449, 0.514356777807482, 0.514356777807482]}]}, \"metricName\": null, \"primaryMetricName\": \"accuracy\", \"showLegend\": false}, \"run_metrics\": [{\"name\": \"experiment_status\", \"run_id\": \"AutoML_dfa3d70c-d04d-4e10-a6d2-22d449c6ea6c\", \"categories\": [0, 1, 2, 3, 4, 5, 6, 7, 8, 9, 10, 11, 12, 13, 14], \"series\": [{\"data\": [\"DatasetEvaluation\", \"FeaturesGeneration\", \"DatasetFeaturization\", \"DatasetFeaturizationCompleted\", \"DatasetBalancing\", \"DatasetCrossValidationSplit\", \"ModelSelection\", \"BestRunExplainModel\", \"ModelExplanationDataSetSetup\", \"PickSurrogateModel\", \"EngineeredFeatureExplanations\", \"EngineeredFeatureExplanations\", \"RawFeaturesExplanations\", \"RawFeaturesExplanations\", \"BestRunExplainModel\"]}]}, {\"name\": \"experiment_status_description\", \"run_id\": \"AutoML_dfa3d70c-d04d-4e10-a6d2-22d449c6ea6c\", \"categories\": [0, 1, 2, 3, 4, 5, 6, 7, 8, 9, 10, 11, 12, 13, 14], \"series\": [{\"data\": [\"Gathering dataset statistics.\", \"Generating features for the dataset.\", \"Beginning to fit featurizers and featurize the dataset.\", \"Completed fit featurizers and featurizing the dataset.\", \"Performing class balancing sweeping\", \"Generating individually featurized CV splits.\", \"Beginning model selection.\", \"Best run model explanations started\", \"Model explanations data setup completed\", \"Choosing LightGBM as the surrogate model for explanations\", \"Computation of engineered features started\", \"Computation of engineered features completed\", \"Computation of raw features started\", \"Computation of raw features completed\", \"Best run model explanations completed\"]}]}, {\"name\": \"weighted_accuracy\", \"run_id\": \"AutoML_dfa3d70c-d04d-4e10-a6d2-22d449c6ea6c\", \"categories\": [0], \"series\": [{\"data\": [0.5680302135335668]}]}, {\"name\": \"AUC_micro\", \"run_id\": \"AutoML_dfa3d70c-d04d-4e10-a6d2-22d449c6ea6c\", \"categories\": [0], \"series\": [{\"data\": [0.9227016647166701]}]}, {\"name\": \"recall_score_micro\", \"run_id\": \"AutoML_dfa3d70c-d04d-4e10-a6d2-22d449c6ea6c\", \"categories\": [0], \"series\": [{\"data\": [0.5110663983903421]}]}, {\"name\": \"log_loss\", \"run_id\": \"AutoML_dfa3d70c-d04d-4e10-a6d2-22d449c6ea6c\", \"categories\": [0], \"series\": [{\"data\": [1.7842468707543517]}]}, {\"name\": \"AUC_macro\", \"run_id\": \"AutoML_dfa3d70c-d04d-4e10-a6d2-22d449c6ea6c\", \"categories\": [0], \"series\": [{\"data\": [0.90436343914667]}]}, {\"name\": \"precision_score_macro\", \"run_id\": \"AutoML_dfa3d70c-d04d-4e10-a6d2-22d449c6ea6c\", \"categories\": [0], \"series\": [{\"data\": [0.41685431334538475]}]}, {\"name\": \"average_precision_score_weighted\", \"run_id\": \"AutoML_dfa3d70c-d04d-4e10-a6d2-22d449c6ea6c\", \"categories\": [0], \"series\": [{\"data\": [0.5911547204292196]}]}, {\"name\": \"f1_score_micro\", \"run_id\": \"AutoML_dfa3d70c-d04d-4e10-a6d2-22d449c6ea6c\", \"categories\": [0], \"series\": [{\"data\": [0.5110663983903421]}]}, {\"name\": \"recall_score_macro\", \"run_id\": \"AutoML_dfa3d70c-d04d-4e10-a6d2-22d449c6ea6c\", \"categories\": [0], \"series\": [{\"data\": [0.4146783385265528]}]}, {\"name\": \"precision_score_micro\", \"run_id\": \"AutoML_dfa3d70c-d04d-4e10-a6d2-22d449c6ea6c\", \"categories\": [0], \"series\": [{\"data\": [0.5110663983903421]}]}, {\"name\": \"f1_score_macro\", \"run_id\": \"AutoML_dfa3d70c-d04d-4e10-a6d2-22d449c6ea6c\", \"categories\": [0], \"series\": [{\"data\": [0.3831590012638028]}]}, {\"name\": \"norm_macro_recall\", \"run_id\": \"AutoML_dfa3d70c-d04d-4e10-a6d2-22d449c6ea6c\", \"categories\": [0], \"series\": [{\"data\": [0.4009125398411112]}]}, {\"name\": \"average_precision_score_macro\", \"run_id\": \"AutoML_dfa3d70c-d04d-4e10-a6d2-22d449c6ea6c\", \"categories\": [0], \"series\": [{\"data\": [0.5556915566326309]}]}, {\"name\": \"accuracy\", \"run_id\": \"AutoML_dfa3d70c-d04d-4e10-a6d2-22d449c6ea6c\", \"categories\": [0], \"series\": [{\"data\": [0.5110663983903421]}]}, {\"name\": \"f1_score_weighted\", \"run_id\": \"AutoML_dfa3d70c-d04d-4e10-a6d2-22d449c6ea6c\", \"categories\": [0], \"series\": [{\"data\": [0.4818747134630157]}]}, {\"name\": \"recall_score_weighted\", \"run_id\": \"AutoML_dfa3d70c-d04d-4e10-a6d2-22d449c6ea6c\", \"categories\": [0], \"series\": [{\"data\": [0.5110663983903421]}]}, {\"name\": \"matthews_correlation\", \"run_id\": \"AutoML_dfa3d70c-d04d-4e10-a6d2-22d449c6ea6c\", \"categories\": [0], \"series\": [{\"data\": [0.46592399574524335]}]}, {\"name\": \"balanced_accuracy\", \"run_id\": \"AutoML_dfa3d70c-d04d-4e10-a6d2-22d449c6ea6c\", \"categories\": [0], \"series\": [{\"data\": [0.4146783385265528]}]}, {\"name\": \"AUC_weighted\", \"run_id\": \"AutoML_dfa3d70c-d04d-4e10-a6d2-22d449c6ea6c\", \"categories\": [0], \"series\": [{\"data\": [0.910265759004529]}]}, {\"name\": \"average_precision_score_micro\", \"run_id\": \"AutoML_dfa3d70c-d04d-4e10-a6d2-22d449c6ea6c\", \"categories\": [0], \"series\": [{\"data\": [0.4658190259177471]}]}, {\"name\": \"precision_score_weighted\", \"run_id\": \"AutoML_dfa3d70c-d04d-4e10-a6d2-22d449c6ea6c\", \"categories\": [0], \"series\": [{\"data\": [0.514356777807482]}]}], \"run_logs\": \"\\nRun is completed.\", \"graph\": {}, \"widget_settings\": {\"childWidgetDisplay\": \"popup\", \"send_telemetry\": false, \"log_level\": \"INFO\", \"sdk_version\": \"1.21.0\"}, \"loading\": false}"
     },
     "metadata": {},
     "output_type": "display_data"
    }
   ],
   "source": [
    "from azureml.widgets import RunDetails\n",
    "RunDetails(run).show()"
   ]
  },
  {
   "cell_type": "markdown",
   "id": "sophisticated-convention",
   "metadata": {},
   "source": [
    "#### Now we cen check how long did AML process lasted"
   ]
  },
  {
   "cell_type": "code",
   "execution_count": 50,
   "id": "egyptian-badge",
   "metadata": {},
   "outputs": [
    {
     "name": "stdout",
     "output_type": "stream",
     "text": [
      "Run Timing: --- 1714.0 seconds needed for running the whole Remote AutoML Experiment ---\n"
     ]
    }
   ],
   "source": [
    "import time\n",
    "import datetime as dt\n",
    "\n",
    "run_details = run.get_details()\n",
    "\n",
    "# Like: 2020-01-12T23:11:56.292703Z\n",
    "end_time_utc_str = run_details['endTimeUtc'].split(\".\")[0]\n",
    "start_time_utc_str = run_details['startTimeUtc'].split(\".\")[0]\n",
    "timestamp_end = time.mktime(datetime.strptime(end_time_utc_str, \"%Y-%m-%dT%H:%M:%S\").timetuple())\n",
    "timestamp_start = time.mktime(datetime.strptime(start_time_utc_str, \"%Y-%m-%dT%H:%M:%S\").timetuple())\n",
    "\n",
    "parent_run_time = timestamp_end - timestamp_start\n",
    "print('Run Timing: --- %s seconds needed for running the whole Remote AutoML Experiment ---' % (parent_run_time))"
   ]
  },
  {
   "cell_type": "markdown",
   "id": "banner-employment",
   "metadata": {},
   "source": [
    "### In the end let's download best found model"
   ]
  },
  {
   "cell_type": "code",
   "execution_count": 56,
   "id": "acute-crown",
   "metadata": {},
   "outputs": [
    {
     "ename": "ModuleNotFoundError",
     "evalue": "No module named 'azureml.automl.runtime._ml_engine'",
     "output_type": "error",
     "traceback": [
      "\u001b[0;31m--------------------------------------\u001b[0m",
      "\u001b[0;31mModuleNotFoundError\u001b[0mTraceback (most recent call last)",
      "\u001b[0;32m<ipython-input-56-161599dc225e>\u001b[0m in \u001b[0;36m<module>\u001b[0;34m\u001b[0m\n\u001b[0;32m----> 1\u001b[0;31m \u001b[0mbest_run\u001b[0m\u001b[0;34m,\u001b[0m \u001b[0mfitted_model\u001b[0m \u001b[0;34m=\u001b[0m \u001b[0mrun\u001b[0m\u001b[0;34m.\u001b[0m\u001b[0mget_output\u001b[0m\u001b[0;34m(\u001b[0m\u001b[0;34m)\u001b[0m\u001b[0;34m\u001b[0m\u001b[0;34m\u001b[0m\u001b[0m\n\u001b[0m\u001b[1;32m      2\u001b[0m \u001b[0mprint\u001b[0m\u001b[0;34m(\u001b[0m\u001b[0mbest_run\u001b[0m\u001b[0;34m)\u001b[0m\u001b[0;34m\u001b[0m\u001b[0;34m\u001b[0m\u001b[0m\n\u001b[1;32m      3\u001b[0m \u001b[0mprint\u001b[0m\u001b[0;34m(\u001b[0m\u001b[0mfitted_model\u001b[0m\u001b[0;34m)\u001b[0m\u001b[0;34m\u001b[0m\u001b[0;34m\u001b[0m\u001b[0m\n",
      "\u001b[0;32m~/miniconda3/envs/AZURE/lib/python3.8/site-packages/azureml/train/automl/run.py\u001b[0m in \u001b[0;36mget_output\u001b[0;34m(self, iteration, metric, return_onnx_model, return_split_onnx_model, **kwargs)\u001b[0m\n\u001b[1;32m    697\u001b[0m                     \u001b[0mfitted_model\u001b[0m \u001b[0;34m=\u001b[0m \u001b[0m_download_automl_onnx_model\u001b[0m\u001b[0;34m(\u001b[0m\u001b[0mcurr_run\u001b[0m\u001b[0;34m,\u001b[0m \u001b[0mmodel_name\u001b[0m\u001b[0;34m)\u001b[0m\u001b[0;34m\u001b[0m\u001b[0;34m\u001b[0m\u001b[0m\n\u001b[1;32m    698\u001b[0m                 \u001b[0;32melse\u001b[0m\u001b[0;34m:\u001b[0m\u001b[0;34m\u001b[0m\u001b[0;34m\u001b[0m\u001b[0m\n\u001b[0;32m--> 699\u001b[0;31m                     \u001b[0mfitted_model\u001b[0m \u001b[0;34m=\u001b[0m \u001b[0m_download_automl_model\u001b[0m\u001b[0;34m(\u001b[0m\u001b[0mcurr_run\u001b[0m\u001b[0;34m,\u001b[0m \u001b[0mmodel_name\u001b[0m\u001b[0;34m)\u001b[0m\u001b[0;34m\u001b[0m\u001b[0;34m\u001b[0m\u001b[0m\n\u001b[0m\u001b[1;32m    700\u001b[0m \u001b[0;34m\u001b[0m\u001b[0m\n\u001b[1;32m    701\u001b[0m             \u001b[0;32mreturn\u001b[0m \u001b[0mcurr_run\u001b[0m\u001b[0;34m,\u001b[0m \u001b[0mfitted_model\u001b[0m\u001b[0;34m\u001b[0m\u001b[0;34m\u001b[0m\u001b[0m\n",
      "\u001b[0;32m~/miniconda3/envs/AZURE/lib/python3.8/site-packages/azureml/train/automl/_model_download_utilities.py\u001b[0m in \u001b[0;36m_download_automl_model\u001b[0;34m(run, model_name)\u001b[0m\n\u001b[1;32m     85\u001b[0m             \u001b[0;31m# Pass through any exceptions from loading the model.\u001b[0m\u001b[0;34m\u001b[0m\u001b[0;34m\u001b[0m\u001b[0;34m\u001b[0m\u001b[0m\n\u001b[1;32m     86\u001b[0m             \u001b[0;31m# Try is used here to ensure we can cleanup the side effect of model downlad.\u001b[0m\u001b[0;34m\u001b[0m\u001b[0;34m\u001b[0m\u001b[0;34m\u001b[0m\u001b[0m\n\u001b[0;32m---> 87\u001b[0;31m             \u001b[0mmodel\u001b[0m \u001b[0;34m=\u001b[0m \u001b[0m_load_automl_model\u001b[0m\u001b[0;34m(\u001b[0m\u001b[0mmodel_path\u001b[0m\u001b[0;34m)\u001b[0m\u001b[0;34m\u001b[0m\u001b[0;34m\u001b[0m\u001b[0m\n\u001b[0m\u001b[1;32m     88\u001b[0m             \u001b[0;32mif\u001b[0m \u001b[0mmodel\u001b[0m \u001b[0;32mis\u001b[0m \u001b[0;32mNone\u001b[0m\u001b[0;34m:\u001b[0m\u001b[0;34m\u001b[0m\u001b[0;34m\u001b[0m\u001b[0m\n\u001b[1;32m     89\u001b[0m                 \u001b[0;31m# If we can retrieve the automl runtime version, we do so we can inform the user what to install.\u001b[0m\u001b[0;34m\u001b[0m\u001b[0;34m\u001b[0m\u001b[0;34m\u001b[0m\u001b[0m\n",
      "\u001b[0;32m~/miniconda3/envs/AZURE/lib/python3.8/site-packages/azureml/train/automl/_model_download_utilities.py\u001b[0m in \u001b[0;36m_load_automl_model\u001b[0;34m(model_path)\u001b[0m\n\u001b[1;32m    151\u001b[0m         \u001b[0;32mimport\u001b[0m \u001b[0mazureml\u001b[0m\u001b[0;34m.\u001b[0m\u001b[0mtrain\u001b[0m\u001b[0;34m.\u001b[0m\u001b[0mautoml\u001b[0m\u001b[0;34m.\u001b[0m\u001b[0mruntime\u001b[0m\u001b[0;34m\u001b[0m\u001b[0;34m\u001b[0m\u001b[0m\n\u001b[1;32m    152\u001b[0m         \u001b[0;32mwith\u001b[0m \u001b[0mopen\u001b[0m\u001b[0;34m(\u001b[0m\u001b[0mmodel_path\u001b[0m\u001b[0;34m,\u001b[0m \u001b[0;34m\"rb\"\u001b[0m\u001b[0;34m)\u001b[0m \u001b[0;32mas\u001b[0m \u001b[0mmodel_file\u001b[0m\u001b[0;34m:\u001b[0m\u001b[0;34m\u001b[0m\u001b[0;34m\u001b[0m\u001b[0m\n\u001b[0;32m--> 153\u001b[0;31m             \u001b[0mfitted_model\u001b[0m \u001b[0;34m=\u001b[0m \u001b[0mpickle\u001b[0m\u001b[0;34m.\u001b[0m\u001b[0mload\u001b[0m\u001b[0;34m(\u001b[0m\u001b[0mmodel_file\u001b[0m\u001b[0;34m)\u001b[0m  \u001b[0;31m# type: Optional[Any]\u001b[0m\u001b[0;34m\u001b[0m\u001b[0;34m\u001b[0m\u001b[0m\n\u001b[0m\u001b[1;32m    154\u001b[0m             \u001b[0;32mreturn\u001b[0m \u001b[0mfitted_model\u001b[0m\u001b[0;34m\u001b[0m\u001b[0;34m\u001b[0m\u001b[0m\n\u001b[1;32m    155\u001b[0m     \u001b[0;32mexcept\u001b[0m \u001b[0mImportError\u001b[0m \u001b[0;32mas\u001b[0m \u001b[0me\u001b[0m\u001b[0;34m:\u001b[0m\u001b[0;34m\u001b[0m\u001b[0;34m\u001b[0m\u001b[0m\n",
      "\u001b[0;31mModuleNotFoundError\u001b[0m: No module named 'azureml.automl.runtime._ml_engine'"
     ]
    }
   ],
   "source": [
    "best_run, fitted_model = run.get_output()\n",
    "print(best_run)\n",
    "print(fitted_model)"
   ]
  },
  {
   "cell_type": "markdown",
   "id": "bigger-cutting",
   "metadata": {},
   "source": [
    "## Predictions made with our model\n",
    "\n",
    "Now we can test outcome of our model when using it on new data. Main advantage of this purpose is we can teach model in the cloud and as a outcome we retreive ready model to run on our local machine. With little more labor we can upload it online and create script as a service to make use of it online. In this showcase we will test classifier locally and measure it's accuracy.\n",
    "\n",
    "In first step let's download test set to local machine by converting Dataset.Tabular to pandas.Dataframe object"
   ]
  },
  {
   "cell_type": "code",
   "execution_count": null,
   "id": "entertaining-machinery",
   "metadata": {},
   "outputs": [],
   "source": [
    "# download test dataset\n",
    "local_test_dataset = test_dataset.to_pandas_dataframe()\n",
    "# drop output variable from test set do we can compare classifier output with real \n",
    "y_test = local_test_dataset.pop('G3')\n",
    "# get other part of train dataset as input\n",
    "x_test = test_dataset"
   ]
  },
  {
   "cell_type": "markdown",
   "id": "considerable-burton",
   "metadata": {},
   "source": [
    "### In the end let's calculate model accuracy"
   ]
  },
  {
   "cell_type": "code",
   "execution_count": null,
   "id": "olympic-simulation",
   "metadata": {},
   "outputs": [],
   "source": [
    "y_predictions = fitted_model.predict(x_test)\n",
    "print('Accuracy:')\n",
    "accuracy_score(y_test, y_predictions)"
   ]
  },
  {
   "cell_type": "code",
   "execution_count": null,
   "id": "included-picture",
   "metadata": {},
   "outputs": [],
   "source": []
  }
 ],
 "metadata": {
  "kernelspec": {
   "display_name": "Python 3",
   "language": "python",
   "name": "python3"
  },
  "language_info": {
   "codemirror_mode": {
    "name": "ipython",
    "version": 3
   },
   "file_extension": ".py",
   "mimetype": "text/x-python",
   "name": "python",
   "nbconvert_exporter": "python",
   "pygments_lexer": "ipython3",
   "version": "3.8.6"
  }
 },
 "nbformat": 4,
 "nbformat_minor": 5
}
