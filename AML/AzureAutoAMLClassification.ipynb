{
 "cells": [
  {
   "cell_type": "markdown",
   "id": "competitive-anthropology",
   "metadata": {},
   "source": [
    "# Classyfing semester grades regarding alcohol consumption and family situation between youg people"
   ]
  },
  {
   "cell_type": "markdown",
   "id": "brief-director",
   "metadata": {},
   "source": [
    "As a problem for this notebook I found dataset that is output of some kind of survey. Main purpose of this study was to find linkage between alcohol consumption, situation in household, student's ambition and final grade from school subject. This [dataset](https://www.kaggle.com/uciml/student-alcohol-consumption) contains mostly binary or discrete values and so is the final grade (number 0-20)\n",
    "\n",
    "In this notebook an effort was put to create and learn classification model. The following notebook shows how we can create, manipulate and upload data and training processess to Azure AutoML service.\n",
    "\n",
    "The following notebook consists of the following parts:\n",
    "1. [Dataset manipulation and cloud upload](#dataset)\n",
    "2. [Upload dataset to cloud](#dataset_upload)\n",
    "3. [Create and run AutoML Experiment](#experiment)\n",
    "4. [Retreive Training process logs and model](#training)\n",
    "\n",
    "#### IMPORTANT\n",
    "\n",
    "This notebook is not oriented on training or developing the best model. It's purpose is to show how easily experiments can be executed with automated cloud machine learning services and how flexible it can be to use cloud solution as opposed to configuring everything manually."
   ]
  },
  {
   "cell_type": "markdown",
   "id": "strange-navigator",
   "metadata": {},
   "source": [
    "### Requirements\n",
    "\n",
    "To run this notebook every package from the following section must be downloaded to machine. If anything is not installed please install this using pip into your environment."
   ]
  },
  {
   "cell_type": "markdown",
   "id": "caring-potato",
   "metadata": {},
   "source": [
    "### Necessary imports"
   ]
  },
  {
   "cell_type": "code",
   "execution_count": 3,
   "id": "stupid-crack",
   "metadata": {},
   "outputs": [],
   "source": [
    "from msrest.exceptions import HttpOperationError\n",
    "from azureml.core import Workspace, Datastore, Dataset\n",
    "from azureml.data.dataset_type_definitions import PromoteHeadersBehavior\n",
    "from azureml.train.automl import AutoMLConfig\n",
    "from azureml.core import Experiment\n",
    "\n",
    "\n",
    "\n",
    "import time\n",
    "from datetime import datetime\n",
    "from sklearn.metrics import accuracy_score\n",
    "import pandas as pd\n",
    "import os\n",
    "import logging"
   ]
  },
  {
   "cell_type": "markdown",
   "id": "little-filing",
   "metadata": {},
   "source": [
    "<a id=\"dataset\"></a>\n",
    "# 1.Dataset manipulation and cloud upload"
   ]
  },
  {
   "cell_type": "markdown",
   "id": "south-manual",
   "metadata": {},
   "source": [
    "# Clean dataset locally\n",
    "\n",
    "At first we need to make some changes to input data to make dataset computable. It is not possible to easily apply changes and load them straight online. More convenient way is to apply operations locally and then upload data to cloud.\n",
    "\n",
    "So lets load the dataset"
   ]
  },
  {
   "cell_type": "code",
   "execution_count": 4,
   "id": "biological-helmet",
   "metadata": {},
   "outputs": [],
   "source": [
    "school_dataset = pd.read_csv('original_data/mat.csv')"
   ]
  },
  {
   "cell_type": "markdown",
   "id": "roman-pioneer",
   "metadata": {},
   "source": [
    "First we list all variables and decide which are relevant and which are not"
   ]
  },
  {
   "cell_type": "code",
   "execution_count": 5,
   "id": "essential-genre",
   "metadata": {
    "scrolled": true
   },
   "outputs": [
    {
     "data": {
      "text/plain": [
       "Index(['school', 'sex', 'age', 'address', 'famsize', 'Pstatus', 'Medu', 'Fedu',\n",
       "       'Mjob', 'Fjob', 'reason', 'guardian', 'traveltime', 'studytime',\n",
       "       'failures', 'schoolsup', 'famsup', 'paid', 'activities', 'nursery',\n",
       "       'higher', 'internet', 'romantic', 'famrel', 'freetime', 'goout', 'Dalc',\n",
       "       'Walc', 'health', 'absences', 'G1', 'G2', 'G3'],\n",
       "      dtype='object')"
      ]
     },
     "execution_count": 5,
     "metadata": {},
     "output_type": "execute_result"
    }
   ],
   "source": [
    "# print all available collumns from dataset\n",
    "school_dataset.columns"
   ]
  },
  {
   "cell_type": "markdown",
   "id": "portuguese-authorization",
   "metadata": {},
   "source": [
    "Let's mark the data that we don't want to analyze during classification\n",
    "* drop mothers and fathers job, beacause it is not properly identifiable and cannot be easily distinguished and classified\n",
    "* reason - why they picked this school -  irrelevant too\n",
    "* nursery - attended nursery school - i dont want to take that into consideration\n",
    "\n",
    "NOTE: This operationd doesn't need to happen here. Azure API enables dropping columns before training process so we will upload them online just in case.\n",
    "\n"
   ]
  },
  {
   "cell_type": "code",
   "execution_count": 6,
   "id": "devoted-utility",
   "metadata": {},
   "outputs": [],
   "source": [
    "# school_dataset.drop(['Mjob', 'Fjob', 'reason', 'nursery'], axis=1)"
   ]
  },
  {
   "cell_type": "markdown",
   "id": "editorial-illness",
   "metadata": {},
   "source": [
    "Let's convert other values to numeric representations"
   ]
  },
  {
   "cell_type": "code",
   "execution_count": 7,
   "id": "interesting-virgin",
   "metadata": {},
   "outputs": [
    {
     "data": {
      "text/plain": [
       "array([1, 0])"
      ]
     },
     "execution_count": 7,
     "metadata": {},
     "output_type": "execute_result"
    }
   ],
   "source": [
    "# school - is binary because only two schools participated in study\n",
    "# GP - 1, MS - 0\n",
    "school_dataset['school'].replace({\"GP\": 1, \"MS\": 0}, inplace=True)\n",
    "school_dataset['school'].unique()"
   ]
  },
  {
   "cell_type": "code",
   "execution_count": 8,
   "id": "greek-royal",
   "metadata": {},
   "outputs": [
    {
     "data": {
      "text/plain": [
       "array([1, 0])"
      ]
     },
     "execution_count": 8,
     "metadata": {},
     "output_type": "execute_result"
    }
   ],
   "source": [
    "# sex, Female - 1, M - 0\n",
    "school_dataset['sex'].replace({\"F\": 1, \"M\": 0}, inplace=True)\n",
    "school_dataset['sex'].unique()"
   ]
  },
  {
   "cell_type": "code",
   "execution_count": 9,
   "id": "olive-boundary",
   "metadata": {},
   "outputs": [
    {
     "data": {
      "text/plain": [
       "array([1, 0])"
      ]
     },
     "execution_count": 9,
     "metadata": {},
     "output_type": "execute_result"
    }
   ],
   "source": [
    "# adress - U = urban places = 1, R = rural = 0\n",
    "school_dataset['address'].replace({\"U\": 1, \"R\": 0}, inplace=True)\n",
    "school_dataset['address'].unique()"
   ]
  },
  {
   "cell_type": "code",
   "execution_count": 10,
   "id": "limited-looking",
   "metadata": {},
   "outputs": [
    {
     "data": {
      "text/plain": [
       "array([1, 0])"
      ]
     },
     "execution_count": 10,
     "metadata": {},
     "output_type": "execute_result"
    }
   ],
   "source": [
    "# famsize - family size indicatin LE3 - 0 (less or equal to 3), GT3 - 1 (greater than 3)\n",
    "school_dataset['famsize'].replace({\"GT3\": 1, \"LE3\": 0}, inplace=True)\n",
    "school_dataset['famsize'].unique()"
   ]
  },
  {
   "cell_type": "code",
   "execution_count": 11,
   "id": "heavy-somerset",
   "metadata": {},
   "outputs": [
    {
     "data": {
      "text/plain": [
       "array([0, 1])"
      ]
     },
     "execution_count": 11,
     "metadata": {},
     "output_type": "execute_result"
    }
   ],
   "source": [
    "# Pstatus T - 1(Parents living together), A - 0 (Parents living apart)\n",
    "school_dataset['Pstatus'].replace({\"T\": 1, \"A\": 0}, inplace=True)\n",
    "school_dataset['Pstatus'].unique()"
   ]
  },
  {
   "cell_type": "code",
   "execution_count": 12,
   "id": "southern-scroll",
   "metadata": {},
   "outputs": [
    {
     "data": {
      "text/plain": [
       "array([2, 1, 0])"
      ]
     },
     "execution_count": 12,
     "metadata": {},
     "output_type": "execute_result"
    }
   ],
   "source": [
    "# guardian: indicating influence of father(1)/mother(2)/other(0)\n",
    "school_dataset['guardian'].replace({\"father\": 1, \"mother\": 2, \"other\": 0}, inplace=True)\n",
    "school_dataset['guardian'].unique()"
   ]
  },
  {
   "cell_type": "markdown",
   "id": "quantitative-floating",
   "metadata": {},
   "source": [
    "### Convert yes/no information to 1/0 adequatly\n",
    "\n",
    "* schoolsup - extra educational support yes - 1, no - 0\n",
    "* famsup - family educational support yes - 1, no - 0\n",
    "* paid - extra paid classes in matter of subject yes - 1, no - 0\n",
    "* activities - extra paid acivities yes - 1, no - 0\n",
    "* higher - want to take higher education yes - 1, no - 0\n",
    "* internet - has internet access at home\n",
    "* romantic - with a romantic relationship"
   ]
  },
  {
   "cell_type": "code",
   "execution_count": 13,
   "id": "double-fairy",
   "metadata": {},
   "outputs": [
    {
     "name": "stdout",
     "output_type": "stream",
     "text": [
      "[1 0]\n",
      "[0 1]\n",
      "[0 1]\n",
      "[0 1]\n",
      "[1 0]\n",
      "[0 1]\n",
      "[0 1]\n",
      "[1 0]\n"
     ]
    }
   ],
   "source": [
    "yes_no_to_numeric = [\n",
    "    'schoolsup', 'famsup', 'paid', 'activities',\n",
    "    'higher', 'internet', 'romantic', 'nursery'\n",
    "]\n",
    "\n",
    "for col in yes_no_to_numeric:\n",
    "    school_dataset[col].replace({\"yes\": 1, \"no\": 0}, inplace=True)\n",
    "    print(school_dataset[col].unique())"
   ]
  },
  {
   "cell_type": "markdown",
   "id": "isolated-vacuum",
   "metadata": {},
   "source": [
    "## other dataset columns description\n",
    "\n",
    "* Medu -  Mother's education (numeric: 0 - none, 1 - primary education (4th grade), 2 - 5th to 9th grade, 3 - secondary\n",
    "* Fedu - Father's education (numeric: 0 - none, 1 - primary education (4th grade), 2 - 5th to 9th grade, 3 - secondary\n",
    "* traveltime - Home to school travel time (numeric: 1 - &lt;15 min., 2 - 15 to 30 min., 3 - 30 min. to 1 hour, or 4 - &gt;1 hour)\n",
    "* studytime - Weekly study time (numeric: 1 - &lt;2 hours, 2 - 2 to 5 hours, 3 - 5 to 10 hours, or 4 - &gt;10 hours)\n",
    "* failures - Number of past class failures (numeric: n if 1&lt;=n&lt;3, else 4)\n",
    "* famrel - Quality of family relationships (numeric: from 1 - very bad to 5 - excellent)\n",
    "* freetime - Free time after school (numeric: from 1 - very low to 5 - very high)\n",
    "* goout - Going out with friends (numeric: from 1 - very low to 5 - very high)\n",
    "* Dalc - Workday alcohol consumption (numeric: from 1 - very low to 5 - very high)\n",
    "* Walc - Weekend alcohol consumption (numeric: from 1 - very low to 5 - very high)\n",
    "* health - Current health status (numeric: from 1 - very bad to 5 - very good)\n",
    "* absences - Number of school absences (numeric: from 0 to 93)\n",
    "* G1 - First period grade (numeric: from 0 to 20)\n",
    "* G2 - Second period grade (numeric: from 0 to 20)\n",
    "\n",
    "## OUTPUT VARIABLE\n",
    "\n",
    "* G3 - Final grade (numeric: from 0 to 20, output target)"
   ]
  },
  {
   "cell_type": "code",
   "execution_count": 14,
   "id": "missing-atmosphere",
   "metadata": {},
   "outputs": [],
   "source": [
    "# save data locally on disk\n",
    "school_dataset.to_csv('dataset/mat.csv')"
   ]
  },
  {
   "cell_type": "markdown",
   "id": "noble-client",
   "metadata": {},
   "source": [
    "<a id=\"dataset_upload\"></a>\n",
    "## 2. Upload dataset to cloud"
   ]
  },
  {
   "cell_type": "markdown",
   "id": "incomplete-exemption",
   "metadata": {},
   "source": [
    "# Configuration\n",
    "\n",
    "In this section we can specify which actions will be conducted on dataset"
   ]
  },
  {
   "cell_type": "code",
   "execution_count": 15,
   "id": "adapted-mounting",
   "metadata": {},
   "outputs": [],
   "source": [
    "# this variable indicates if we want to upload new dataset\n",
    "send_dataset_to_cloud = False\n",
    "#specify folder in which we have data for presentation\n",
    "local_dataset_source ='dataset'\n",
    "# indicate where do we upload our dataset in cloud and where do we get data from our cloud data blob\n",
    "upstream_dataset_path = 'datasets/tabular/'\n",
    "# specify where project effects will be stored\n",
    "project_folder = './AMLclassification'"
   ]
  },
  {
   "cell_type": "code",
   "execution_count": 16,
   "id": "valid-contamination",
   "metadata": {},
   "outputs": [],
   "source": [
    "#login to Microsoft account and connect with configured Azure workspace\n",
    "workspace = Workspace.from_config()"
   ]
  },
  {
   "cell_type": "markdown",
   "id": "cosmetic-generic",
   "metadata": {},
   "source": [
    "Function `from_config` loads `config.json` file from directory where the notebook is run from.\n",
    "\n",
    "File looks like the following example\n",
    "\n",
    "```\n",
    "{\n",
    "    \"subscription_id\": \"<your azure subscription id>\",\n",
    "    \"resource_group\": \"<resource group name where your AML resource is placed>\",\n",
    "    \"workspace_name\": \"<AML workspace name>\"\n",
    "}\n",
    "```"
   ]
  },
  {
   "cell_type": "markdown",
   "id": "focal-installation",
   "metadata": {},
   "source": [
    "## Upload dataset and retrieve it's cloud representation "
   ]
  },
  {
   "cell_type": "code",
   "execution_count": 17,
   "id": "junior-description",
   "metadata": {},
   "outputs": [],
   "source": [
    "# get default AML workspace datastore to get datasets or upload new ones\n",
    "datastore = workspace.get_default_datastore()"
   ]
  },
  {
   "cell_type": "code",
   "execution_count": 18,
   "id": "interim-shame",
   "metadata": {},
   "outputs": [],
   "source": [
    "# decide if we want to upload data to cloud\n",
    "if send_dataset_to_cloud:\n",
    "    datastore.upload(\n",
    "        src_dir = local_dataset_source,\n",
    "        target_path = upstream_dataset_path,\n",
    "        overwrite = True,\n",
    "        show_progress = True)\n",
    "\n",
    "# specify dataset path and datastore which stores it\n",
    "datastore_paths = [\n",
    "    (datastore, upstream_dataset_path + 'mat.csv')\n",
    "#     (datastore, upstream_dataset_path + 'por.csv')\n",
    "]\n",
    "\n",
    "# read data from cloud blob as tabular data read from csv files\n",
    "school_dataset = Dataset.Tabular.from_delimited_files(\n",
    "    path=datastore_paths, separator=',',\n",
    "    header=PromoteHeadersBehavior.ALL_FILES_HAVE_SAME_HEADERS\n",
    ")"
   ]
  },
  {
   "cell_type": "markdown",
   "id": "ethical-tracker",
   "metadata": {},
   "source": [
    "### Drop irrelevant columns from online dataset"
   ]
  },
  {
   "cell_type": "code",
   "execution_count": 19,
   "id": "alpha-inspector",
   "metadata": {},
   "outputs": [],
   "source": [
    "school_dataset = school_dataset.drop_columns(['Mjob', 'Fjob', 'reason', 'nursery'])"
   ]
  },
  {
   "cell_type": "markdown",
   "id": "atlantic-shame",
   "metadata": {},
   "source": [
    "## Split dataset into train and test subsets"
   ]
  },
  {
   "cell_type": "code",
   "execution_count": 20,
   "id": "adequate-wichita",
   "metadata": {},
   "outputs": [],
   "source": [
    "train_dataset, test_dataset = school_dataset.random_split(0.9, seed=1)"
   ]
  },
  {
   "cell_type": "markdown",
   "id": "alone-blair",
   "metadata": {},
   "source": [
    "Please note that all this operations are made on Azure object. They look similar to scikit and pandas methods but they are just implemented in Azure in the following manner. It makes the process of adaptation to cloud solutions for Datascientists easier. \n",
    "\n",
    "To materialize the dataset as pandas dataframe in ipython we need to call `to_pandas_dataframe()` on Azure object."
   ]
  },
  {
   "cell_type": "markdown",
   "id": "premium-criticism",
   "metadata": {},
   "source": [
    "<a id=\"experiment\"></a>\n",
    "## 3. Create and run AutoML Experiment"
   ]
  },
  {
   "cell_type": "markdown",
   "id": "interior-floating",
   "metadata": {},
   "source": [
    "### Check if there are any created AML compute instances in current workspace"
   ]
  },
  {
   "cell_type": "code",
   "execution_count": 21,
   "id": "satisfied-think",
   "metadata": {},
   "outputs": [
    {
     "data": {
      "text/plain": [
       "[AmlCompute(workspace=Workspace.create(name='AMLAlcohol', subscription_id='2e2771d1-53f9-4787-9bc8-31f23d10d063', resource_group='AMLAlcohol'), name=alcohol-cluster, id=/subscriptions/2e2771d1-53f9-4787-9bc8-31f23d10d063/resourceGroups/AMLAlcohol/providers/Microsoft.MachineLearningServices/workspaces/AMLAlcohol/computes/alcohol-cluster, type=AmlCompute, provisioning_state=Succeeded, location=northeurope, tags=None)]"
      ]
     },
     "execution_count": 21,
     "metadata": {},
     "output_type": "execute_result"
    }
   ],
   "source": [
    "from azureml.core.compute import AmlCompute\n",
    "from azureml.core.compute import ComputeTarget\n",
    "\n",
    "ComputeTarget.list(workspace)"
   ]
  },
  {
   "cell_type": "markdown",
   "id": "printable-sydney",
   "metadata": {},
   "source": [
    "#### Connect or create AML computing instance"
   ]
  },
  {
   "cell_type": "code",
   "execution_count": 22,
   "id": "younger-standing",
   "metadata": {},
   "outputs": [
    {
     "name": "stdout",
     "output_type": "stream",
     "text": [
      "Found existing training cluster.\n",
      "Checking cluster status...\n",
      "Succeeded\n",
      "AmlCompute wait for completion finished\n",
      "\n",
      "Minimum number of nodes requested have been provisioned\n"
     ]
    }
   ],
   "source": [
    "# Choose a name for your cluster.\n",
    "amlcompute_cluster_name = \"alcohol-cluster\"\n",
    "# lets assume that computing instance is not found\n",
    "is_cluster_found = False\n",
    "# get computation targets from given workspace\n",
    "compute_targets = workspace.compute_targets\n",
    "\n",
    "if amlcompute_cluster_name in compute_targets and compute_targets[amlcompute_cluster_name].type == 'AmlCompute':\n",
    "     is_cluster_found = True\n",
    "     print('Found existing training cluster.')\n",
    "     # Get existing cluster\n",
    "     aml_remote_compute = compute_targets[amlcompute_cluster_name]\n",
    "         \n",
    "# create new instance\n",
    "if not is_cluster_found:\n",
    "    print('Creating a new training cluster...')\n",
    "    provisioning_config = AmlCompute.provisioning_configuration(vm_size = \"STANDARD_DS2_V2\", # for GPU, use \"STANDARD_NC12\"\n",
    "                                                                 max_nodes = 20)\n",
    "    # Create the cluster.\n",
    "    aml_remote_compute = ComputeTarget.create(workspace, amlcompute_cluster_name, provisioning_config)\n",
    "\n",
    "\n",
    "print('Checking cluster status...')\n",
    "aml_remote_compute.wait_for_completion(show_output = True, min_node_count = 0, timeout_in_minutes = 20)"
   ]
  },
  {
   "cell_type": "markdown",
   "id": "center-spoke",
   "metadata": {},
   "source": [
    "#### Let's check which metrics can we use to evaluate classification model"
   ]
  },
  {
   "cell_type": "code",
   "execution_count": 23,
   "id": "revised-harvest",
   "metadata": {},
   "outputs": [
    {
     "data": {
      "text/plain": [
       "['average_precision_score_weighted',\n",
       " 'AUC_weighted',\n",
       " 'accuracy',\n",
       " 'precision_score_weighted',\n",
       " 'norm_macro_recall']"
      ]
     },
     "execution_count": 23,
     "metadata": {},
     "output_type": "execute_result"
    }
   ],
   "source": [
    "from azureml.train import automl\n",
    "\n",
    "automl.utilities.get_primary_metrics('classification')"
   ]
  },
  {
   "cell_type": "markdown",
   "id": "quarterly-roulette",
   "metadata": {},
   "source": [
    "### Let's define experiment configuration\n",
    "\n",
    "In this step we specify how the experiment would look like - decide if it's regression, classification or time series prediction task and many many more. All options and configurations can be found in [docs](https://docs.microsoft.com/pl-pl/python/api/azureml-train-automl-client/azureml.train.automl.automlconfig.automlconfig?view=azure-ml-py)"
   ]
  },
  {
   "cell_type": "code",
   "execution_count": 24,
   "id": "dedicated-prison",
   "metadata": {},
   "outputs": [],
   "source": [
    "# create local directory if not existent\n",
    "os.makedirs(project_folder, exist_ok=True)\n",
    "# let's create AML experiment settings\n",
    "automl_config = AutoMLConfig(\n",
    "    compute_target=aml_remote_compute,  # getting remote compute target on which we will run experiment\n",
    "     task='classification',  # multi class classification to predict final grade\n",
    "     primary_metric='accuracy',  # evaluate classifier performance by predictions accuracy -> anything from cell above can be used\n",
    "     experiment_timeout_minutes=15,  # stop evaluation after given number of minutes                     \n",
    "     training_data=train_dataset, # data for training\n",
    "     label_column_name=\"G3\",  # choose output variable as pandas column\n",
    "     n_cross_validations=5,  # number of crossvalidations to run on given dataset,                                                    \n",
    "     enable_early_stopping=True,  # enable earlier learn process termination\n",
    "     featurization='auto',  # let's enable cloud model to detect datatypes for each column\n",
    "     debug_log='alcohol_model_errors.log',  # set name for log file\n",
    "     verbosity=logging.INFO,  # set which logs should be visible \n",
    "     path=project_folder  # where to store AML project\n",
    ")\n"
   ]
  },
  {
   "cell_type": "markdown",
   "id": "intermediate-mediterranean",
   "metadata": {},
   "source": [
    "### Create and run AML Experiment on remote instance\n",
    "\n",
    "This part is the most crucial for training. In this step we send configured experiment to run on Azure. It is the core functionality of this notebook"
   ]
  },
  {
   "cell_type": "code",
   "execution_count": 25,
   "id": "running-afghanistan",
   "metadata": {},
   "outputs": [
    {
     "name": "stdout",
     "output_type": "stream",
     "text": [
      "school-alcohol-remote-experiment-01-26-2021-18\n",
      "Running on remote.\n",
      "No run_configuration provided, running on alcohol-cluster with default configuration\n",
      "Running on remote compute: alcohol-cluster\n",
      "Parent Run ID: AutoML_54445ab1-a532-4f34-b761-82b6daea772b\n",
      "\n",
      "Current status: FeaturesGeneration. Generating features for the dataset.\n",
      "Current status: DatasetBalancing. Performing class balancing sweeping\n",
      "Current status: DatasetCrossValidationSplit. Generating individually featurized CV splits.\n",
      "Current status: ModelSelection. Beginning model selection.\n",
      "\n",
      "****************************************************************************************************\n",
      "DATA GUARDRAILS: \n",
      "\n",
      "TYPE:         Class balancing detection\n",
      "STATUS:       ALERTED\n",
      "DESCRIPTION:  To decrease model bias, please cancel the current run and fix balancing problem.\n",
      "              Learn more about imbalanced data: https://aka.ms/AutomatedMLImbalancedData\n",
      "DETAILS:      Imbalanced data can lead to a falsely perceived positive effect of a model's accuracy because the input data has bias towards one class.\n",
      "+---------------------------------+---------------------------------+--------------------------------------+\n",
      "|Size of the smallest class       |Name/Label of the smallest class |Number of samples in the training data|\n",
      "+=================================+=================================+======================================+\n",
      "|1                                |20                               |354                                   |\n",
      "+---------------------------------+---------------------------------+--------------------------------------+\n",
      "\n",
      "****************************************************************************************************\n",
      "\n",
      "TYPE:         Missing feature values imputation\n",
      "STATUS:       PASSED\n",
      "DESCRIPTION:  No feature missing values were detected in the training data.\n",
      "              Learn more about missing value imputation: https://aka.ms/AutomatedMLFeaturization\n",
      "\n",
      "****************************************************************************************************\n",
      "\n",
      "TYPE:         High cardinality feature detection\n",
      "STATUS:       PASSED\n",
      "DESCRIPTION:  Your inputs were analyzed, and no high cardinality features were detected.\n",
      "              Learn more about high cardinality feature handling: https://aka.ms/AutomatedMLFeaturization\n",
      "\n",
      "****************************************************************************************************\n",
      "\n",
      "****************************************************************************************************\n",
      "ITERATION: The iteration being evaluated.\n",
      "PIPELINE: A summary description of the pipeline being evaluated.\n",
      "DURATION: Time taken for the current iteration.\n",
      "METRIC: The result of computing score on the fitted pipeline.\n",
      "BEST: The best observed score thus far.\n",
      "****************************************************************************************************\n",
      "\n",
      " ITERATION   PIPELINE                                       DURATION      METRIC      BEST\n",
      "         0   MaxAbsScaler LightGBM                          0:00:51       0.3840    0.3840\n",
      "         1   MaxAbsScaler XGBoostClassifier                 0:00:45       0.4378    0.4378\n",
      "         2   MaxAbsScaler RandomForest                      0:00:42       0.4773    0.4773\n",
      "         3   MaxAbsScaler RandomForest                      0:00:42       0.3219    0.4773\n",
      "         4   MaxAbsScaler RandomForest                      0:00:41       0.3612    0.4773\n",
      "         5   MaxAbsScaler RandomForest                      0:00:42       0.2173    0.4773\n",
      "         6   SparseNormalizer XGBoostClassifier             0:00:48       0.4179    0.4773\n",
      "         7   MaxAbsScaler GradientBoosting                  0:00:56       0.3559    0.4773\n",
      "         8   MaxAbsScaler ExtremeRandomTrees                0:00:50       0.4433    0.4773\n",
      "         9   MaxAbsScaler LogisticRegression                0:00:45       0.3332    0.4773\n",
      "        10   StandardScalerWrapper RandomForest             0:00:45       0.4998    0.4998\n",
      "        11   SparseNormalizer XGBoostClassifier             0:00:45       0.4602    0.4998\n",
      "        12   MaxAbsScaler LightGBM                          0:00:42       0.2769    0.4998\n",
      "        13   StandardScalerWrapper LightGBM                 0:00:46       0.3559    0.4998\n",
      "        14   SparseNormalizer XGBoostClassifier             0:01:03       0.4376    0.4998\n",
      "        15    VotingEnsemble                                0:01:01       0.5280    0.5280\n",
      "        16    StackEnsemble                                 0:01:03       0.3702    0.5280\n",
      "Manual run timing: --- 1686.9537661075592 seconds needed for running the whole Remote AutoML Experiment ---\n"
     ]
    }
   ],
   "source": [
    "now = datetime.now()\n",
    "time_string = now.strftime(\"%m-%d-%Y-%H\")\n",
    "experiment_name = \"school-alcohol-remote-experiment-{0}\".format(time_string)\n",
    "print(experiment_name)\n",
    "\n",
    "experiment = Experiment(workspace=workspace, name=experiment_name)\n",
    "start_time = time.time()\n",
    "\n",
    "run = experiment.submit(automl_config, show_output=True)\n",
    "\n",
    "print('Manual run timing: --- %s seconds needed for running the whole Remote AutoML Experiment ---' % (time.time() - start_time))"
   ]
  },
  {
   "cell_type": "markdown",
   "id": "blank-briefs",
   "metadata": {},
   "source": [
    "<a id=\"training\"></a>\n",
    "## 4. Retreive Training process logs and model"
   ]
  },
  {
   "cell_type": "markdown",
   "id": "minute-module",
   "metadata": {},
   "source": [
    "### Let's look into results using Widget"
   ]
  },
  {
   "cell_type": "code",
   "execution_count": 27,
   "id": "multiple-scott",
   "metadata": {},
   "outputs": [
    {
     "data": {
      "application/vnd.jupyter.widget-view+json": {
       "model_id": "30579055266e45e2ae230e0511fe6620",
       "version_major": 2,
       "version_minor": 0
      },
      "text/plain": [
       "_AutoMLWidget(widget_settings={'childWidgetDisplay': 'popup', 'send_telemetry': False, 'log_level': 'INFO', 's…"
      ]
     },
     "metadata": {},
     "output_type": "display_data"
    },
    {
     "data": {
      "application/aml.mini.widget.v1": "{\"status\": \"Completed\", \"workbench_run_details_uri\": \"https://ml.azure.com/experiments/school-alcohol-remote-experiment-01-26-2021-18/runs/AutoML_54445ab1-a532-4f34-b761-82b6daea772b?wsid=/subscriptions/2e2771d1-53f9-4787-9bc8-31f23d10d063/resourcegroups/AMLAlcohol/workspaces/AMLAlcohol\", \"run_id\": \"AutoML_54445ab1-a532-4f34-b761-82b6daea772b\", \"run_properties\": {\"run_id\": \"AutoML_54445ab1-a532-4f34-b761-82b6daea772b\", \"created_utc\": \"2021-01-26T17:38:19.266868Z\", \"properties\": {\"num_iterations\": \"1000\", \"training_type\": \"TrainFull\", \"acquisition_function\": \"EI\", \"primary_metric\": \"accuracy\", \"train_split\": \"0\", \"acquisition_parameter\": \"0\", \"num_cross_validation\": \"5\", \"target\": \"alcohol-cluster\", \"AMLSettingsJsonString\": \"{\\\"path\\\":null,\\\"name\\\":\\\"school-alcohol-remote-experiment-01-26-2021-18\\\",\\\"subscription_id\\\":\\\"2e2771d1-53f9-4787-9bc8-31f23d10d063\\\",\\\"resource_group\\\":\\\"AMLAlcohol\\\",\\\"workspace_name\\\":\\\"AMLAlcohol\\\",\\\"region\\\":\\\"northeurope\\\",\\\"compute_target\\\":\\\"alcohol-cluster\\\",\\\"spark_service\\\":null,\\\"azure_service\\\":\\\"remote\\\",\\\"many_models\\\":false,\\\"pipeline_fetch_max_batch_size\\\":1,\\\"iterations\\\":1000,\\\"primary_metric\\\":\\\"accuracy\\\",\\\"task_type\\\":\\\"classification\\\",\\\"data_script\\\":null,\\\"validation_size\\\":0.0,\\\"n_cross_validations\\\":5,\\\"y_min\\\":null,\\\"y_max\\\":null,\\\"num_classes\\\":null,\\\"featurization\\\":\\\"auto\\\",\\\"_ignore_package_version_incompatibilities\\\":false,\\\"is_timeseries\\\":false,\\\"max_cores_per_iteration\\\":1,\\\"max_concurrent_iterations\\\":1,\\\"iteration_timeout_minutes\\\":null,\\\"mem_in_mb\\\":null,\\\"enforce_time_on_windows\\\":false,\\\"experiment_timeout_minutes\\\":15,\\\"experiment_exit_score\\\":null,\\\"whitelist_models\\\":null,\\\"blacklist_algos\\\":[\\\"TensorFlowLinearClassifier\\\",\\\"TensorFlowDNN\\\"],\\\"supported_models\\\":[\\\"LightGBM\\\",\\\"DecisionTree\\\",\\\"XGBoostClassifier\\\",\\\"BernoulliNaiveBayes\\\",\\\"AveragedPerceptronClassifier\\\",\\\"MultinomialNaiveBayes\\\",\\\"TensorFlowDNN\\\",\\\"TensorFlowLinearClassifier\\\",\\\"KNN\\\",\\\"ExtremeRandomTrees\\\",\\\"LogisticRegression\\\",\\\"GradientBoosting\\\",\\\"SVM\\\",\\\"LinearSVM\\\",\\\"RandomForest\\\",\\\"SGD\\\"],\\\"auto_blacklist\\\":true,\\\"blacklist_samples_reached\\\":false,\\\"exclude_nan_labels\\\":true,\\\"verbosity\\\":20,\\\"_debug_log\\\":\\\"azureml_automl.log\\\",\\\"show_warnings\\\":false,\\\"model_explainability\\\":true,\\\"service_url\\\":null,\\\"sdk_url\\\":null,\\\"sdk_packages\\\":null,\\\"enable_onnx_compatible_models\\\":false,\\\"enable_split_onnx_featurizer_estimator_models\\\":false,\\\"vm_type\\\":\\\"STANDARD_DS2_V2\\\",\\\"telemetry_verbosity\\\":20,\\\"send_telemetry\\\":true,\\\"enable_dnn\\\":false,\\\"scenario\\\":\\\"SDK-1.13.0\\\",\\\"environment_label\\\":null,\\\"force_text_dnn\\\":false,\\\"enable_feature_sweeping\\\":true,\\\"enable_early_stopping\\\":true,\\\"early_stopping_n_iters\\\":10,\\\"metrics\\\":null,\\\"enable_ensembling\\\":true,\\\"enable_stack_ensembling\\\":true,\\\"ensemble_iterations\\\":15,\\\"enable_tf\\\":false,\\\"enable_subsampling\\\":null,\\\"subsample_seed\\\":null,\\\"enable_nimbusml\\\":false,\\\"enable_streaming\\\":false,\\\"force_streaming\\\":false,\\\"track_child_runs\\\":true,\\\"allowed_private_models\\\":[],\\\"label_column_name\\\":\\\"G3\\\",\\\"weight_column_name\\\":null,\\\"cv_split_column_names\\\":null,\\\"enable_local_managed\\\":false,\\\"_local_managed_run_id\\\":null,\\\"cost_mode\\\":1,\\\"lag_length\\\":0,\\\"metric_operation\\\":\\\"maximize\\\",\\\"preprocess\\\":true}\", \"DataPrepJsonString\": \"{\\\\\\\"training_data\\\\\\\": \\\\\\\"{\\\\\\\\\\\\\\\"blocks\\\\\\\\\\\\\\\": [{\\\\\\\\\\\\\\\"id\\\\\\\\\\\\\\\": \\\\\\\\\\\\\\\"b28f3668-34c2-4a00-b445-db6ca2727f0e\\\\\\\\\\\\\\\", \\\\\\\\\\\\\\\"type\\\\\\\\\\\\\\\": \\\\\\\\\\\\\\\"Microsoft.DPrep.GetDatastoreFilesBlock\\\\\\\\\\\\\\\", \\\\\\\\\\\\\\\"arguments\\\\\\\\\\\\\\\": {\\\\\\\\\\\\\\\"datastores\\\\\\\\\\\\\\\": [{\\\\\\\\\\\\\\\"datastoreName\\\\\\\\\\\\\\\": \\\\\\\\\\\\\\\"workspaceblobstore\\\\\\\\\\\\\\\", \\\\\\\\\\\\\\\"path\\\\\\\\\\\\\\\": \\\\\\\\\\\\\\\"datasets/tabular/mat.csv\\\\\\\\\\\\\\\", \\\\\\\\\\\\\\\"resourceGroup\\\\\\\\\\\\\\\": \\\\\\\\\\\\\\\"AMLAlcohol\\\\\\\\\\\\\\\", \\\\\\\\\\\\\\\"subscription\\\\\\\\\\\\\\\": \\\\\\\\\\\\\\\"2e2771d1-53f9-4787-9bc8-31f23d10d063\\\\\\\\\\\\\\\", \\\\\\\\\\\\\\\"workspaceName\\\\\\\\\\\\\\\": \\\\\\\\\\\\\\\"AMLAlcohol\\\\\\\\\\\\\\\"}]}, \\\\\\\\\\\\\\\"localData\\\\\\\\\\\\\\\": {}, \\\\\\\\\\\\\\\"isEnabled\\\\\\\\\\\\\\\": true, \\\\\\\\\\\\\\\"name\\\\\\\\\\\\\\\": null, \\\\\\\\\\\\\\\"annotation\\\\\\\\\\\\\\\": null}, {\\\\\\\\\\\\\\\"id\\\\\\\\\\\\\\\": \\\\\\\\\\\\\\\"144bc0cf-4b21-42fd-8581-5302a90cbb6c\\\\\\\\\\\\\\\", \\\\\\\\\\\\\\\"type\\\\\\\\\\\\\\\": \\\\\\\\\\\\\\\"Microsoft.DPrep.ParseDelimitedBlock\\\\\\\\\\\\\\\", \\\\\\\\\\\\\\\"arguments\\\\\\\\\\\\\\\": {\\\\\\\\\\\\\\\"columnHeadersMode\\\\\\\\\\\\\\\": 3, \\\\\\\\\\\\\\\"fileEncoding\\\\\\\\\\\\\\\": 0, \\\\\\\\\\\\\\\"handleQuotedLineBreaks\\\\\\\\\\\\\\\": false, \\\\\\\\\\\\\\\"preview\\\\\\\\\\\\\\\": false, \\\\\\\\\\\\\\\"separator\\\\\\\\\\\\\\\": \\\\\\\\\\\\\\\",\\\\\\\\\\\\\\\", \\\\\\\\\\\\\\\"skipRows\\\\\\\\\\\\\\\": 0, \\\\\\\\\\\\\\\"skipRowsMode\\\\\\\\\\\\\\\": 0}, \\\\\\\\\\\\\\\"localData\\\\\\\\\\\\\\\": {}, \\\\\\\\\\\\\\\"isEnabled\\\\\\\\\\\\\\\": true, \\\\\\\\\\\\\\\"name\\\\\\\\\\\\\\\": null, \\\\\\\\\\\\\\\"annotation\\\\\\\\\\\\\\\": null}, {\\\\\\\\\\\\\\\"id\\\\\\\\\\\\\\\": \\\\\\\\\\\\\\\"7f64dacf-898c-4d41-b877-4f9c1ae89085\\\\\\\\\\\\\\\", \\\\\\\\\\\\\\\"type\\\\\\\\\\\\\\\": \\\\\\\\\\\\\\\"Microsoft.DPrep.DropColumnsBlock\\\\\\\\\\\\\\\", \\\\\\\\\\\\\\\"arguments\\\\\\\\\\\\\\\": {\\\\\\\\\\\\\\\"columns\\\\\\\\\\\\\\\": {\\\\\\\\\\\\\\\"type\\\\\\\\\\\\\\\": 0, \\\\\\\\\\\\\\\"details\\\\\\\\\\\\\\\": {\\\\\\\\\\\\\\\"selectedColumns\\\\\\\\\\\\\\\": [\\\\\\\\\\\\\\\"Path\\\\\\\\\\\\\\\"]}}}, \\\\\\\\\\\\\\\"localData\\\\\\\\\\\\\\\": {}, \\\\\\\\\\\\\\\"isEnabled\\\\\\\\\\\\\\\": true, \\\\\\\\\\\\\\\"name\\\\\\\\\\\\\\\": null, \\\\\\\\\\\\\\\"annotation\\\\\\\\\\\\\\\": null}, {\\\\\\\\\\\\\\\"id\\\\\\\\\\\\\\\": \\\\\\\\\\\\\\\"a74c1349-46f2-4d80-8083-0674ec5178d1\\\\\\\\\\\\\\\", \\\\\\\\\\\\\\\"type\\\\\\\\\\\\\\\": \\\\\\\\\\\\\\\"Microsoft.DPrep.SetColumnTypesBlock\\\\\\\\\\\\\\\", \\\\\\\\\\\\\\\"arguments\\\\\\\\\\\\\\\": {\\\\\\\\\\\\\\\"columnConversion\\\\\\\\\\\\\\\": [{\\\\\\\\\\\\\\\"column\\\\\\\\\\\\\\\": {\\\\\\\\\\\\\\\"type\\\\\\\\\\\\\\\": 2, \\\\\\\\\\\\\\\"details\\\\\\\\\\\\\\\": {\\\\\\\\\\\\\\\"selectedColumn\\\\\\\\\\\\\\\": \\\\\\\\\\\\\\\"Column1\\\\\\\\\\\\\\\"}}, \\\\\\\\\\\\\\\"typeProperty\\\\\\\\\\\\\\\": 2}, {\\\\\\\\\\\\\\\"column\\\\\\\\\\\\\\\": {\\\\\\\\\\\\\\\"type\\\\\\\\\\\\\\\": 2, \\\\\\\\\\\\\\\"details\\\\\\\\\\\\\\\": {\\\\\\\\\\\\\\\"selectedColumn\\\\\\\\\\\\\\\": \\\\\\\\\\\\\\\"school\\\\\\\\\\\\\\\"}}, \\\\\\\\\\\\\\\"typeProperty\\\\\\\\\\\\\\\": 2}, {\\\\\\\\\\\\\\\"column\\\\\\\\\\\\\\\": {\\\\\\\\\\\\\\\"type\\\\\\\\\\\\\\\": 2, \\\\\\\\\\\\\\\"details\\\\\\\\\\\\\\\": {\\\\\\\\\\\\\\\"selectedColumn\\\\\\\\\\\\\\\": \\\\\\\\\\\\\\\"sex\\\\\\\\\\\\\\\"}}, \\\\\\\\\\\\\\\"typeProperty\\\\\\\\\\\\\\\": 2}, {\\\\\\\\\\\\\\\"column\\\\\\\\\\\\\\\": {\\\\\\\\\\\\\\\"type\\\\\\\\\\\\\\\": 2, \\\\\\\\\\\\\\\"details\\\\\\\\\\\\\\\": {\\\\\\\\\\\\\\\"selectedColumn\\\\\\\\\\\\\\\": \\\\\\\\\\\\\\\"age\\\\\\\\\\\\\\\"}}, \\\\\\\\\\\\\\\"typeProperty\\\\\\\\\\\\\\\": 2}, {\\\\\\\\\\\\\\\"column\\\\\\\\\\\\\\\": {\\\\\\\\\\\\\\\"type\\\\\\\\\\\\\\\": 2, \\\\\\\\\\\\\\\"details\\\\\\\\\\\\\\\": {\\\\\\\\\\\\\\\"selectedColumn\\\\\\\\\\\\\\\": \\\\\\\\\\\\\\\"address\\\\\\\\\\\\\\\"}}, \\\\\\\\\\\\\\\"typeProperty\\\\\\\\\\\\\\\": 2}, {\\\\\\\\\\\\\\\"column\\\\\\\\\\\\\\\": {\\\\\\\\\\\\\\\"type\\\\\\\\\\\\\\\": 2, \\\\\\\\\\\\\\\"details\\\\\\\\\\\\\\\": {\\\\\\\\\\\\\\\"selectedColumn\\\\\\\\\\\\\\\": \\\\\\\\\\\\\\\"famsize\\\\\\\\\\\\\\\"}}, \\\\\\\\\\\\\\\"typeProperty\\\\\\\\\\\\\\\": 2}, {\\\\\\\\\\\\\\\"column\\\\\\\\\\\\\\\": {\\\\\\\\\\\\\\\"type\\\\\\\\\\\\\\\": 2, \\\\\\\\\\\\\\\"details\\\\\\\\\\\\\\\": {\\\\\\\\\\\\\\\"selectedColumn\\\\\\\\\\\\\\\": \\\\\\\\\\\\\\\"Pstatus\\\\\\\\\\\\\\\"}}, \\\\\\\\\\\\\\\"typeProperty\\\\\\\\\\\\\\\": 2}, {\\\\\\\\\\\\\\\"column\\\\\\\\\\\\\\\": {\\\\\\\\\\\\\\\"type\\\\\\\\\\\\\\\": 2, \\\\\\\\\\\\\\\"details\\\\\\\\\\\\\\\": {\\\\\\\\\\\\\\\"selectedColumn\\\\\\\\\\\\\\\": \\\\\\\\\\\\\\\"Medu\\\\\\\\\\\\\\\"}}, \\\\\\\\\\\\\\\"typeProperty\\\\\\\\\\\\\\\": 2}, {\\\\\\\\\\\\\\\"column\\\\\\\\\\\\\\\": {\\\\\\\\\\\\\\\"type\\\\\\\\\\\\\\\": 2, \\\\\\\\\\\\\\\"details\\\\\\\\\\\\\\\": {\\\\\\\\\\\\\\\"selectedColumn\\\\\\\\\\\\\\\": \\\\\\\\\\\\\\\"Fedu\\\\\\\\\\\\\\\"}}, \\\\\\\\\\\\\\\"typeProperty\\\\\\\\\\\\\\\": 2}, {\\\\\\\\\\\\\\\"column\\\\\\\\\\\\\\\": {\\\\\\\\\\\\\\\"type\\\\\\\\\\\\\\\": 2, \\\\\\\\\\\\\\\"details\\\\\\\\\\\\\\\": {\\\\\\\\\\\\\\\"selectedColumn\\\\\\\\\\\\\\\": \\\\\\\\\\\\\\\"Mjob\\\\\\\\\\\\\\\"}}, \\\\\\\\\\\\\\\"typeProperty\\\\\\\\\\\\\\\": 0}, {\\\\\\\\\\\\\\\"column\\\\\\\\\\\\\\\": {\\\\\\\\\\\\\\\"type\\\\\\\\\\\\\\\": 2, \\\\\\\\\\\\\\\"details\\\\\\\\\\\\\\\": {\\\\\\\\\\\\\\\"selectedColumn\\\\\\\\\\\\\\\": \\\\\\\\\\\\\\\"Fjob\\\\\\\\\\\\\\\"}}, \\\\\\\\\\\\\\\"typeProperty\\\\\\\\\\\\\\\": 0}, {\\\\\\\\\\\\\\\"column\\\\\\\\\\\\\\\": {\\\\\\\\\\\\\\\"type\\\\\\\\\\\\\\\": 2, \\\\\\\\\\\\\\\"details\\\\\\\\\\\\\\\": {\\\\\\\\\\\\\\\"selectedColumn\\\\\\\\\\\\\\\": \\\\\\\\\\\\\\\"reason\\\\\\\\\\\\\\\"}}, \\\\\\\\\\\\\\\"typeProperty\\\\\\\\\\\\\\\": 0}, {\\\\\\\\\\\\\\\"column\\\\\\\\\\\\\\\": {\\\\\\\\\\\\\\\"type\\\\\\\\\\\\\\\": 2, \\\\\\\\\\\\\\\"details\\\\\\\\\\\\\\\": {\\\\\\\\\\\\\\\"selectedColumn\\\\\\\\\\\\\\\": \\\\\\\\\\\\\\\"guardian\\\\\\\\\\\\\\\"}}, \\\\\\\\\\\\\\\"typeProperty\\\\\\\\\\\\\\\": 2}, {\\\\\\\\\\\\\\\"column\\\\\\\\\\\\\\\": {\\\\\\\\\\\\\\\"type\\\\\\\\\\\\\\\": 2, \\\\\\\\\\\\\\\"details\\\\\\\\\\\\\\\": {\\\\\\\\\\\\\\\"selectedColumn\\\\\\\\\\\\\\\": \\\\\\\\\\\\\\\"traveltime\\\\\\\\\\\\\\\"}}, \\\\\\\\\\\\\\\"typeProperty\\\\\\\\\\\\\\\": 2}, {\\\\\\\\\\\\\\\"column\\\\\\\\\\\\\\\": {\\\\\\\\\\\\\\\"type\\\\\\\\\\\\\\\": 2, \\\\\\\\\\\\\\\"details\\\\\\\\\\\\\\\": {\\\\\\\\\\\\\\\"selectedColumn\\\\\\\\\\\\\\\": \\\\\\\\\\\\\\\"studytime\\\\\\\\\\\\\\\"}}, \\\\\\\\\\\\\\\"typeProperty\\\\\\\\\\\\\\\": 2}, {\\\\\\\\\\\\\\\"column\\\\\\\\\\\\\\\": {\\\\\\\\\\\\\\\"type\\\\\\\\\\\\\\\": 2, \\\\\\\\\\\\\\\"details\\\\\\\\\\\\\\\": {\\\\\\\\\\\\\\\"selectedColumn\\\\\\\\\\\\\\\": \\\\\\\\\\\\\\\"failures\\\\\\\\\\\\\\\"}}, \\\\\\\\\\\\\\\"typeProperty\\\\\\\\\\\\\\\": 2}, {\\\\\\\\\\\\\\\"column\\\\\\\\\\\\\\\": {\\\\\\\\\\\\\\\"type\\\\\\\\\\\\\\\": 2, \\\\\\\\\\\\\\\"details\\\\\\\\\\\\\\\": {\\\\\\\\\\\\\\\"selectedColumn\\\\\\\\\\\\\\\": \\\\\\\\\\\\\\\"schoolsup\\\\\\\\\\\\\\\"}}, \\\\\\\\\\\\\\\"typeProperty\\\\\\\\\\\\\\\": 2}, {\\\\\\\\\\\\\\\"column\\\\\\\\\\\\\\\": {\\\\\\\\\\\\\\\"type\\\\\\\\\\\\\\\": 2, \\\\\\\\\\\\\\\"details\\\\\\\\\\\\\\\": {\\\\\\\\\\\\\\\"selectedColumn\\\\\\\\\\\\\\\": \\\\\\\\\\\\\\\"famsup\\\\\\\\\\\\\\\"}}, \\\\\\\\\\\\\\\"typeProperty\\\\\\\\\\\\\\\": 2}, {\\\\\\\\\\\\\\\"column\\\\\\\\\\\\\\\": {\\\\\\\\\\\\\\\"type\\\\\\\\\\\\\\\": 2, \\\\\\\\\\\\\\\"details\\\\\\\\\\\\\\\": {\\\\\\\\\\\\\\\"selectedColumn\\\\\\\\\\\\\\\": \\\\\\\\\\\\\\\"paid\\\\\\\\\\\\\\\"}}, \\\\\\\\\\\\\\\"typeProperty\\\\\\\\\\\\\\\": 2}, {\\\\\\\\\\\\\\\"column\\\\\\\\\\\\\\\": {\\\\\\\\\\\\\\\"type\\\\\\\\\\\\\\\": 2, \\\\\\\\\\\\\\\"details\\\\\\\\\\\\\\\": {\\\\\\\\\\\\\\\"selectedColumn\\\\\\\\\\\\\\\": \\\\\\\\\\\\\\\"activities\\\\\\\\\\\\\\\"}}, \\\\\\\\\\\\\\\"typeProperty\\\\\\\\\\\\\\\": 2}, {\\\\\\\\\\\\\\\"column\\\\\\\\\\\\\\\": {\\\\\\\\\\\\\\\"type\\\\\\\\\\\\\\\": 2, \\\\\\\\\\\\\\\"details\\\\\\\\\\\\\\\": {\\\\\\\\\\\\\\\"selectedColumn\\\\\\\\\\\\\\\": \\\\\\\\\\\\\\\"nursery\\\\\\\\\\\\\\\"}}, \\\\\\\\\\\\\\\"typeProperty\\\\\\\\\\\\\\\": 2}, {\\\\\\\\\\\\\\\"column\\\\\\\\\\\\\\\": {\\\\\\\\\\\\\\\"type\\\\\\\\\\\\\\\": 2, \\\\\\\\\\\\\\\"details\\\\\\\\\\\\\\\": {\\\\\\\\\\\\\\\"selectedColumn\\\\\\\\\\\\\\\": \\\\\\\\\\\\\\\"higher\\\\\\\\\\\\\\\"}}, \\\\\\\\\\\\\\\"typeProperty\\\\\\\\\\\\\\\": 2}, {\\\\\\\\\\\\\\\"column\\\\\\\\\\\\\\\": {\\\\\\\\\\\\\\\"type\\\\\\\\\\\\\\\": 2, \\\\\\\\\\\\\\\"details\\\\\\\\\\\\\\\": {\\\\\\\\\\\\\\\"selectedColumn\\\\\\\\\\\\\\\": \\\\\\\\\\\\\\\"internet\\\\\\\\\\\\\\\"}}, \\\\\\\\\\\\\\\"typeProperty\\\\\\\\\\\\\\\": 2}, {\\\\\\\\\\\\\\\"column\\\\\\\\\\\\\\\": {\\\\\\\\\\\\\\\"type\\\\\\\\\\\\\\\": 2, \\\\\\\\\\\\\\\"details\\\\\\\\\\\\\\\": {\\\\\\\\\\\\\\\"selectedColumn\\\\\\\\\\\\\\\": \\\\\\\\\\\\\\\"romantic\\\\\\\\\\\\\\\"}}, \\\\\\\\\\\\\\\"typeProperty\\\\\\\\\\\\\\\": 2}, {\\\\\\\\\\\\\\\"column\\\\\\\\\\\\\\\": {\\\\\\\\\\\\\\\"type\\\\\\\\\\\\\\\": 2, \\\\\\\\\\\\\\\"details\\\\\\\\\\\\\\\": {\\\\\\\\\\\\\\\"selectedColumn\\\\\\\\\\\\\\\": \\\\\\\\\\\\\\\"famrel\\\\\\\\\\\\\\\"}}, \\\\\\\\\\\\\\\"typeProperty\\\\\\\\\\\\\\\": 2}, {\\\\\\\\\\\\\\\"column\\\\\\\\\\\\\\\": {\\\\\\\\\\\\\\\"type\\\\\\\\\\\\\\\": 2, \\\\\\\\\\\\\\\"details\\\\\\\\\\\\\\\": {\\\\\\\\\\\\\\\"selectedColumn\\\\\\\\\\\\\\\": \\\\\\\\\\\\\\\"freetime\\\\\\\\\\\\\\\"}}, \\\\\\\\\\\\\\\"typeProperty\\\\\\\\\\\\\\\": 2}, {\\\\\\\\\\\\\\\"column\\\\\\\\\\\\\\\": {\\\\\\\\\\\\\\\"type\\\\\\\\\\\\\\\": 2, \\\\\\\\\\\\\\\"details\\\\\\\\\\\\\\\": {\\\\\\\\\\\\\\\"selectedColumn\\\\\\\\\\\\\\\": \\\\\\\\\\\\\\\"goout\\\\\\\\\\\\\\\"}}, \\\\\\\\\\\\\\\"typeProperty\\\\\\\\\\\\\\\": 2}, {\\\\\\\\\\\\\\\"column\\\\\\\\\\\\\\\": {\\\\\\\\\\\\\\\"type\\\\\\\\\\\\\\\": 2, \\\\\\\\\\\\\\\"details\\\\\\\\\\\\\\\": {\\\\\\\\\\\\\\\"selectedColumn\\\\\\\\\\\\\\\": \\\\\\\\\\\\\\\"Dalc\\\\\\\\\\\\\\\"}}, \\\\\\\\\\\\\\\"typeProperty\\\\\\\\\\\\\\\": 2}, {\\\\\\\\\\\\\\\"column\\\\\\\\\\\\\\\": {\\\\\\\\\\\\\\\"type\\\\\\\\\\\\\\\": 2, \\\\\\\\\\\\\\\"details\\\\\\\\\\\\\\\": {\\\\\\\\\\\\\\\"selectedColumn\\\\\\\\\\\\\\\": \\\\\\\\\\\\\\\"Walc\\\\\\\\\\\\\\\"}}, \\\\\\\\\\\\\\\"typeProperty\\\\\\\\\\\\\\\": 2}, {\\\\\\\\\\\\\\\"column\\\\\\\\\\\\\\\": {\\\\\\\\\\\\\\\"type\\\\\\\\\\\\\\\": 2, \\\\\\\\\\\\\\\"details\\\\\\\\\\\\\\\": {\\\\\\\\\\\\\\\"selectedColumn\\\\\\\\\\\\\\\": \\\\\\\\\\\\\\\"health\\\\\\\\\\\\\\\"}}, \\\\\\\\\\\\\\\"typeProperty\\\\\\\\\\\\\\\": 2}, {\\\\\\\\\\\\\\\"column\\\\\\\\\\\\\\\": {\\\\\\\\\\\\\\\"type\\\\\\\\\\\\\\\": 2, \\\\\\\\\\\\\\\"details\\\\\\\\\\\\\\\": {\\\\\\\\\\\\\\\"selectedColumn\\\\\\\\\\\\\\\": \\\\\\\\\\\\\\\"absences\\\\\\\\\\\\\\\"}}, \\\\\\\\\\\\\\\"typeProperty\\\\\\\\\\\\\\\": 2}, {\\\\\\\\\\\\\\\"column\\\\\\\\\\\\\\\": {\\\\\\\\\\\\\\\"type\\\\\\\\\\\\\\\": 2, \\\\\\\\\\\\\\\"details\\\\\\\\\\\\\\\": {\\\\\\\\\\\\\\\"selectedColumn\\\\\\\\\\\\\\\": \\\\\\\\\\\\\\\"G1\\\\\\\\\\\\\\\"}}, \\\\\\\\\\\\\\\"typeProperty\\\\\\\\\\\\\\\": 2}, {\\\\\\\\\\\\\\\"column\\\\\\\\\\\\\\\": {\\\\\\\\\\\\\\\"type\\\\\\\\\\\\\\\": 2, \\\\\\\\\\\\\\\"details\\\\\\\\\\\\\\\": {\\\\\\\\\\\\\\\"selectedColumn\\\\\\\\\\\\\\\": \\\\\\\\\\\\\\\"G2\\\\\\\\\\\\\\\"}}, \\\\\\\\\\\\\\\"typeProperty\\\\\\\\\\\\\\\": 2}, {\\\\\\\\\\\\\\\"column\\\\\\\\\\\\\\\": {\\\\\\\\\\\\\\\"type\\\\\\\\\\\\\\\": 2, \\\\\\\\\\\\\\\"details\\\\\\\\\\\\\\\": {\\\\\\\\\\\\\\\"selectedColumn\\\\\\\\\\\\\\\": \\\\\\\\\\\\\\\"G3\\\\\\\\\\\\\\\"}}, \\\\\\\\\\\\\\\"typeProperty\\\\\\\\\\\\\\\": 2}]}, \\\\\\\\\\\\\\\"localData\\\\\\\\\\\\\\\": {}, \\\\\\\\\\\\\\\"isEnabled\\\\\\\\\\\\\\\": true, \\\\\\\\\\\\\\\"name\\\\\\\\\\\\\\\": null, \\\\\\\\\\\\\\\"annotation\\\\\\\\\\\\\\\": null}, {\\\\\\\\\\\\\\\"id\\\\\\\\\\\\\\\": \\\\\\\\\\\\\\\"49727ab7-ae21-4ecb-8ff9-513836041f6a\\\\\\\\\\\\\\\", \\\\\\\\\\\\\\\"type\\\\\\\\\\\\\\\": \\\\\\\\\\\\\\\"Microsoft.DPrep.DropColumnsBlock\\\\\\\\\\\\\\\", \\\\\\\\\\\\\\\"arguments\\\\\\\\\\\\\\\": {\\\\\\\\\\\\\\\"columns\\\\\\\\\\\\\\\": {\\\\\\\\\\\\\\\"type\\\\\\\\\\\\\\\": 0, \\\\\\\\\\\\\\\"details\\\\\\\\\\\\\\\": {\\\\\\\\\\\\\\\"selectedColumns\\\\\\\\\\\\\\\": [\\\\\\\\\\\\\\\"Mjob\\\\\\\\\\\\\\\", \\\\\\\\\\\\\\\"Fjob\\\\\\\\\\\\\\\", \\\\\\\\\\\\\\\"reason\\\\\\\\\\\\\\\", \\\\\\\\\\\\\\\"nursery\\\\\\\\\\\\\\\"]}}}, \\\\\\\\\\\\\\\"localData\\\\\\\\\\\\\\\": {}, \\\\\\\\\\\\\\\"isEnabled\\\\\\\\\\\\\\\": true, \\\\\\\\\\\\\\\"name\\\\\\\\\\\\\\\": null, \\\\\\\\\\\\\\\"annotation\\\\\\\\\\\\\\\": null}, {\\\\\\\\\\\\\\\"id\\\\\\\\\\\\\\\": \\\\\\\\\\\\\\\"86a5a06f-1b31-4caa-a56e-d25187d7b0f4\\\\\\\\\\\\\\\", \\\\\\\\\\\\\\\"type\\\\\\\\\\\\\\\": \\\\\\\\\\\\\\\"Microsoft.DPrep.TakeSampleBlock\\\\\\\\\\\\\\\", \\\\\\\\\\\\\\\"arguments\\\\\\\\\\\\\\\": {\\\\\\\\\\\\\\\"probability\\\\\\\\\\\\\\\": 0.9, \\\\\\\\\\\\\\\"probabilityLowerBound\\\\\\\\\\\\\\\": 0.0, \\\\\\\\\\\\\\\"seed\\\\\\\\\\\\\\\": 1}, \\\\\\\\\\\\\\\"localData\\\\\\\\\\\\\\\": {}, \\\\\\\\\\\\\\\"isEnabled\\\\\\\\\\\\\\\": true, \\\\\\\\\\\\\\\"name\\\\\\\\\\\\\\\": null, \\\\\\\\\\\\\\\"annotation\\\\\\\\\\\\\\\": null}], \\\\\\\\\\\\\\\"inspectors\\\\\\\\\\\\\\\": [], \\\\\\\\\\\\\\\"meta\\\\\\\\\\\\\\\": {\\\\\\\\\\\\\\\"savedDatasetId\\\\\\\\\\\\\\\": \\\\\\\\\\\\\\\"956d5098-bc41-4bf8-bcd4-efda9197b765\\\\\\\\\\\\\\\", \\\\\\\\\\\\\\\"datasetType\\\\\\\\\\\\\\\": \\\\\\\\\\\\\\\"tabular\\\\\\\\\\\\\\\", \\\\\\\\\\\\\\\"subscriptionId\\\\\\\\\\\\\\\": \\\\\\\\\\\\\\\"2e2771d1-53f9-4787-9bc8-31f23d10d063\\\\\\\\\\\\\\\", \\\\\\\\\\\\\\\"workspaceId\\\\\\\\\\\\\\\": \\\\\\\\\\\\\\\"488c597f-8150-40be-8ffe-40418d86a77e\\\\\\\\\\\\\\\", \\\\\\\\\\\\\\\"workspaceLocation\\\\\\\\\\\\\\\": \\\\\\\\\\\\\\\"northeurope\\\\\\\\\\\\\\\"}}\\\\\\\", \\\\\\\"activities\\\\\\\": 0}\", \"EnableSubsampling\": null, \"runTemplate\": \"AutoML\", \"azureml.runsource\": \"automl\", \"display_task_type\": \"classification\", \"dependencies_versions\": \"{\\\"azureml-train\\\": \\\"1.20.0\\\", \\\"azureml-train-restclients-hyperdrive\\\": \\\"1.20.0\\\", \\\"azureml-train-core\\\": \\\"1.20.0\\\", \\\"azureml-train-automl-client\\\": \\\"1.20.0\\\", \\\"azureml-telemetry\\\": \\\"1.20.0\\\", \\\"azureml-sdk\\\": \\\"1.20.0\\\", \\\"azureml-pipeline\\\": \\\"1.20.0\\\", \\\"azureml-pipeline-steps\\\": \\\"1.20.0\\\", \\\"azureml-pipeline-core\\\": \\\"1.20.0\\\", \\\"azureml-dataset-runtime\\\": \\\"1.20.0\\\", \\\"azureml-dataprep\\\": \\\"2.7.3\\\", \\\"azureml-dataprep-rslex\\\": \\\"1.5.0\\\", \\\"azureml-dataprep-native\\\": \\\"27.0.0\\\", \\\"azureml-core\\\": \\\"1.20.0\\\", \\\"azureml-automl-core\\\": \\\"1.20.0\\\"}\", \"_aml_system_scenario_identification\": \"Remote.Parent\", \"ClientType\": \"SDK\", \"environment_cpu_name\": \"AzureML-AutoML\", \"environment_cpu_label\": \"prod\", \"environment_gpu_name\": \"AzureML-AutoML-GPU\", \"environment_gpu_label\": \"prod\", \"root_attribution\": \"automl\", \"attribution\": \"AutoML\", \"Orchestrator\": \"AutoML\", \"CancelUri\": \"https://northeurope.experiments.azureml.net/jasmine/v1.0/subscriptions/2e2771d1-53f9-4787-9bc8-31f23d10d063/resourceGroups/AMLAlcohol/providers/Microsoft.MachineLearningServices/workspaces/AMLAlcohol/experimentids/6d3266d1-79fe-4538-b572-0f6b522d56cf/cancel/AutoML_54445ab1-a532-4f34-b761-82b6daea772b\", \"ClientSdkVersion\": \"1.20.0.post1\", \"snapshotId\": \"00000000-0000-0000-0000-000000000000\", \"SetupRunId\": \"AutoML_54445ab1-a532-4f34-b761-82b6daea772b_setup\", \"SetupRunContainerId\": \"dcid.AutoML_54445ab1-a532-4f34-b761-82b6daea772b_setup\", \"FeaturizationRunJsonPath\": \"featurizer_container.json\", \"FeaturizationRunId\": \"AutoML_54445ab1-a532-4f34-b761-82b6daea772b_featurize\", \"ProblemInfoJsonString\": \"{\\\"dataset_num_categorical\\\": 0, \\\"is_sparse\\\": true, \\\"subsampling\\\": false, \\\"dataset_classes\\\": 17, \\\"dataset_features\\\": 110, \\\"dataset_samples\\\": 354, \\\"single_frequency_class_detected\\\": true}\", \"ModelExplainRunId\": \"AutoML_54445ab1-a532-4f34-b761-82b6daea772b_ModelExplain\", \"azureml.git.repository_uri\": \"git@github.com:kielczykowski/AI-on-Microsoft-Azure.git\", \"mlflow.source.git.repoURL\": \"git@github.com:kielczykowski/AI-on-Microsoft-Azure.git\", \"azureml.git.branch\": \"master\", \"mlflow.source.git.branch\": \"master\", \"azureml.git.commit\": \"ca2319c40acaa20cb812460122965f4c00115420\", \"mlflow.source.git.commit\": \"ca2319c40acaa20cb812460122965f4c00115420\", \"azureml.git.dirty\": \"False\"}, \"tags\": {\"model_explain_run\": \"best_run\", \"_aml_system_azureml.automlComponent\": \"AutoML\", \"pipeline_id\": \"\", \"score\": \"\", \"predicted_cost\": \"\", \"fit_time\": \"\", \"training_percent\": \"\", \"iteration\": \"\", \"run_preprocessor\": \"\", \"run_algorithm\": \"\", \"automl_best_child_run_id\": \"AutoML_54445ab1-a532-4f34-b761-82b6daea772b_15\", \"model_explain_best_run_child_id\": \"AutoML_54445ab1-a532-4f34-b761-82b6daea772b_15\"}, \"end_time_utc\": \"2021-01-26T18:05:51.703445Z\", \"status\": \"Completed\", \"log_files\": {}, \"log_groups\": [], \"run_duration\": \"0:27:32\", \"run_number\": \"1\", \"run_queued_details\": {\"status\": \"Completed\", \"details\": null}}, \"child_runs\": [{\"run_id\": \"AutoML_54445ab1-a532-4f34-b761-82b6daea772b_0\", \"run_number\": 5, \"metric\": null, \"status\": \"Completed\", \"run_type\": \"azureml.scriptrun\", \"training_percent\": \"100\", \"start_time\": \"2021-01-26T17:47:49.240883Z\", \"end_time\": \"2021-01-26T17:48:40.512034Z\", \"created_time\": \"2021-01-26T17:47:37.795081Z\", \"created_time_dt\": \"2021-01-26T17:47:37.795081Z\", \"duration\": \"0:01:02\", \"iteration\": \"0\", \"goal\": \"accuracy_max\", \"run_name\": \"MaxAbsScaler, LightGBM\", \"run_properties\": \"copy=True\", \"primary_metric\": 0.38402414, \"best_metric\": 0.38402414}, {\"run_id\": \"AutoML_54445ab1-a532-4f34-b761-82b6daea772b_1\", \"run_number\": 6, \"metric\": null, \"status\": \"Completed\", \"run_type\": \"azureml.scriptrun\", \"training_percent\": \"100\", \"start_time\": \"2021-01-26T17:48:52.832128Z\", \"end_time\": \"2021-01-26T17:49:37.505033Z\", \"created_time\": \"2021-01-26T17:48:41.896839Z\", \"created_time_dt\": \"2021-01-26T17:48:41.896839Z\", \"duration\": \"0:00:55\", \"iteration\": \"1\", \"goal\": \"accuracy_max\", \"run_name\": \"MaxAbsScaler, XGBoostClassifier\", \"run_properties\": \"copy=True\", \"primary_metric\": 0.43782696, \"best_metric\": 0.43782696}, {\"run_id\": \"AutoML_54445ab1-a532-4f34-b761-82b6daea772b_2\", \"run_number\": 7, \"metric\": null, \"status\": \"Completed\", \"run_type\": \"azureml.scriptrun\", \"training_percent\": \"100\", \"start_time\": \"2021-01-26T17:49:48.647278Z\", \"end_time\": \"2021-01-26T17:50:30.489009Z\", \"created_time\": \"2021-01-26T17:49:38.874876Z\", \"created_time_dt\": \"2021-01-26T17:49:38.874876Z\", \"duration\": \"0:00:51\", \"iteration\": \"2\", \"goal\": \"accuracy_max\", \"run_name\": \"MaxAbsScaler, RandomForest\", \"run_properties\": \"copy=True\", \"primary_metric\": 0.47726358, \"best_metric\": 0.47726358}, {\"run_id\": \"AutoML_54445ab1-a532-4f34-b761-82b6daea772b_3\", \"run_number\": 8, \"metric\": null, \"status\": \"Completed\", \"run_type\": \"azureml.scriptrun\", \"training_percent\": \"100\", \"start_time\": \"2021-01-26T17:50:42.171606Z\", \"end_time\": \"2021-01-26T17:51:24.395473Z\", \"created_time\": \"2021-01-26T17:50:32.36995Z\", \"created_time_dt\": \"2021-01-26T17:50:32.36995Z\", \"duration\": \"0:00:52\", \"iteration\": \"3\", \"goal\": \"accuracy_max\", \"run_name\": \"MaxAbsScaler, RandomForest\", \"run_properties\": \"copy=True\", \"primary_metric\": 0.32185111, \"best_metric\": 0.47726358}, {\"run_id\": \"AutoML_54445ab1-a532-4f34-b761-82b6daea772b_4\", \"run_number\": 9, \"metric\": null, \"status\": \"Completed\", \"run_type\": \"azureml.scriptrun\", \"training_percent\": \"100\", \"start_time\": \"2021-01-26T17:51:36.996266Z\", \"end_time\": \"2021-01-26T17:52:17.789083Z\", \"created_time\": \"2021-01-26T17:51:26.769278Z\", \"created_time_dt\": \"2021-01-26T17:51:26.769278Z\", \"duration\": \"0:00:51\", \"iteration\": \"4\", \"goal\": \"accuracy_max\", \"run_name\": \"MaxAbsScaler, RandomForest\", \"run_properties\": \"copy=True\", \"primary_metric\": 0.36120724, \"best_metric\": 0.47726358}, {\"run_id\": \"AutoML_54445ab1-a532-4f34-b761-82b6daea772b_5\", \"run_number\": 10, \"metric\": null, \"status\": \"Completed\", \"run_type\": \"azureml.scriptrun\", \"training_percent\": \"100\", \"start_time\": \"2021-01-26T17:52:30.002773Z\", \"end_time\": \"2021-01-26T17:53:12.342088Z\", \"created_time\": \"2021-01-26T17:52:19.961924Z\", \"created_time_dt\": \"2021-01-26T17:52:19.961924Z\", \"duration\": \"0:00:52\", \"iteration\": \"5\", \"goal\": \"accuracy_max\", \"run_name\": \"MaxAbsScaler, RandomForest\", \"run_properties\": \"copy=True\", \"primary_metric\": 0.21734406, \"best_metric\": 0.47726358}, {\"run_id\": \"AutoML_54445ab1-a532-4f34-b761-82b6daea772b_6\", \"run_number\": 11, \"metric\": null, \"status\": \"Completed\", \"run_type\": \"azureml.scriptrun\", \"training_percent\": \"100\", \"start_time\": \"2021-01-26T17:53:25.794739Z\", \"end_time\": \"2021-01-26T17:54:13.840761Z\", \"created_time\": \"2021-01-26T17:53:14.459526Z\", \"created_time_dt\": \"2021-01-26T17:53:14.459526Z\", \"duration\": \"0:00:59\", \"iteration\": \"6\", \"goal\": \"accuracy_max\", \"run_name\": \"SparseNormalizer, XGBoostClassifier\", \"run_properties\": \"<azureml.automl.runtime.shared.model_wrappers.SparseNormalizer object at 0x7f2c9fdc7f60\", \"primary_metric\": 0.41790744, \"best_metric\": 0.47726358}, {\"run_id\": \"AutoML_54445ab1-a532-4f34-b761-82b6daea772b_7\", \"run_number\": 12, \"metric\": null, \"status\": \"Completed\", \"run_type\": \"azureml.scriptrun\", \"training_percent\": \"100\", \"start_time\": \"2021-01-26T17:54:26.168677Z\", \"end_time\": \"2021-01-26T17:55:22.457052Z\", \"created_time\": \"2021-01-26T17:54:16.382485Z\", \"created_time_dt\": \"2021-01-26T17:54:16.382485Z\", \"duration\": \"0:01:06\", \"iteration\": \"7\", \"goal\": \"accuracy_max\", \"run_name\": \"MaxAbsScaler, GradientBoosting\", \"run_properties\": \"copy=True\", \"primary_metric\": 0.35585513, \"best_metric\": 0.47726358}, {\"run_id\": \"AutoML_54445ab1-a532-4f34-b761-82b6daea772b_8\", \"run_number\": 13, \"metric\": null, \"status\": \"Completed\", \"run_type\": \"azureml.scriptrun\", \"training_percent\": \"100\", \"start_time\": \"2021-01-26T17:55:34.741353Z\", \"end_time\": \"2021-01-26T17:56:25.070357Z\", \"created_time\": \"2021-01-26T17:55:24.464347Z\", \"created_time_dt\": \"2021-01-26T17:55:24.464347Z\", \"duration\": \"0:01:00\", \"iteration\": \"8\", \"goal\": \"accuracy_max\", \"run_name\": \"MaxAbsScaler, ExtremeRandomTrees\", \"run_properties\": \"copy=True\", \"primary_metric\": 0.44334004, \"best_metric\": 0.47726358}, {\"run_id\": \"AutoML_54445ab1-a532-4f34-b761-82b6daea772b_9\", \"run_number\": 14, \"metric\": null, \"status\": \"Completed\", \"run_type\": \"azureml.scriptrun\", \"training_percent\": \"100\", \"start_time\": \"2021-01-26T17:56:36.685048Z\", \"end_time\": \"2021-01-26T17:57:21.563899Z\", \"created_time\": \"2021-01-26T17:56:26.596515Z\", \"created_time_dt\": \"2021-01-26T17:56:26.596515Z\", \"duration\": \"0:00:54\", \"iteration\": \"9\", \"goal\": \"accuracy_max\", \"run_name\": \"MaxAbsScaler, LogisticRegression\", \"run_properties\": \"copy=True\", \"primary_metric\": 0.3331992, \"best_metric\": 0.47726358}, {\"run_id\": \"AutoML_54445ab1-a532-4f34-b761-82b6daea772b_10\", \"run_number\": 15, \"metric\": null, \"status\": \"Completed\", \"run_type\": \"azureml.scriptrun\", \"training_percent\": \"100\", \"start_time\": \"2021-01-26T17:57:34.939221Z\", \"end_time\": \"2021-01-26T17:58:20.021604Z\", \"created_time\": \"2021-01-26T17:57:23.506419Z\", \"created_time_dt\": \"2021-01-26T17:57:23.506419Z\", \"duration\": \"0:00:56\", \"iteration\": \"10\", \"goal\": \"accuracy_max\", \"run_name\": \"StandardScalerWrapper, RandomForest\", \"run_properties\": \"<azureml.automl.runtime.shared.model_wrappers.StandardScalerWrapper object at 0x7f73cc1cd2e8\", \"primary_metric\": 0.49975855, \"best_metric\": 0.49975855}, {\"run_id\": \"AutoML_54445ab1-a532-4f34-b761-82b6daea772b_11\", \"run_number\": 16, \"metric\": null, \"status\": \"Completed\", \"run_type\": \"azureml.scriptrun\", \"training_percent\": \"100\", \"start_time\": \"2021-01-26T17:58:32.916586Z\", \"end_time\": \"2021-01-26T17:59:18.123807Z\", \"created_time\": \"2021-01-26T17:58:21.748973Z\", \"created_time_dt\": \"2021-01-26T17:58:21.748973Z\", \"duration\": \"0:00:56\", \"iteration\": \"11\", \"goal\": \"accuracy_max\", \"run_name\": \"SparseNormalizer, XGBoostClassifier\", \"run_properties\": \"<azureml.automl.runtime.shared.model_wrappers.SparseNormalizer object at 0x7f7c800f7ef0\", \"primary_metric\": 0.46020121, \"best_metric\": 0.49975855}, {\"run_id\": \"AutoML_54445ab1-a532-4f34-b761-82b6daea772b_12\", \"run_number\": 17, \"metric\": null, \"status\": \"Completed\", \"run_type\": \"azureml.scriptrun\", \"training_percent\": \"100\", \"start_time\": \"2021-01-26T18:00:18.59269Z\", \"end_time\": \"2021-01-26T18:01:00.625369Z\", \"created_time\": \"2021-01-26T17:59:19.797161Z\", \"created_time_dt\": \"2021-01-26T17:59:19.797161Z\", \"duration\": \"0:01:40\", \"iteration\": \"12\", \"goal\": \"accuracy_max\", \"run_name\": \"MaxAbsScaler, LightGBM\", \"run_properties\": \"copy=True\", \"primary_metric\": 0.27686117, \"best_metric\": 0.49975855}, {\"run_id\": \"AutoML_54445ab1-a532-4f34-b761-82b6daea772b_13\", \"run_number\": 18, \"metric\": null, \"status\": \"Completed\", \"run_type\": \"azureml.scriptrun\", \"training_percent\": \"100\", \"start_time\": \"2021-01-26T18:01:15.134304Z\", \"end_time\": \"2021-01-26T18:02:00.654283Z\", \"created_time\": \"2021-01-26T18:01:03.603702Z\", \"created_time_dt\": \"2021-01-26T18:01:03.603702Z\", \"duration\": \"0:00:57\", \"iteration\": \"13\", \"goal\": \"accuracy_max\", \"run_name\": \"StandardScalerWrapper, LightGBM\", \"run_properties\": \"<azureml.automl.runtime.shared.model_wrappers.StandardScalerWrapper object at 0x7f3bb68fb8d0\", \"primary_metric\": 0.35585513, \"best_metric\": 0.49975855}, {\"run_id\": \"AutoML_54445ab1-a532-4f34-b761-82b6daea772b_14\", \"run_number\": 19, \"metric\": null, \"status\": \"Completed\", \"run_type\": \"azureml.scriptrun\", \"training_percent\": \"100\", \"start_time\": \"2021-01-26T18:02:14.99716Z\", \"end_time\": \"2021-01-26T18:03:18.356638Z\", \"created_time\": \"2021-01-26T18:02:03.633692Z\", \"created_time_dt\": \"2021-01-26T18:02:03.633692Z\", \"duration\": \"0:01:14\", \"iteration\": \"14\", \"goal\": \"accuracy_max\", \"run_name\": \"SparseNormalizer, XGBoostClassifier\", \"run_properties\": \"<azureml.automl.runtime.shared.model_wrappers.SparseNormalizer object at 0x7f6e40270128\", \"primary_metric\": 0.43758551, \"best_metric\": 0.49975855}, {\"run_id\": \"AutoML_54445ab1-a532-4f34-b761-82b6daea772b_15\", \"run_number\": 20, \"metric\": null, \"status\": \"Completed\", \"run_type\": \"azureml.scriptrun\", \"training_percent\": \"100\", \"start_time\": \"2021-01-26T18:03:30.449592Z\", \"end_time\": \"2021-01-26T18:04:31.220436Z\", \"created_time\": \"2021-01-26T18:03:19.721757Z\", \"created_time_dt\": \"2021-01-26T18:03:19.721757Z\", \"duration\": \"0:01:11\", \"iteration\": \"15\", \"goal\": \"accuracy_max\", \"run_name\": \"VotingEnsemble\", \"run_properties\": \"classification_labels=None,\\n                              estimators=[('10',\\n                                           Pipeline(memory=None,\\n                                                    steps=[('standardscalerwrapper',\\n                                                            <azureml.automl.runtime.shared.model_wrappers.StandardScalerWrapper object at 0x7f284477c9b0>\", \"primary_metric\": 0.52796781, \"best_metric\": 0.52796781}, {\"run_id\": \"AutoML_54445ab1-a532-4f34-b761-82b6daea772b_16\", \"run_number\": 21, \"metric\": null, \"status\": \"Completed\", \"run_type\": \"azureml.scriptrun\", \"training_percent\": \"100\", \"start_time\": \"2021-01-26T18:04:43.152643Z\", \"end_time\": \"2021-01-26T18:05:46.313886Z\", \"created_time\": \"2021-01-26T18:04:32.49099Z\", \"created_time_dt\": \"2021-01-26T18:04:32.49099Z\", \"duration\": \"0:01:13\", \"iteration\": \"16\", \"goal\": \"accuracy_max\", \"run_name\": \"StackEnsemble\", \"run_properties\": \"base_learners=[('10',\\n                                        Pipeline(memory=None,\\n                                                 steps=[('standardscalerwrapper',\\n                                                         <azureml.automl.runtime.shared.model_wrappers.StandardScalerWrapper object at 0x7ff2338c3748>\", \"primary_metric\": 0.37022133, \"best_metric\": 0.52796781}], \"children_metrics\": {\"categories\": [0], \"series\": {\"AUC_micro\": [{\"categories\": [\"0\", \"1\", \"2\", \"3\", \"4\", \"5\", \"6\", \"7\", \"8\", \"9\", \"10\", \"11\", \"12\", \"13\", \"14\", \"15\", \"16\"], \"mode\": \"markers\", \"name\": \"AUC_micro\", \"stepped\": false, \"type\": \"scatter\", \"data\": [0.8302893345991442, 0.8910164508175816, 0.9169331800663134, 0.819452687452684, 0.8498516574800918, 0.7691640297013469, 0.8786155231185908, 0.8307597759595804, 0.8921844269844419, 0.8483507766923472, 0.9226173960260559, 0.8752007219372573, 0.7472017927484425, 0.7962770005343935, 0.8799849271686456, 0.9260230573582341, 0.8052249366419847]}, {\"categories\": [\"0\", \"1\", \"2\", \"3\", \"4\", \"5\", \"6\", \"7\", \"8\", \"9\", \"10\", \"11\", \"12\", \"13\", \"14\", \"15\", \"16\"], \"mode\": \"lines\", \"name\": \"AUC_micro_max\", \"stepped\": true, \"type\": \"scatter\", \"data\": [0.8302893345991442, 0.8910164508175816, 0.9169331800663134, 0.9169331800663134, 0.9169331800663134, 0.9169331800663134, 0.9169331800663134, 0.9169331800663134, 0.9169331800663134, 0.9169331800663134, 0.9226173960260559, 0.9226173960260559, 0.9226173960260559, 0.9226173960260559, 0.9226173960260559, 0.9260230573582341, 0.9260230573582341]}], \"average_precision_score_micro\": [{\"categories\": [\"0\", \"1\", \"2\", \"3\", \"4\", \"5\", \"6\", \"7\", \"8\", \"9\", \"10\", \"11\", \"12\", \"13\", \"14\", \"15\", \"16\"], \"mode\": \"markers\", \"name\": \"average_precision_score_micro\", \"stepped\": false, \"type\": \"scatter\", \"data\": [0.32706160022141184, 0.418338090564531, 0.4620487932370301, 0.28197907994347265, 0.32319020213091254, 0.2121187093557065, 0.413434897339412, 0.34373769156798845, 0.4013340859174484, 0.2953036405654753, 0.48407621639624887, 0.4076516284559535, 0.23557947526535394, 0.3183195389580483, 0.42012978804511486, 0.48532732660669176, 0.34002516118599263]}, {\"categories\": [\"0\", \"1\", \"2\", \"3\", \"4\", \"5\", \"6\", \"7\", \"8\", \"9\", \"10\", \"11\", \"12\", \"13\", \"14\", \"15\", \"16\"], \"mode\": \"lines\", \"name\": \"average_precision_score_micro_max\", \"stepped\": true, \"type\": \"scatter\", \"data\": [0.32706160022141184, 0.418338090564531, 0.4620487932370301, 0.4620487932370301, 0.4620487932370301, 0.4620487932370301, 0.4620487932370301, 0.4620487932370301, 0.4620487932370301, 0.4620487932370301, 0.48407621639624887, 0.48407621639624887, 0.48407621639624887, 0.48407621639624887, 0.48407621639624887, 0.48532732660669176, 0.48532732660669176]}], \"average_precision_score_macro\": [{\"categories\": [\"0\", \"1\", \"2\", \"3\", \"4\", \"5\", \"6\", \"7\", \"8\", \"9\", \"10\", \"11\", \"12\", \"13\", \"14\", \"15\", \"16\"], \"mode\": \"markers\", \"name\": \"average_precision_score_macro\", \"stepped\": false, \"type\": \"scatter\", \"data\": [0.3423491608594558, 0.4914419493066761, 0.5360013980617181, 0.34450071391566617, 0.3857576640557191, 0.32593048954383946, 0.47748908201471496, 0.3238927880489613, 0.4402770013744304, 0.3992893963038454, 0.5521545533045857, 0.4762517338952776, 0.25434567461350877, 0.3632289353451352, 0.45979223653436624, 0.5682760993079883, 0.42344992466058845]}, {\"categories\": [\"0\", \"1\", \"2\", \"3\", \"4\", \"5\", \"6\", \"7\", \"8\", \"9\", \"10\", \"11\", \"12\", \"13\", \"14\", \"15\", \"16\"], \"mode\": \"lines\", \"name\": \"average_precision_score_macro_max\", \"stepped\": true, \"type\": \"scatter\", \"data\": [0.3423491608594558, 0.4914419493066761, 0.5360013980617181, 0.5360013980617181, 0.5360013980617181, 0.5360013980617181, 0.5360013980617181, 0.5360013980617181, 0.5360013980617181, 0.5360013980617181, 0.5521545533045857, 0.5521545533045857, 0.5521545533045857, 0.5521545533045857, 0.5521545533045857, 0.5682760993079883, 0.5682760993079883]}], \"log_loss\": [{\"categories\": [\"0\", \"1\", \"2\", \"3\", \"4\", \"5\", \"6\", \"7\", \"8\", \"9\", \"10\", \"11\", \"12\", \"13\", \"14\", \"15\", \"16\"], \"mode\": \"markers\", \"name\": \"log_loss\", \"stepped\": false, \"type\": \"scatter\", \"data\": [2.4839758195635513, 1.8853198816750953, 1.806462858078337, 2.404077851479476, 2.4930274621388806, 2.562114629997234, 1.983079943138937, 2.2097182589923117, 1.8607799196145165, 2.306552330520197, 1.6639990129716526, 2.026005083604754, 2.5399477451853216, 2.3976723868367946, 1.910868307042696, 1.764394333904514, 2.1355750212685094]}, {\"categories\": [\"0\", \"1\", \"2\", \"3\", \"4\", \"5\", \"6\", \"7\", \"8\", \"9\", \"10\", \"11\", \"12\", \"13\", \"14\", \"15\", \"16\"], \"mode\": \"lines\", \"name\": \"log_loss_min\", \"stepped\": true, \"type\": \"scatter\", \"data\": [2.4839758195635513, 1.8853198816750953, 1.806462858078337, 1.806462858078337, 1.806462858078337, 1.806462858078337, 1.806462858078337, 1.806462858078337, 1.806462858078337, 1.806462858078337, 1.6639990129716526, 1.6639990129716526, 1.6639990129716526, 1.6639990129716526, 1.6639990129716526, 1.6639990129716526, 1.6639990129716526]}], \"f1_score_micro\": [{\"categories\": [\"0\", \"1\", \"2\", \"3\", \"4\", \"5\", \"6\", \"7\", \"8\", \"9\", \"10\", \"11\", \"12\", \"13\", \"14\", \"15\", \"16\"], \"mode\": \"markers\", \"name\": \"f1_score_micro\", \"stepped\": false, \"type\": \"scatter\", \"data\": [0.3840241448692153, 0.43782696177062375, 0.47726358148893355, 0.321851106639839, 0.3612072434607646, 0.2173440643863179, 0.41790744466800805, 0.35585513078470826, 0.44334004024144874, 0.33319919517102614, 0.499758551307847, 0.4602012072434608, 0.276861167002012, 0.35585513078470826, 0.4375855130784708, 0.5279678068410463, 0.3702213279678068]}, {\"categories\": [\"0\", \"1\", \"2\", \"3\", \"4\", \"5\", \"6\", \"7\", \"8\", \"9\", \"10\", \"11\", \"12\", \"13\", \"14\", \"15\", \"16\"], \"mode\": \"lines\", \"name\": \"f1_score_micro_max\", \"stepped\": true, \"type\": \"scatter\", \"data\": [0.3840241448692153, 0.43782696177062375, 0.47726358148893355, 0.47726358148893355, 0.47726358148893355, 0.47726358148893355, 0.47726358148893355, 0.47726358148893355, 0.47726358148893355, 0.47726358148893355, 0.499758551307847, 0.499758551307847, 0.499758551307847, 0.499758551307847, 0.499758551307847, 0.5279678068410463, 0.5279678068410463]}], \"precision_score_macro\": [{\"categories\": [\"0\", \"1\", \"2\", \"3\", \"4\", \"5\", \"6\", \"7\", \"8\", \"9\", \"10\", \"11\", \"12\", \"13\", \"14\", \"15\", \"16\"], \"mode\": \"markers\", \"name\": \"precision_score_macro\", \"stepped\": false, \"type\": \"scatter\", \"data\": [0.28480197381983097, 0.43404097985347984, 0.344301134438945, 0.19328595159074918, 0.29248898527942646, 0.16760525422290126, 0.32438702258292584, 0.2333694242848654, 0.30013411191982625, 0.27788467732664157, 0.3859842791306192, 0.33638321078237043, 0.12915734846910337, 0.19783006096289305, 0.33914785694979743, 0.42974626772559094, 0.20540039567058202]}, {\"categories\": [\"0\", \"1\", \"2\", \"3\", \"4\", \"5\", \"6\", \"7\", \"8\", \"9\", \"10\", \"11\", \"12\", \"13\", \"14\", \"15\", \"16\"], \"mode\": \"lines\", \"name\": \"precision_score_macro_max\", \"stepped\": true, \"type\": \"scatter\", \"data\": [0.28480197381983097, 0.43404097985347984, 0.43404097985347984, 0.43404097985347984, 0.43404097985347984, 0.43404097985347984, 0.43404097985347984, 0.43404097985347984, 0.43404097985347984, 0.43404097985347984, 0.43404097985347984, 0.43404097985347984, 0.43404097985347984, 0.43404097985347984, 0.43404097985347984, 0.43404097985347984, 0.43404097985347984]}], \"matthews_correlation\": [{\"categories\": [\"0\", \"1\", \"2\", \"3\", \"4\", \"5\", \"6\", \"7\", \"8\", \"9\", \"10\", \"11\", \"12\", \"13\", \"14\", \"15\", \"16\"], \"mode\": \"markers\", \"name\": \"matthews_correlation\", \"stepped\": false, \"type\": \"scatter\", \"data\": [0.32636252984231584, 0.38724648448624494, 0.4292751246575402, 0.2526780800785869, 0.3056379612856248, 0.1733818328936506, 0.3634291922883234, 0.2938695696140983, 0.390209596513809, 0.27009667548096006, 0.4547799709027558, 0.41097894102653926, 0.20108442965498136, 0.29572996811277363, 0.38358391061231184, 0.4854323404498408, 0.3232381387396844]}, {\"categories\": [\"0\", \"1\", \"2\", \"3\", \"4\", \"5\", \"6\", \"7\", \"8\", \"9\", \"10\", \"11\", \"12\", \"13\", \"14\", \"15\", \"16\"], \"mode\": \"lines\", \"name\": \"matthews_correlation_max\", \"stepped\": true, \"type\": \"scatter\", \"data\": [0.32636252984231584, 0.38724648448624494, 0.4292751246575402, 0.4292751246575402, 0.4292751246575402, 0.4292751246575402, 0.4292751246575402, 0.4292751246575402, 0.4292751246575402, 0.4292751246575402, 0.4547799709027558, 0.4547799709027558, 0.4547799709027558, 0.4547799709027558, 0.4547799709027558, 0.4854323404498408, 0.4854323404498408]}], \"recall_score_micro\": [{\"categories\": [\"0\", \"1\", \"2\", \"3\", \"4\", \"5\", \"6\", \"7\", \"8\", \"9\", \"10\", \"11\", \"12\", \"13\", \"14\", \"15\", \"16\"], \"mode\": \"markers\", \"name\": \"recall_score_micro\", \"stepped\": false, \"type\": \"scatter\", \"data\": [0.3840241448692153, 0.43782696177062375, 0.47726358148893355, 0.321851106639839, 0.3612072434607646, 0.2173440643863179, 0.41790744466800805, 0.35585513078470826, 0.44334004024144874, 0.33319919517102614, 0.499758551307847, 0.4602012072434608, 0.276861167002012, 0.3558551307847082, 0.4375855130784708, 0.5279678068410463, 0.3702213279678068]}, {\"categories\": [\"0\", \"1\", \"2\", \"3\", \"4\", \"5\", \"6\", \"7\", \"8\", \"9\", \"10\", \"11\", \"12\", \"13\", \"14\", \"15\", \"16\"], \"mode\": \"lines\", \"name\": \"recall_score_micro_max\", \"stepped\": true, \"type\": \"scatter\", \"data\": [0.3840241448692153, 0.43782696177062375, 0.47726358148893355, 0.47726358148893355, 0.47726358148893355, 0.47726358148893355, 0.47726358148893355, 0.47726358148893355, 0.47726358148893355, 0.47726358148893355, 0.499758551307847, 0.499758551307847, 0.499758551307847, 0.499758551307847, 0.499758551307847, 0.5279678068410463, 0.5279678068410463]}], \"f1_score_macro\": [{\"categories\": [\"0\", \"1\", \"2\", \"3\", \"4\", \"5\", \"6\", \"7\", \"8\", \"9\", \"10\", \"11\", \"12\", \"13\", \"14\", \"15\", \"16\"], \"mode\": \"markers\", \"name\": \"f1_score_macro\", \"stepped\": false, \"type\": \"scatter\", \"data\": [0.26404156510776716, 0.3708992161071897, 0.32580382498853794, 0.187077700643387, 0.2723167228216855, 0.15480389146356183, 0.30831678984929756, 0.21897548545899137, 0.28890277382289764, 0.2534171736498141, 0.3602845800797938, 0.3183750323349394, 0.11859589581037974, 0.19385515149163032, 0.3165098958990213, 0.39523275946134007, 0.2187567701085295]}, {\"categories\": [\"0\", \"1\", \"2\", \"3\", \"4\", \"5\", \"6\", \"7\", \"8\", \"9\", \"10\", \"11\", \"12\", \"13\", \"14\", \"15\", \"16\"], \"mode\": \"lines\", \"name\": \"f1_score_macro_max\", \"stepped\": true, \"type\": \"scatter\", \"data\": [0.26404156510776716, 0.3708992161071897, 0.3708992161071897, 0.3708992161071897, 0.3708992161071897, 0.3708992161071897, 0.3708992161071897, 0.3708992161071897, 0.3708992161071897, 0.3708992161071897, 0.3708992161071897, 0.3708992161071897, 0.3708992161071897, 0.3708992161071897, 0.3708992161071897, 0.39523275946134007, 0.39523275946134007]}], \"balanced_accuracy\": [{\"categories\": [\"0\", \"1\", \"2\", \"3\", \"4\", \"5\", \"6\", \"7\", \"8\", \"9\", \"10\", \"11\", \"12\", \"13\", \"14\", \"15\", \"16\"], \"mode\": \"markers\", \"name\": \"balanced_accuracy\", \"stepped\": false, \"type\": \"scatter\", \"data\": [0.2965037512091083, 0.38171828039685185, 0.3621808594844309, 0.22705299462442322, 0.29025636142180256, 0.1956752928444105, 0.3329761855208283, 0.23820364556078846, 0.33599755271183845, 0.29027701729487443, 0.3958386993297708, 0.3533275434882578, 0.16210784982213555, 0.2372227983656555, 0.3446545207438064, 0.4286752235859378, 0.27654782519068233]}, {\"categories\": [\"0\", \"1\", \"2\", \"3\", \"4\", \"5\", \"6\", \"7\", \"8\", \"9\", \"10\", \"11\", \"12\", \"13\", \"14\", \"15\", \"16\"], \"mode\": \"lines\", \"name\": \"balanced_accuracy_max\", \"stepped\": true, \"type\": \"scatter\", \"data\": [0.2965037512091083, 0.38171828039685185, 0.38171828039685185, 0.38171828039685185, 0.38171828039685185, 0.38171828039685185, 0.38171828039685185, 0.38171828039685185, 0.38171828039685185, 0.38171828039685185, 0.3958386993297708, 0.3958386993297708, 0.3958386993297708, 0.3958386993297708, 0.3958386993297708, 0.4286752235859378, 0.4286752235859378]}], \"precision_score_weighted\": [{\"categories\": [\"0\", \"1\", \"2\", \"3\", \"4\", \"5\", \"6\", \"7\", \"8\", \"9\", \"10\", \"11\", \"12\", \"13\", \"14\", \"15\", \"16\"], \"mode\": \"markers\", \"name\": \"precision_score_weighted\", \"stepped\": false, \"type\": \"scatter\", \"data\": [0.3983590779888567, 0.5142160729947449, 0.45978780360960403, 0.2787417176539346, 0.39433250150252164, 0.23132915675873425, 0.4211878643311949, 0.34906593213469767, 0.4081424599880335, 0.3441253340891167, 0.48540138929772086, 0.46141446251175217, 0.2003057743787547, 0.2914838238310652, 0.44100240768410154, 0.5327421935730736, 0.290539986826226]}, {\"categories\": [\"0\", \"1\", \"2\", \"3\", \"4\", \"5\", \"6\", \"7\", \"8\", \"9\", \"10\", \"11\", \"12\", \"13\", \"14\", \"15\", \"16\"], \"mode\": \"lines\", \"name\": \"precision_score_weighted_max\", \"stepped\": true, \"type\": \"scatter\", \"data\": [0.3983590779888567, 0.5142160729947449, 0.5142160729947449, 0.5142160729947449, 0.5142160729947449, 0.5142160729947449, 0.5142160729947449, 0.5142160729947449, 0.5142160729947449, 0.5142160729947449, 0.5142160729947449, 0.5142160729947449, 0.5142160729947449, 0.5142160729947449, 0.5142160729947449, 0.5327421935730736, 0.5327421935730736]}], \"accuracy\": [{\"categories\": [\"0\", \"1\", \"2\", \"3\", \"4\", \"5\", \"6\", \"7\", \"8\", \"9\", \"10\", \"11\", \"12\", \"13\", \"14\", \"15\", \"16\"], \"mode\": \"markers\", \"name\": \"accuracy\", \"stepped\": false, \"type\": \"scatter\", \"data\": [0.3840241448692153, 0.43782696177062375, 0.47726358148893355, 0.321851106639839, 0.3612072434607646, 0.2173440643863179, 0.41790744466800805, 0.35585513078470826, 0.44334004024144874, 0.33319919517102614, 0.499758551307847, 0.4602012072434608, 0.276861167002012, 0.3558551307847082, 0.4375855130784708, 0.5279678068410463, 0.3702213279678068]}, {\"categories\": [\"0\", \"1\", \"2\", \"3\", \"4\", \"5\", \"6\", \"7\", \"8\", \"9\", \"10\", \"11\", \"12\", \"13\", \"14\", \"15\", \"16\"], \"mode\": \"lines\", \"name\": \"accuracy_max\", \"stepped\": true, \"type\": \"scatter\", \"data\": [0.3840241448692153, 0.43782696177062375, 0.47726358148893355, 0.47726358148893355, 0.47726358148893355, 0.47726358148893355, 0.47726358148893355, 0.47726358148893355, 0.47726358148893355, 0.47726358148893355, 0.499758551307847, 0.499758551307847, 0.499758551307847, 0.499758551307847, 0.499758551307847, 0.5279678068410463, 0.5279678068410463]}], \"precision_score_micro\": [{\"categories\": [\"0\", \"1\", \"2\", \"3\", \"4\", \"5\", \"6\", \"7\", \"8\", \"9\", \"10\", \"11\", \"12\", \"13\", \"14\", \"15\", \"16\"], \"mode\": \"markers\", \"name\": \"precision_score_micro\", \"stepped\": false, \"type\": \"scatter\", \"data\": [0.3840241448692153, 0.43782696177062375, 0.47726358148893355, 0.321851106639839, 0.3612072434607646, 0.2173440643863179, 0.41790744466800805, 0.35585513078470826, 0.44334004024144874, 0.33319919517102614, 0.499758551307847, 0.4602012072434608, 0.276861167002012, 0.3558551307847082, 0.4375855130784708, 0.5279678068410463, 0.3702213279678068]}, {\"categories\": [\"0\", \"1\", \"2\", \"3\", \"4\", \"5\", \"6\", \"7\", \"8\", \"9\", \"10\", \"11\", \"12\", \"13\", \"14\", \"15\", \"16\"], \"mode\": \"lines\", \"name\": \"precision_score_micro_max\", \"stepped\": true, \"type\": \"scatter\", \"data\": [0.3840241448692153, 0.43782696177062375, 0.47726358148893355, 0.47726358148893355, 0.47726358148893355, 0.47726358148893355, 0.47726358148893355, 0.47726358148893355, 0.47726358148893355, 0.47726358148893355, 0.499758551307847, 0.499758551307847, 0.499758551307847, 0.499758551307847, 0.499758551307847, 0.5279678068410463, 0.5279678068410463]}], \"recall_score_weighted\": [{\"categories\": [\"0\", \"1\", \"2\", \"3\", \"4\", \"5\", \"6\", \"7\", \"8\", \"9\", \"10\", \"11\", \"12\", \"13\", \"14\", \"15\", \"16\"], \"mode\": \"markers\", \"name\": \"recall_score_weighted\", \"stepped\": false, \"type\": \"scatter\", \"data\": [0.3840241448692153, 0.43782696177062375, 0.47726358148893355, 0.321851106639839, 0.3612072434607646, 0.2173440643863179, 0.41790744466800805, 0.35585513078470826, 0.44334004024144874, 0.33319919517102614, 0.499758551307847, 0.4602012072434608, 0.276861167002012, 0.3558551307847082, 0.4375855130784708, 0.5279678068410463, 0.3702213279678068]}, {\"categories\": [\"0\", \"1\", \"2\", \"3\", \"4\", \"5\", \"6\", \"7\", \"8\", \"9\", \"10\", \"11\", \"12\", \"13\", \"14\", \"15\", \"16\"], \"mode\": \"lines\", \"name\": \"recall_score_weighted_max\", \"stepped\": true, \"type\": \"scatter\", \"data\": [0.3840241448692153, 0.43782696177062375, 0.47726358148893355, 0.47726358148893355, 0.47726358148893355, 0.47726358148893355, 0.47726358148893355, 0.47726358148893355, 0.47726358148893355, 0.47726358148893355, 0.499758551307847, 0.499758551307847, 0.499758551307847, 0.499758551307847, 0.499758551307847, 0.5279678068410463, 0.5279678068410463]}], \"AUC_macro\": [{\"categories\": [\"0\", \"1\", \"2\", \"3\", \"4\", \"5\", \"6\", \"7\", \"8\", \"9\", \"10\", \"11\", \"12\", \"13\", \"14\", \"15\", \"16\"], \"mode\": \"markers\", \"name\": \"AUC_macro\", \"stepped\": false, \"type\": \"scatter\", \"data\": [0.7659036747384282, 0.8435657751719547, 0.8999488131449901, 0.7662724626075087, 0.8037054701226438, 0.7209303413510532, 0.8447252455157084, 0.7614751463989717, 0.8675189087728679, 0.8275448097775813, 0.9018961584243769, 0.8422186888824909, 0.6955429117292308, 0.8112315311250885, 0.838392768783461, 0.9042589563105501, 0.7958311096438268]}, {\"categories\": [\"0\", \"1\", \"2\", \"3\", \"4\", \"5\", \"6\", \"7\", \"8\", \"9\", \"10\", \"11\", \"12\", \"13\", \"14\", \"15\", \"16\"], \"mode\": \"lines\", \"name\": \"AUC_macro_max\", \"stepped\": true, \"type\": \"scatter\", \"data\": [0.7659036747384282, 0.8435657751719547, 0.8999488131449901, 0.8999488131449901, 0.8999488131449901, 0.8999488131449901, 0.8999488131449901, 0.8999488131449901, 0.8999488131449901, 0.8999488131449901, 0.9018961584243769, 0.9018961584243769, 0.9018961584243769, 0.9018961584243769, 0.9018961584243769, 0.9042589563105501, 0.9042589563105501]}], \"weighted_accuracy\": [{\"categories\": [\"0\", \"1\", \"2\", \"3\", \"4\", \"5\", \"6\", \"7\", \"8\", \"9\", \"10\", \"11\", \"12\", \"13\", \"14\", \"15\", \"16\"], \"mode\": \"markers\", \"name\": \"weighted_accuracy\", \"stepped\": false, \"type\": \"scatter\", \"data\": [0.4240582134458865, 0.4598955177762763, 0.5381279251096073, 0.3882649556746863, 0.381212295562838, 0.19130869741487572, 0.45088986606771353, 0.4172587686083917, 0.5156267029141868, 0.35332154099961743, 0.5524851879749867, 0.5043925903311125, 0.3720274039202406, 0.44030319389239897, 0.47654050451863766, 0.5789606943139964, 0.4282860825566635]}, {\"categories\": [\"0\", \"1\", \"2\", \"3\", \"4\", \"5\", \"6\", \"7\", \"8\", \"9\", \"10\", \"11\", \"12\", \"13\", \"14\", \"15\", \"16\"], \"mode\": \"lines\", \"name\": \"weighted_accuracy_max\", \"stepped\": true, \"type\": \"scatter\", \"data\": [0.4240582134458865, 0.4598955177762763, 0.5381279251096073, 0.5381279251096073, 0.5381279251096073, 0.5381279251096073, 0.5381279251096073, 0.5381279251096073, 0.5381279251096073, 0.5381279251096073, 0.5524851879749867, 0.5524851879749867, 0.5524851879749867, 0.5524851879749867, 0.5524851879749867, 0.5789606943139964, 0.5789606943139964]}], \"recall_score_macro\": [{\"categories\": [\"0\", \"1\", \"2\", \"3\", \"4\", \"5\", \"6\", \"7\", \"8\", \"9\", \"10\", \"11\", \"12\", \"13\", \"14\", \"15\", \"16\"], \"mode\": \"markers\", \"name\": \"recall_score_macro\", \"stepped\": false, \"type\": \"scatter\", \"data\": [0.2965037512091083, 0.38171828039685185, 0.3621808594844309, 0.22705299462442322, 0.29025636142180256, 0.1956752928444105, 0.3329761855208283, 0.23820364556078846, 0.33599755271183845, 0.29027701729487443, 0.3958386993297708, 0.3533275434882578, 0.16210784982213555, 0.2372227983656555, 0.3446545207438064, 0.4286752235859378, 0.27654782519068233]}, {\"categories\": [\"0\", \"1\", \"2\", \"3\", \"4\", \"5\", \"6\", \"7\", \"8\", \"9\", \"10\", \"11\", \"12\", \"13\", \"14\", \"15\", \"16\"], \"mode\": \"lines\", \"name\": \"recall_score_macro_max\", \"stepped\": true, \"type\": \"scatter\", \"data\": [0.2965037512091083, 0.38171828039685185, 0.38171828039685185, 0.38171828039685185, 0.38171828039685185, 0.38171828039685185, 0.38171828039685185, 0.38171828039685185, 0.38171828039685185, 0.38171828039685185, 0.3958386993297708, 0.3958386993297708, 0.3958386993297708, 0.3958386993297708, 0.3958386993297708, 0.4286752235859378, 0.4286752235859378]}], \"norm_macro_recall\": [{\"categories\": [\"0\", \"1\", \"2\", \"3\", \"4\", \"5\", \"6\", \"7\", \"8\", \"9\", \"10\", \"11\", \"12\", \"13\", \"14\", \"15\", \"16\"], \"mode\": \"markers\", \"name\": \"norm_macro_recall\", \"stepped\": false, \"type\": \"scatter\", \"data\": [0.2711234400520115, 0.37888801674515965, 0.35602603745460887, 0.17553030303030304, 0.29294182008467723, 0.20009486545200836, 0.3340515436944008, 0.21262879977165686, 0.2968490239918811, 0.26720259898831333, 0.3902677084819942, 0.35529121671978814, 0.10803993625422197, 0.18769674769674768, 0.3229196200624772, 0.42102778174206745, 0.23379291343577058]}, {\"categories\": [\"0\", \"1\", \"2\", \"3\", \"4\", \"5\", \"6\", \"7\", \"8\", \"9\", \"10\", \"11\", \"12\", \"13\", \"14\", \"15\", \"16\"], \"mode\": \"lines\", \"name\": \"norm_macro_recall_max\", \"stepped\": true, \"type\": \"scatter\", \"data\": [0.2711234400520115, 0.37888801674515965, 0.37888801674515965, 0.37888801674515965, 0.37888801674515965, 0.37888801674515965, 0.37888801674515965, 0.37888801674515965, 0.37888801674515965, 0.37888801674515965, 0.3902677084819942, 0.3902677084819942, 0.3902677084819942, 0.3902677084819942, 0.3902677084819942, 0.42102778174206745, 0.42102778174206745]}], \"f1_score_weighted\": [{\"categories\": [\"0\", \"1\", \"2\", \"3\", \"4\", \"5\", \"6\", \"7\", \"8\", \"9\", \"10\", \"11\", \"12\", \"13\", \"14\", \"15\", \"16\"], \"mode\": \"markers\", \"name\": \"f1_score_weighted\", \"stepped\": false, \"type\": \"scatter\", \"data\": [0.36149334260801425, 0.4381020323069392, 0.4424770623479371, 0.27152196099221915, 0.36100227696643344, 0.19479899985934335, 0.4019241888893047, 0.3291339579766185, 0.39903968716738963, 0.31751181081154106, 0.46161792290546916, 0.4340518517037881, 0.1941575173010977, 0.28731391345192075, 0.41407898224499184, 0.496662590345285, 0.3102541881921394]}, {\"categories\": [\"0\", \"1\", \"2\", \"3\", \"4\", \"5\", \"6\", \"7\", \"8\", \"9\", \"10\", \"11\", \"12\", \"13\", \"14\", \"15\", \"16\"], \"mode\": \"lines\", \"name\": \"f1_score_weighted_max\", \"stepped\": true, \"type\": \"scatter\", \"data\": [0.36149334260801425, 0.4381020323069392, 0.4424770623479371, 0.4424770623479371, 0.4424770623479371, 0.4424770623479371, 0.4424770623479371, 0.4424770623479371, 0.4424770623479371, 0.4424770623479371, 0.46161792290546916, 0.46161792290546916, 0.46161792290546916, 0.46161792290546916, 0.46161792290546916, 0.496662590345285, 0.496662590345285]}], \"average_precision_score_weighted\": [{\"categories\": [\"0\", \"1\", \"2\", \"3\", \"4\", \"5\", \"6\", \"7\", \"8\", \"9\", \"10\", \"11\", \"12\", \"13\", \"14\", \"15\", \"16\"], \"mode\": \"markers\", \"name\": \"average_precision_score_weighted\", \"stepped\": false, \"type\": \"scatter\", \"data\": [0.4127632397553893, 0.5237499924690896, 0.5737154853281222, 0.40443799504348144, 0.44021525421542573, 0.3561796447614761, 0.5302398673162441, 0.4231864543748893, 0.5070348209594344, 0.42110386285112344, 0.5995845766541195, 0.5264243666616484, 0.32207057745401907, 0.452948252978557, 0.5229873564002896, 0.6116708965970498, 0.46792317806865535]}, {\"categories\": [\"0\", \"1\", \"2\", \"3\", \"4\", \"5\", \"6\", \"7\", \"8\", \"9\", \"10\", \"11\", \"12\", \"13\", \"14\", \"15\", \"16\"], \"mode\": \"lines\", \"name\": \"average_precision_score_weighted_max\", \"stepped\": true, \"type\": \"scatter\", \"data\": [0.4127632397553893, 0.5237499924690896, 0.5737154853281222, 0.5737154853281222, 0.5737154853281222, 0.5737154853281222, 0.5737154853281222, 0.5737154853281222, 0.5737154853281222, 0.5737154853281222, 0.5995845766541195, 0.5995845766541195, 0.5995845766541195, 0.5995845766541195, 0.5995845766541195, 0.6116708965970498, 0.6116708965970498]}], \"AUC_weighted\": [{\"categories\": [\"0\", \"1\", \"2\", \"3\", \"4\", \"5\", \"6\", \"7\", \"8\", \"9\", \"10\", \"11\", \"12\", \"13\", \"14\", \"15\", \"16\"], \"mode\": \"markers\", \"name\": \"AUC_weighted\", \"stepped\": false, \"type\": \"scatter\", \"data\": [0.7978983539871531, 0.8524027384486509, 0.9032269397126893, 0.793363883996913, 0.8144467233897444, 0.7263366343119747, 0.8473516974897418, 0.800459106833844, 0.8802135825365791, 0.8169575114614964, 0.9054034611762436, 0.842839330961139, 0.7076627277214651, 0.8257304848648206, 0.8453705603007455, 0.9091969789912693, 0.7965254749511302]}, {\"categories\": [\"0\", \"1\", \"2\", \"3\", \"4\", \"5\", \"6\", \"7\", \"8\", \"9\", \"10\", \"11\", \"12\", \"13\", \"14\", \"15\", \"16\"], \"mode\": \"lines\", \"name\": \"AUC_weighted_max\", \"stepped\": true, \"type\": \"scatter\", \"data\": [0.7978983539871531, 0.8524027384486509, 0.9032269397126893, 0.9032269397126893, 0.9032269397126893, 0.9032269397126893, 0.9032269397126893, 0.9032269397126893, 0.9032269397126893, 0.9032269397126893, 0.9054034611762436, 0.9054034611762436, 0.9054034611762436, 0.9054034611762436, 0.9054034611762436, 0.9091969789912693, 0.9091969789912693]}]}, \"metricName\": null, \"primaryMetricName\": \"accuracy\", \"showLegend\": false}, \"run_metrics\": [{\"name\": \"experiment_status\", \"run_id\": \"AutoML_54445ab1-a532-4f34-b761-82b6daea772b\", \"categories\": [0, 1, 2, 3, 4, 5, 6, 7, 8, 9, 10, 11, 12, 13, 14], \"series\": [{\"data\": [\"DatasetEvaluation\", \"FeaturesGeneration\", \"DatasetFeaturization\", \"DatasetFeaturizationCompleted\", \"DatasetBalancing\", \"DatasetCrossValidationSplit\", \"ModelSelection\", \"BestRunExplainModel\", \"ModelExplanationDataSetSetup\", \"PickSurrogateModel\", \"EngineeredFeatureExplanations\", \"EngineeredFeatureExplanations\", \"RawFeaturesExplanations\", \"RawFeaturesExplanations\", \"BestRunExplainModel\"]}]}, {\"name\": \"experiment_status_description\", \"run_id\": \"AutoML_54445ab1-a532-4f34-b761-82b6daea772b\", \"categories\": [0, 1, 2, 3, 4, 5, 6, 7, 8, 9, 10, 11, 12, 13, 14], \"series\": [{\"data\": [\"Gathering dataset statistics.\", \"Generating features for the dataset.\", \"Beginning to fit featurizers and featurize the dataset.\", \"Completed fit featurizers and featurizing the dataset.\", \"Performing class balancing sweeping\", \"Generating individually featurized CV splits.\", \"Beginning model selection.\", \"Best run model explanations started\", \"Model explanations data setup completed\", \"Choosing LightGBM as the surrogate model for explanations\", \"Computation of engineered features started\", \"Computation of engineered features completed\", \"Computation of raw features started\", \"Computation of raw features completed\", \"Best run model explanations completed\"]}]}, {\"name\": \"AUC_micro\", \"run_id\": \"AutoML_54445ab1-a532-4f34-b761-82b6daea772b\", \"categories\": [0], \"series\": [{\"data\": [0.9260230573582341]}]}, {\"name\": \"average_precision_score_weighted\", \"run_id\": \"AutoML_54445ab1-a532-4f34-b761-82b6daea772b\", \"categories\": [0], \"series\": [{\"data\": [0.6116708965970498]}]}, {\"name\": \"f1_score_weighted\", \"run_id\": \"AutoML_54445ab1-a532-4f34-b761-82b6daea772b\", \"categories\": [0], \"series\": [{\"data\": [0.496662590345285]}]}, {\"name\": \"AUC_macro\", \"run_id\": \"AutoML_54445ab1-a532-4f34-b761-82b6daea772b\", \"categories\": [0], \"series\": [{\"data\": [0.9042589563105501]}]}, {\"name\": \"average_precision_score_micro\", \"run_id\": \"AutoML_54445ab1-a532-4f34-b761-82b6daea772b\", \"categories\": [0], \"series\": [{\"data\": [0.48532732660669176]}]}, {\"name\": \"AUC_weighted\", \"run_id\": \"AutoML_54445ab1-a532-4f34-b761-82b6daea772b\", \"categories\": [0], \"series\": [{\"data\": [0.9091969789912693]}]}, {\"name\": \"f1_score_micro\", \"run_id\": \"AutoML_54445ab1-a532-4f34-b761-82b6daea772b\", \"categories\": [0], \"series\": [{\"data\": [0.5279678068410463]}]}, {\"name\": \"precision_score_weighted\", \"run_id\": \"AutoML_54445ab1-a532-4f34-b761-82b6daea772b\", \"categories\": [0], \"series\": [{\"data\": [0.5327421935730736]}]}, {\"name\": \"average_precision_score_macro\", \"run_id\": \"AutoML_54445ab1-a532-4f34-b761-82b6daea772b\", \"categories\": [0], \"series\": [{\"data\": [0.5682760993079883]}]}, {\"name\": \"recall_score_weighted\", \"run_id\": \"AutoML_54445ab1-a532-4f34-b761-82b6daea772b\", \"categories\": [0], \"series\": [{\"data\": [0.5279678068410463]}]}, {\"name\": \"recall_score_macro\", \"run_id\": \"AutoML_54445ab1-a532-4f34-b761-82b6daea772b\", \"categories\": [0], \"series\": [{\"data\": [0.4286752235859378]}]}, {\"name\": \"precision_score_micro\", \"run_id\": \"AutoML_54445ab1-a532-4f34-b761-82b6daea772b\", \"categories\": [0], \"series\": [{\"data\": [0.5279678068410463]}]}, {\"name\": \"balanced_accuracy\", \"run_id\": \"AutoML_54445ab1-a532-4f34-b761-82b6daea772b\", \"categories\": [0], \"series\": [{\"data\": [0.4286752235859378]}]}, {\"name\": \"f1_score_macro\", \"run_id\": \"AutoML_54445ab1-a532-4f34-b761-82b6daea772b\", \"categories\": [0], \"series\": [{\"data\": [0.39523275946134007]}]}, {\"name\": \"weighted_accuracy\", \"run_id\": \"AutoML_54445ab1-a532-4f34-b761-82b6daea772b\", \"categories\": [0], \"series\": [{\"data\": [0.5789606943139964]}]}, {\"name\": \"recall_score_micro\", \"run_id\": \"AutoML_54445ab1-a532-4f34-b761-82b6daea772b\", \"categories\": [0], \"series\": [{\"data\": [0.5279678068410463]}]}, {\"name\": \"matthews_correlation\", \"run_id\": \"AutoML_54445ab1-a532-4f34-b761-82b6daea772b\", \"categories\": [0], \"series\": [{\"data\": [0.4854323404498408]}]}, {\"name\": \"precision_score_macro\", \"run_id\": \"AutoML_54445ab1-a532-4f34-b761-82b6daea772b\", \"categories\": [0], \"series\": [{\"data\": [0.42974626772559094]}]}, {\"name\": \"norm_macro_recall\", \"run_id\": \"AutoML_54445ab1-a532-4f34-b761-82b6daea772b\", \"categories\": [0], \"series\": [{\"data\": [0.42102778174206745]}]}, {\"name\": \"log_loss\", \"run_id\": \"AutoML_54445ab1-a532-4f34-b761-82b6daea772b\", \"categories\": [0], \"series\": [{\"data\": [1.764394333904514]}]}, {\"name\": \"accuracy\", \"run_id\": \"AutoML_54445ab1-a532-4f34-b761-82b6daea772b\", \"categories\": [0], \"series\": [{\"data\": [0.5279678068410463]}]}], \"run_logs\": \"\\nRun is completed.\", \"graph\": {}, \"widget_settings\": {\"childWidgetDisplay\": \"popup\", \"send_telemetry\": false, \"log_level\": \"INFO\", \"sdk_version\": \"1.20.0\"}, \"loading\": false}"
     },
     "metadata": {},
     "output_type": "display_data"
    }
   ],
   "source": [
    "from azureml.widgets import RunDetails\n",
    "RunDetails(run).show()"
   ]
  },
  {
   "cell_type": "markdown",
   "id": "sophisticated-convention",
   "metadata": {},
   "source": [
    "#### Now we cen check how long did AML process lasted"
   ]
  },
  {
   "cell_type": "code",
   "execution_count": 28,
   "id": "egyptian-badge",
   "metadata": {},
   "outputs": [
    {
     "name": "stdout",
     "output_type": "stream",
     "text": [
      "Run Timing: --- 1636.0 seconds needed for running the whole Remote AutoML Experiment ---\n"
     ]
    }
   ],
   "source": [
    "import time\n",
    "import datetime as dt\n",
    "\n",
    "run_details = run.get_details()\n",
    "\n",
    "# Like: 2020-01-12T23:11:56.292703Z\n",
    "end_time_utc_str = run_details['endTimeUtc'].split(\".\")[0]\n",
    "start_time_utc_str = run_details['startTimeUtc'].split(\".\")[0]\n",
    "timestamp_end = time.mktime(datetime.strptime(end_time_utc_str, \"%Y-%m-%dT%H:%M:%S\").timetuple())\n",
    "timestamp_start = time.mktime(datetime.strptime(start_time_utc_str, \"%Y-%m-%dT%H:%M:%S\").timetuple())\n",
    "\n",
    "parent_run_time = timestamp_end - timestamp_start\n",
    "print('Run Timing: --- %s seconds needed for running the whole Remote AutoML Experiment ---' % (parent_run_time))"
   ]
  },
  {
   "cell_type": "code",
   "execution_count": 41,
   "id": "varying-convergence",
   "metadata": {},
   "outputs": [],
   "source": [
    "# register model in AML Studio\n",
    "x = run.register_model(\"alcclassificationmodel\")"
   ]
  },
  {
   "cell_type": "code",
   "execution_count": 43,
   "id": "innovative-chuck",
   "metadata": {},
   "outputs": [
    {
     "data": {
      "text/plain": [
       "'model/model.pkl'"
      ]
     },
     "execution_count": 43,
     "metadata": {},
     "output_type": "execute_result"
    }
   ],
   "source": [
    "# download model to local machine\n",
    "os.makedirs('model', exist_ok=True)\n",
    "x.download('model')"
   ]
  },
  {
   "cell_type": "markdown",
   "id": "banner-employment",
   "metadata": {},
   "source": [
    "### In the end let's download best found model"
   ]
  },
  {
   "cell_type": "code",
   "execution_count": 37,
   "id": "acute-crown",
   "metadata": {},
   "outputs": [
    {
     "name": "stderr",
     "output_type": "stream",
     "text": [
      "WARNING:root:The model you attempted to retrieve requires 'azureml-train-automl-runtime' to be installed at '==1.20.0.post1'. Please install 'azureml-train-automl-runtime==1.20.0.post1' (e.g. `pip install azureml-train-automl-runtime==1.20.0.post1`) and then rerun the previous command.\n"
     ]
    },
    {
     "name": "stdout",
     "output_type": "stream",
     "text": [
      "Run(Experiment: school-alcohol-remote-experiment-01-26-2021-18,\n",
      "Id: AutoML_54445ab1-a532-4f34-b761-82b6daea772b_15,\n",
      "Type: azureml.scriptrun,\n",
      "Status: Completed)\n",
      "\n",
      "None\n",
      "\n"
     ]
    },
    {
     "name": "stderr",
     "output_type": "stream",
     "text": [
      "WARNING:urllib3.connectionpool:Retrying (Retry(total=2, connect=2, read=3, redirect=None, status=None)) after connection broken by 'NewConnectionError('<urllib3.connection.VerifiedHTTPSConnection object at 0x7fd7740fbb50>: Failed to establish a new connection: [Errno 111] Connection refused')': /history/v1.0/subscriptions/2e2771d1-53f9-4787-9bc8-31f23d10d063/resourceGroups/AMLAlcohol/providers/Microsoft.MachineLearningServices/workspaces/AMLAlcohol/experimentids/6d3266d1-79fe-4538-b572-0f6b522d56cf/runs/AutoML_54445ab1-a532-4f34-b761-82b6daea772b_1\n"
     ]
    },
    {
     "name": "stdout",
     "output_type": "stream",
     "text": [
      "[['StackEnsemble', 1, 0.3702213279678068], ['VotingEnsemble', 1, 0.5279678068410463], ['XGBoostClassifier', 4, 0.4602012072434608], ['LightGBM', 3, 0.3840241448692153], ['RandomForest', 5, 0.499758551307847], ['LogisticRegression', 1, 0.33319919517102614], ['ExtremeRandomTrees', 1, 0.44334004024144874], ['GradientBoosting', 1, 0.35585513078470826]]\n"
     ]
    }
   ],
   "source": [
    "best_run, fitted_model = run.get_output()\n",
    "print(best_run)\n",
    "print()\n",
    "print(fitted_model)\n",
    "print()\n",
    "print(run.summary())"
   ]
  },
  {
   "cell_type": "markdown",
   "id": "bigger-cutting",
   "metadata": {},
   "source": [
    "## Predictions made with our model\n",
    "\n",
    "Now we can test outcome of our model when using it on new data. Main advantage of this purpose is we can teach model in the cloud and as a outcome we retreive ready model to run on our local machine. With little more labor we can upload it online and create script as a service to make use of it online. In this showcase we will test classifier locally and measure it's accuracy.\n",
    "\n",
    "In first step let's download test set to local machine by converting Dataset.Tabular to pandas.Dataframe object"
   ]
  },
  {
   "cell_type": "code",
   "execution_count": 51,
   "id": "entertaining-machinery",
   "metadata": {},
   "outputs": [
    {
     "ename": "ImportError",
     "evalue": "cannot import name 'pinvh' from 'sklearn.utils.fixes' (/home/mkielczykowski/.local/lib/python3.8/site-packages/sklearn/utils/fixes.py)",
     "output_type": "error",
     "traceback": [
      "\u001b[0;31m--------------------------------------------------------------------\u001b[0m",
      "\u001b[0;31mImportError\u001b[0m                        Traceback (most recent call last)",
      "\u001b[0;32m<ipython-input-51-0d6cb3646100>\u001b[0m in \u001b[0;36m<module>\u001b[0;34m\u001b[0m\n\u001b[0;32m----> 1\u001b[0;31m \u001b[0;32mfrom\u001b[0m \u001b[0msklearn\u001b[0m\u001b[0;34m.\u001b[0m\u001b[0mutils\u001b[0m\u001b[0;34m.\u001b[0m\u001b[0mfixes\u001b[0m \u001b[0;32mimport\u001b[0m \u001b[0mpinvh\u001b[0m\u001b[0;34m\u001b[0m\u001b[0;34m\u001b[0m\u001b[0m\n\u001b[0m\u001b[1;32m      2\u001b[0m \u001b[0;32mimport\u001b[0m \u001b[0mpickle\u001b[0m\u001b[0;34m\u001b[0m\u001b[0;34m\u001b[0m\u001b[0m\n\u001b[1;32m      3\u001b[0m \u001b[0;32mimport\u001b[0m \u001b[0msklearn\u001b[0m\u001b[0;34m\u001b[0m\u001b[0;34m\u001b[0m\u001b[0m\n\u001b[1;32m      4\u001b[0m \u001b[0;32mwith\u001b[0m \u001b[0mopen\u001b[0m\u001b[0;34m(\u001b[0m\u001b[0;34m'model/model.pkl'\u001b[0m\u001b[0;34m,\u001b[0m \u001b[0;34m'rb'\u001b[0m\u001b[0;34m)\u001b[0m \u001b[0;32mas\u001b[0m \u001b[0mfile\u001b[0m\u001b[0;34m:\u001b[0m\u001b[0;34m\u001b[0m\u001b[0;34m\u001b[0m\u001b[0m\n\u001b[1;32m      5\u001b[0m     \u001b[0mpickle_model\u001b[0m \u001b[0;34m=\u001b[0m \u001b[0mpickle\u001b[0m\u001b[0;34m.\u001b[0m\u001b[0mload\u001b[0m\u001b[0;34m(\u001b[0m\u001b[0mfile\u001b[0m\u001b[0;34m)\u001b[0m\u001b[0;34m\u001b[0m\u001b[0;34m\u001b[0m\u001b[0m\n",
      "\u001b[0;31mImportError\u001b[0m: cannot import name 'pinvh' from 'sklearn.utils.fixes' (/home/mkielczykowski/.local/lib/python3.8/site-packages/sklearn/utils/fixes.py)"
     ]
    }
   ],
   "source": [
    "from sklearn.utils.fixes import pinvh\n",
    "import pickle \n",
    "import sklearn\n",
    "with open('model/model.pkl', 'rb') as file:\n",
    "    pickle_model = pickle.load(file)\n",
    "# download test dataset\n",
    "local_test_dataset = test_dataset.to_pandas_dataframe()\n",
    "# drop output variable from test set do we can compare classifier output with real \n",
    "y_test = local_test_dataset.pop('G3')\n",
    "# get other part of train dataset as input\n",
    "x_test = test_dataset"
   ]
  },
  {
   "cell_type": "markdown",
   "id": "considerable-burton",
   "metadata": {},
   "source": [
    "### In the end let's calculate model accuracy"
   ]
  },
  {
   "cell_type": "code",
   "execution_count": 36,
   "id": "olympic-simulation",
   "metadata": {},
   "outputs": [
    {
     "ename": "AttributeError",
     "evalue": "'NoneType' object has no attribute 'predict'",
     "output_type": "error",
     "traceback": [
      "\u001b[0;31m--------------------------------------------------------------------\u001b[0m",
      "\u001b[0;31mAttributeError\u001b[0m                     Traceback (most recent call last)",
      "\u001b[0;32m<ipython-input-36-4fc275fec3c4>\u001b[0m in \u001b[0;36m<module>\u001b[0;34m\u001b[0m\n\u001b[0;32m----> 1\u001b[0;31m \u001b[0my_predictions\u001b[0m \u001b[0;34m=\u001b[0m \u001b[0mfitted_model\u001b[0m\u001b[0;34m.\u001b[0m\u001b[0mpredict\u001b[0m\u001b[0;34m(\u001b[0m\u001b[0mx_test\u001b[0m\u001b[0;34m)\u001b[0m\u001b[0;34m\u001b[0m\u001b[0;34m\u001b[0m\u001b[0m\n\u001b[0m\u001b[1;32m      2\u001b[0m \u001b[0mprint\u001b[0m\u001b[0;34m(\u001b[0m\u001b[0;34m'Accuracy:'\u001b[0m\u001b[0;34m)\u001b[0m\u001b[0;34m\u001b[0m\u001b[0;34m\u001b[0m\u001b[0m\n\u001b[1;32m      3\u001b[0m \u001b[0maccuracy_score\u001b[0m\u001b[0;34m(\u001b[0m\u001b[0my_test\u001b[0m\u001b[0;34m,\u001b[0m \u001b[0my_predictions\u001b[0m\u001b[0;34m)\u001b[0m\u001b[0;34m\u001b[0m\u001b[0;34m\u001b[0m\u001b[0m\n",
      "\u001b[0;31mAttributeError\u001b[0m: 'NoneType' object has no attribute 'predict'"
     ]
    }
   ],
   "source": [
    "y_predictions = fitted_model.predict(x_test)\n",
    "print('Accuracy:')\n",
    "accuracy_score(y_test, y_predictions)"
   ]
  },
  {
   "cell_type": "code",
   "execution_count": null,
   "id": "included-picture",
   "metadata": {},
   "outputs": [],
   "source": []
  }
 ],
 "metadata": {
  "kernelspec": {
   "display_name": "Python 3",
   "language": "python",
   "name": "python3"
  },
  "language_info": {
   "codemirror_mode": {
    "name": "ipython",
    "version": 3
   },
   "file_extension": ".py",
   "mimetype": "text/x-python",
   "name": "python",
   "nbconvert_exporter": "python",
   "pygments_lexer": "ipython3",
   "version": "3.8.5"
  }
 },
 "nbformat": 4,
 "nbformat_minor": 5
}
